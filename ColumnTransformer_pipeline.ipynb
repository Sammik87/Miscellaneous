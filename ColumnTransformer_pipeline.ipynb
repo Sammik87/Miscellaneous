{
 "cells": [
  {
   "cell_type": "code",
   "execution_count": null,
   "id": "63ba0cb8-74a1-4b96-babb-f72380e4f416",
   "metadata": {},
   "outputs": [],
   "source": [
    "import pandas as pd\n",
    "import numpy as np\n",
    "from sklearn.compose import ColumnTransformer\n",
    "from sklearn.preprocessing import OneHotEncoder, StandardScaler\n",
    "from sklearn.decomposition import PCA\n",
    "from sklearn.pipeline import Pipeline\n",
    "from catboost import CatBoostClassifier\n",
    "from sklearn.model_selection import train_test_split\n",
    "import pickle"
   ]
  },
  {
   "cell_type": "markdown",
   "id": "75daa545-84df-4d06-b480-4cb26547d659",
   "metadata": {},
   "source": [
    "# ColumnTransformer и Pipeline"
   ]
  },
  {
   "cell_type": "code",
   "execution_count": null,
   "id": "ebcfbdc4-3e9a-406e-8abf-3364dfc63f0a",
   "metadata": {},
   "outputs": [],
   "source": [
    "# Пример данных (замените на ваши данные)\n",
    "data = {\n",
    "    'feature_num1': [1, 2, 3, 4, 5, 1, 2, 3, 4, 5],\n",
    "    'feature_num2': [10, 20, 30, 40, 50, 10, 20, 30, 40, 50],\n",
    "    'feature_cat': ['A', 'B', 'A', 'C', 'B', 'A', 'B', 'A', 'C', 'B'],\n",
    "    'target': [0, 1, 0, 1, 0, 0, 1, 0, 1, 0]\n",
    "}\n",
    "df = pd.DataFrame(data)\n",
    "X = df.drop('target', axis=1)\n",
    "y = df['target']\n",
    "\n",
    "# Разделение на тренировочный и тестовый наборы\n",
    "X_train, X_test, y_train, y_test = train_test_split(X, y, test_size=0.2, random_state=42)\n",
    "\n",
    "# Определение числовых и категориальных признаков\n",
    "numerical_features = ['feature_num1', 'feature_num2']\n",
    "categorical_features = ['feature_cat']\n",
    "# Создание преобразователей\n",
    "categorical_transformer = Pipeline(steps = [\n",
    "    ('onehot', OneHotEncoder(handle_unknown = 'ignore'))\n",
    "])\n",
    "\n",
    "# Объединение преобразователей\n",
    "preprocessor = ColumnTransformer(\n",
    "    transformers = [\n",
    "        ('num', 'passthrough', numerical_features),  # 'passthrough' для числовых\n",
    "        ('cat', categorical_transformer, categorical_features)\n",
    "    ])\n",
    "\n",
    "# Полный pipeline\n",
    "pipeline = Pipeline(steps=[\n",
    "    ('preprocessor', preprocessor),\n",
    "    ('scaler', StandardScaler()), # Scaler применяется после объединения\n",
    "    ('pca', PCA(n_components=2)),\n",
    "    ('classifier', CatBoostClassifier(iterations=100, verbose=0, random_seed=42))\n",
    "])\n",
    "\n",
    "# Обучение и сохранение -  как в предыдущем примере\n",
    "pipeline.fit(X_train, y_train)\n",
    "with open('trained_pipeline.pkl', 'wb') as file:\n",
    "    pickle.dump(pipeline, file)\n",
    "\n",
    "# Загрузка и использование - как в предыдущем примере\n",
    "with open('trained_pipeline.pkl', 'rb') as file:\n",
    "    loaded_pipeline = pickle.load(file)\n",
    "\n",
    "y_pred = loaded_pipeline.predict(X_test)\n",
    "accuracy = accuracy_score(y_test, y_pred)\n",
    "print(f\"Accuracy (loaded pipeline): {accuracy}\")\n",
    "\n",
    "new_data = pd.DataFrame({'feature_num1': [6], 'feature_num2': [60], 'feature_cat': ['C']})\n",
    "new_prediction = loaded_pipeline.predict(new_data)\n",
    "print(f\"Prediction for new data (loaded pipeline): {new_prediction}\")"
   ]
  },
  {
   "cell_type": "markdown",
   "id": "d973eede-eb42-4225-a95a-4fdb11efc89f",
   "metadata": {},
   "source": [
    "Теперь используется  'passthrough' в ColumnTransformer для числовых признаков.  Это означает, что числовые признаки просто пропускаются через преобразователь без изменений.  После этого StandardScaler применяется ко всему результату преобразования ColumnTransformer (числовые + OHE категориальные).\n",
    "\n",
    "• OneHotEncoder: Он сохранит порядок категорий, которые он встретил в обучающей выборке. Это критически важно, потому что при применении к новым данным он будет использовать тот же порядок категорий, что и при обучении. Неизвестные категории будут обработаны в соответствии с параметром handle_unknown (обычно 'ignore' или 'error').\n",
    "\n",
    "• StandardScaler: Он сохранит вычисленные средние значения и стандартные отклонения для каждого признака (как числовых, так и категориальных после OHE). Новые данные будут центрированы и масштабированы с использованием этих же средних и стандартных отклонений.\n",
    "\n",
    "• PCA: Он сохранит обученные компоненты PCA (собственные векторы и значения). Новые данные будут спроецированы на эти же компоненты.\n",
    "\n",
    "• CatBoostClassifier (или Regressor): Модель CatBoost также сохранит свои внутренние параметры и обученные веса.\n",
    "\n",
    "Поэтому, когда вы применяете сохранённый pipeline к новым данным, он выполняет те же самые преобразования, что и на обучающей выборке, используя те же самые параметры, гарантируя согласованность предсказаний. Это ключевое преимущество использования pipeline для машинного обучения – воспроизводимость и простота применения к новым данным."
   ]
  },
  {
   "cell_type": "markdown",
   "id": "fe209266-b8b1-4dc0-88a7-dbf751981a61",
   "metadata": {},
   "source": [
    "Вы подаёте на вход pipeline одну таблицу (DataFrame в Pandas), содержащую как числовые, так и категориальные столбцы. ColumnTransformer внутри pipeline сам позаботится о разделении данных на числовые и категориальные части, применении OneHotEncoder к категориальным, объединении результатов, StandardScaler и PCA.\n",
    "\n",
    "Критически важно, чтобы:\n",
    "\n",
    "1. Названия столбцов (факторов) в новых данных точно соответствовали названиям столбцов в обучающей выборке. OneHotEncoder и StandardScaler работают с конкретными столбцами, и если названия столбцов не совпадут, то произойдёт ошибка или неверная обработка данных.\n",
    "\n",
    "2. Порядок столбцов может быть не важен (но лучше одинаковый), так как ColumnTransformer явно указывает, к каким столбцам применять какие преобразования. Тем не менее, для лучшей читаемости и предотвращения потенциальных ошибок лучше, чтобы порядок столбцов в новых данных совпадал с порядком в обучающей выборке.\n",
    "\n",
    "3. Типы данных столбцов в новых данных должны соответствовать типам данных в обучающей выборке. Например, если в обучающей выборке категориальный столбец был строкового типа, то в новых данных он тоже должен быть строкового типа.\n",
    "\n",
    "Если все эти условия выполнены, то вы можете подать DataFrame на вход pipeline, и он корректно выполнит все этапы предобработки и сделает предсказание. Если возникнут ошибки, проверьте соответствие названий и типов столбцов. Если в новых данных есть категориальные значения, которых не было в обучающих данных, то поведение будет зависеть от параметра handle_unknown в OneHotEncoder. По умолчанию, если handle_unknown='ignore', то новые категории будут проигнорированы (им будут соответствовать нулевые значения во всех новых фичах). Если handle_unknown='error', то вы получите ошибку."
   ]
  },
  {
   "cell_type": "markdown",
   "id": "8578631e-90b0-44c1-a59c-2fb346ffb3e8",
   "metadata": {},
   "source": [
    "# Использование FunctionTransformer"
   ]
  },
  {
   "cell_type": "code",
   "execution_count": null,
   "id": "396a9301-5fd8-41e7-8836-3ab586176931",
   "metadata": {},
   "outputs": [],
   "source": [
    "import pandas as pd\n",
    "import numpy as np\n",
    "from sklearn.compose import ColumnTransformer\n",
    "from sklearn.preprocessing import OneHotEncoder, StandardScaler\n",
    "from sklearn.decomposition import PCA\n",
    "from sklearn.pipeline import Pipeline\n",
    "from sklearn.preprocessing import FunctionTransformer\n",
    "from catboost import CatBoostClassifier\n",
    "import pickle"
   ]
  },
  {
   "cell_type": "code",
   "execution_count": null,
   "id": "7128e3b0-4cb3-4d3f-84eb-74ade4d44b1c",
   "metadata": {},
   "outputs": [],
   "source": [
    "# ... (данные и разделение на train/test, как в предыдущих примерах) ...\n",
    "\n",
    "# ... (определение числовых и категориальных признаков, как в предыдущих примерах) ...\n",
    "\n",
    "# Пример пользовательской функции (замените на ваши функции)\n",
    "def my_custom_transformation(df):\n",
    "    # Пример: добавление нового признака - квадрат первого числового признака\n",
    "    df['feature_num1_squared'] = df['feature_num1'] ** 2\n",
    "    return df\n",
    "\n",
    "def another_custom_transformation(df):\n",
    "    #Пример: удаление выбросов\n",
    "    df = df[df['feature_num2'] < 55]\n",
    "    return df\n",
    "\n",
    "# Создание преобразователей\n",
    "categorical_transformer = Pipeline(steps=[\n",
    "    ('onehot', OneHotEncoder(handle_unknown='ignore'))\n",
    "])\n",
    "\n",
    "# Объединение преобразователей\n",
    "preprocessor = ColumnTransformer(\n",
    "    transformers=[\n",
    "        ('num', 'passthrough', numerical_features),\n",
    "        ('cat', categorical_transformer, categorical_features)\n",
    "    ])\n",
    "\n",
    "# Полный pipeline с пользовательскими функциями\n",
    "pipeline = Pipeline(steps=[\n",
    "    ('custom_transform1', FunctionTransformer(my_custom_transformation)),\n",
    "    ('custom_transform2', FunctionTransformer(another_custom_transformation)),\n",
    "    ('preprocessor', preprocessor),\n",
    "    ('scaler', StandardScaler()),\n",
    "    ('pca', PCA(n_components=2)),\n",
    "    ('classifier', CatBoostClassifier(iterations=100, verbose=0, random_seed=42))\n",
    "])\n",
    "\n",
    "# Обучение и сохранение (как в предыдущих примерах)\n",
    "pipeline.fit(X_train, y_train)\n",
    "with open('trained_pipeline_with_custom_functions.pkl', 'wb') as file:\n",
    "    pickle.dump(pipeline, file)\n",
    "\n",
    "# Загрузка и использование (как в предыдущих примерах)\n",
    "with open('trained_pipeline_with_custom_functions.pkl', 'rb') as file:\n",
    "    loaded_pipeline = pickle.load(file)\n",
    "\n",
    "y_pred = loaded_pipeline.predict(X_test)\n",
    "accuracy = accuracy_score(y_test, y_pred)\n",
    "print(f\"Accuracy (loaded pipeline): {accuracy}\")\n",
    "\n",
    "new_data = pd.DataFrame({'feature_num1': [6], 'feature_num2': [60], 'feature_cat': ['C']})\n",
    "new_prediction = loaded_pipeline.predict(new_data)\n",
    "print(f\"Prediction for new data (loaded pipeline): {new_prediction}\")"
   ]
  },
  {
   "cell_type": "code",
   "execution_count": null,
   "id": "dc36de3a-d422-41f5-b6e8-4d7385cc5cc9",
   "metadata": {},
   "outputs": [],
   "source": []
  },
  {
   "cell_type": "markdown",
   "id": "650d8528-ac8c-48ee-a6c2-f2bf1dfe8b85",
   "metadata": {},
   "source": [
    "# Отдельный pipeline для предобработки"
   ]
  },
  {
   "cell_type": "code",
   "execution_count": null,
   "id": "65406aa2-e097-4f4c-b67e-b716bebc9e53",
   "metadata": {},
   "outputs": [],
   "source": [
    "# ... (данные и разделение на train/test, как в предыдущих примерах) ...\n",
    "\n",
    "# ... (определение числовых и категориальных признаков, как в предыдущих примерах) ...\n",
    "\n",
    "# Пример пользовательской функции (замените на ваши функции)\n",
    "def my_custom_transformation(df):\n",
    "    # Пример: добавление нового признака - квадрат первого числового признака\n",
    "    df['feature_num1_squared'] = df['feature_num1'] ** 2\n",
    "    return df\n",
    "\n",
    "def another_custom_transformation(df):\n",
    "    #Пример: удаление выбросов\n",
    "    df = df[df['feature_num2'] < 55]\n",
    "    return df\n",
    "\n",
    "custom_preprocessing_pipeline = Pipeline([\n",
    "    ('custom_transform1', FunctionTransformer(my_custom_transformation)),\n",
    "    ('custom_transform2', FunctionTransformer(another_custom_transformation)),\n",
    "])\n",
    "\n",
    "main_pipeline = Pipeline([\n",
    "    ('custom_preprocessor', custom_preprocessing_pipeline),\n",
    "    ('preprocessor', preprocessor), # preprocessor from the previous examples\n",
    "    ('scaler', StandardScaler()),\n",
    "    ('pca', PCA(n_components=2)),\n",
    "    ('classifier', CatBoostClassifier(iterations=100, verbose=0, random_seed=42))\n",
    "])\n",
    "\n",
    "# Обучение, сохранение и загрузка как в предыдущих примерах"
   ]
  },
  {
   "cell_type": "markdown",
   "id": "737566eb-252f-4370-8b0a-e0be17fa1167",
   "metadata": {},
   "source": [
    "# XGBoost:"
   ]
  },
  {
   "cell_type": "code",
   "execution_count": null,
   "id": "99a32d55-455b-4edf-9ff7-1266629c6489",
   "metadata": {},
   "outputs": [],
   "source": [
    "import pandas as pd\n",
    "import numpy as np\n",
    "from sklearn.model_selection import train_test_split\n",
    "from sklearn.preprocessing import OneHotEncoder\n",
    "from sklearn.compose import ColumnTransformer\n",
    "from sklearn.pipeline import Pipeline\n",
    "from xgboost import XGBRegressor\n",
    "\n",
    "# 1. Генерация данных (пример данных с категориальными и числовыми признаками)\n",
    "data = pd.DataFrame({\n",
    "    \"square_meters\": [50, 75, 100, 120, 60],\n",
    "    \"floor\": [1, 5, 10, 15, 3],\n",
    "    \"district\": [\"A\", \"B\", \"A\", \"C\", \"B\"],\n",
    "    \"condition\": [\"good\", \"poor\", \"excellent\", \"good\", \"excellent\"],\n",
    "    \"price\": [3_000_000, 5_500_000, 7_200_000, 10_000_000, 4_000_000]\n",
    "})\n",
    "\n",
    "# 2. Разделение данных на признаки (X) и целевую переменную (y)\n",
    "X = data.drop(columns=\"price\")\n",
    "y = data[\"price\"]\n",
    "\n",
    "# 3. Определяем, какие признаки категориальные, а какие числовые\n",
    "categorical_features = [\"district\", \"condition\"]\n",
    "numerical_features = [\"square_meters\", \"floor\"]\n",
    "\n",
    "# 4. Создание препроцессора (OHE для категориальных и \"передача как есть\" для числовых)\n",
    "preprocessor = ColumnTransformer(\n",
    "    transformers=[\n",
    "        (\"num\", \"passthrough\", numerical_features),  # Числовые передаем как есть\n",
    "        (\"cat\", OneHotEncoder(handle_unknown=\"ignore\"), categorical_features)  # OHE для категориальных\n",
    "    ]\n",
    ")\n",
    "\n",
    "# 5. Создаем модель XGBoost\n",
    "xgb_model = XGBRegressor(n_estimators=100, max_depth=3, learning_rate=0.1)\n",
    "\n",
    "# 6. Объединяем предобработку и модель в единый пайплайн\n",
    "pipeline = Pipeline(steps=[\n",
    "    (\"preprocessor\", preprocessor),\n",
    "    (\"regressor\", xgb_model)\n",
    "])\n",
    "\n",
    "# 7. Разделяем данные на тренировочные и тестовые наборы\n",
    "X_train, X_test, y_train, y_test = train_test_split(X, y, test_size=0.2, random_state=42)\n",
    "\n",
    "# 8. Обучаем модель\n",
    "pipeline.fit(X_train, y_train)\n",
    "\n",
    "# 9. Делаем предсказания на тестовых данных\n",
    "y_pred = pipeline.predict(X_test)\n",
    "\n",
    "# 10. Пример предсказания для нового объекта\n",
    "new_data = pd.DataFrame({\n",
    "    \"square_meters\": [80],\n",
    "    \"floor\": [7],\n",
    "    \"district\": [\"B\"],\n",
    "    \"condition\": [\"good\"]\n",
    "})\n",
    "predicted_price = pipeline.predict(new_data)\n",
    "\n",
    "print(\"Предсказанная цена:\", predicted_price[0])\n"
   ]
  },
  {
   "cell_type": "code",
   "execution_count": 13,
   "id": "d5f47a91-0560-43bf-bfd0-6fdd1c86afbb",
   "metadata": {},
   "outputs": [
    {
     "data": {
      "text/plain": [
       "<Figure size 1000x600 with 0 Axes>"
      ]
     },
     "metadata": {},
     "output_type": "display_data"
    },
    {
     "data": {
      "image/png": "[encoded data removed]",
      "text/plain": [
       "<Figure size 640x480 with 1 Axes>"
      ]
     },
     "metadata": {},
     "output_type": "display_data"
    }
   ],
   "source": [
    "import pandas as pd\n",
    "import numpy as np\n",
    "from sklearn.compose import ColumnTransformer\n",
    "from sklearn.preprocessing import OneHotEncoder\n",
    "from xgboost import XGBRegressor, plot_importance\n",
    "import matplotlib.pyplot as plt\n",
    "\n",
    "# 1. Генерация данных\n",
    "data = pd.DataFrame({\n",
    "    \"square_meters\": [50, 75, 100, 120, 60],\n",
    "    \"floor\": [1, 5, 10, 15, 3],\n",
    "    \"condition\": [\"cosmetic\", \"euro\", \"premium\", \"cosmetic\", \"euro\"],  # Категориальный признак\n",
    "    \"price\": [3_000_000, 5_500_000, 7_200_000, 10_000_000, 4_000_000]\n",
    "})\n",
    "\n",
    "# 2. Разделение на признаки и целевую переменную\n",
    "X = data.drop(columns=\"price\")\n",
    "y = data[\"price\"]\n",
    "\n",
    "# 3. Определяем категориальные и числовые признаки\n",
    "categorical_features = [\"condition\"]\n",
    "numerical_features = [\"square_meters\", \"floor\"]\n",
    "\n",
    "# 4. Создание ColumnTransformer для OHE\n",
    "preprocessor = ColumnTransformer(\n",
    "    transformers=[\n",
    "        (\"num\", \"passthrough\", numerical_features),  # Числовые передаем как есть\n",
    "        (\"cat\", OneHotEncoder(), categorical_features)  # OHE для категориальных\n",
    "    ]\n",
    ")\n",
    "\n",
    "# 5. Преобразование данных\n",
    "X_transformed = preprocessor.fit_transform(X)\n",
    "\n",
    "# 6. Получение новых имен признаков после OHE\n",
    "ohe_feature_names = preprocessor.named_transformers_[\"cat\"].get_feature_names_out(categorical_features)\n",
    "feature_names = numerical_features + list(ohe_feature_names)\n",
    "\n",
    "# 7. Обучение модели XGBoost\n",
    "xgb_model = XGBRegressor(n_estimators=100, max_depth=3, learning_rate=0.1)\n",
    "xgb_model.fit(X_transformed, y)\n",
    "\n",
    "# 8. Получение важности признаков\n",
    "importance_type = \"gain\"  # Выбираем тип важности: \"weight\", \"gain\", \"cover\"\n",
    "raw_importances = xgb_model.get_booster().get_score(importance_type=importance_type)\n",
    "\n",
    "# 9. Преобразование важностей в DataFrame\n",
    "# Связываем названия признаков с важностями\n",
    "mapped_importances = {feature_names[int(key[1:])]: value for key, value in raw_importances.items()}\n",
    "\n",
    "# 10. Схлопывание важностей для категориальных признаков\n",
    "collapsed_importance = {}\n",
    "for feature, importance in mapped_importances.items():\n",
    "    base_feature = feature.split(\"_\")[0]  # Получаем исходное имя признака\n",
    "    if base_feature in collapsed_importance:\n",
    "        collapsed_importance[base_feature] += importance\n",
    "    else:\n",
    "        collapsed_importance[base_feature] = importance\n",
    "\n",
    "# 11. Преобразование в DataFrame для визуализации\n",
    "collapsed_importance_df = pd.DataFrame(list(collapsed_importance.items()), columns=[\"feature\", \"importance\"])\n",
    "\n",
    "# 12. Визуализация схлопнутой важности\n",
    "plt.figure(figsize=(10, 6))\n",
    "collapsed_importance_df.sort_values(by=\"importance\", ascending=False).plot.barh(x=\"feature\", y=\"importance\", legend=False)\n",
    "plt.title(f\"Feature Importance (Collapsed) using {importance_type}\")\n",
    "plt.xlabel(\"Importance\")\n",
    "plt.ylabel(\"Feature\")\n",
    "plt.show()"
   ]
  },
  {
   "cell_type": "code",
   "execution_count": 19,
   "id": "f63d38f6-ba01-4a59-be31-16097c0d0ac8",
   "metadata": {},
   "outputs": [
    {
     "data": {
      "text/plain": [
       "['square_meters',\n",
       " 'floor',\n",
       " 'condition_cosmetic',\n",
       " 'condition_euro',\n",
       " 'condition_premium']"
      ]
     },
     "execution_count": 19,
     "metadata": {},
     "output_type": "execute_result"
    }
   ],
   "source": [
    "feature_names"
   ]
  },
  {
   "cell_type": "code",
   "execution_count": 28,
   "id": "a5f1152e-8577-4f5e-a185-94a727ed4375",
   "metadata": {},
   "outputs": [
    {
     "name": "stdout",
     "output_type": "stream",
     "text": [
      "Размер преобразованной матрицы: (5, 5)\n",
      "Названия признаков после OHE: ['floor', 'square_meters', 'condition_cosmetic', 'condition_euro', 'condition_premium']\n",
      "Важности признаков до схлопывания:\n",
      "floor: 370.0\n"
     ]
    },
    {
     "data": {
      "text/plain": [
       "<Figure size 1000x600 with 0 Axes>"
      ]
     },
     "metadata": {},
     "output_type": "display_data"
    },
    {
     "data": {
      "image/png": "[encoded data removed]",
      "text/plain": [
       "<Figure size 640x480 with 1 Axes>"
      ]
     },
     "metadata": {},
     "output_type": "display_data"
    }
   ],
   "source": [
    "import pandas as pd\n",
    "import numpy as np\n",
    "from sklearn.compose import ColumnTransformer\n",
    "from sklearn.preprocessing import OneHotEncoder\n",
    "from xgboost import XGBRegressor, plot_importance\n",
    "import matplotlib.pyplot as plt\n",
    "\n",
    "# 1. Создаем искусственный набор данных\n",
    "data = pd.DataFrame({\n",
    "    \"floor\": [1, 5, 10, 15, 3],\n",
    "    \"square_meters\": [50, 75, 100, 120, 60],\n",
    "    \"condition\": [\"cosmetic\", \"euro\", \"premium\", \"cosmetic\", \"euro\"],  # Категориальный признак\n",
    "    \"price\": [3_000_000, 5_500_000, 7_200_000, 10_000_000, 4_000_000]\n",
    "})\n",
    "\n",
    "# 2. Разделение на признаки и целевую переменную\n",
    "X = data.drop(columns=\"price\")\n",
    "y = data[\"price\"]\n",
    "\n",
    "# 3. Определяем категориальные и числовые признаки\n",
    "categorical_features = [\"condition\"]\n",
    "numerical_features = [\"floor\", \"square_meters\"]\n",
    "\n",
    "# 4. Создание ColumnTransformer для OHE\n",
    "preprocessor = ColumnTransformer(\n",
    "    transformers=[\n",
    "        (\"num\", \"passthrough\", numerical_features),  # Числовые признаки передаем как есть\n",
    "        (\"cat\", OneHotEncoder(sparse_output=False), categorical_features)  # OHE для категориальных\n",
    "    ]\n",
    ")\n",
    "\n",
    "# 5. Преобразование данных\n",
    "X_transformed = preprocessor.fit_transform(X)\n",
    "\n",
    "# Получение новых имен признаков после OHE\n",
    "ohe_feature_names = preprocessor.named_transformers_[\"cat\"].get_feature_names_out(categorical_features)\n",
    "feature_names = numerical_features + list(ohe_feature_names)\n",
    "\n",
    "# Проверяем размерность\n",
    "print(\"Размер преобразованной матрицы:\", X_transformed.shape)\n",
    "print(\"Названия признаков после OHE:\", feature_names)\n",
    "\n",
    "# 6. Обучение модели XGBoost\n",
    "xgb_model = XGBRegressor(n_estimators=100, max_depth=6, learning_rate=0.1, random_state=42)\n",
    "xgb_model.fit(X_transformed, y)\n",
    "\n",
    "# 7. Получение важности признаков\n",
    "importance_type = \"weight\"  # Тип важности: weight, gain, cover\n",
    "raw_importances = xgb_model.get_booster().get_score(importance_type=importance_type)\n",
    "\n",
    "# Связываем названия признаков с важностями\n",
    "mapped_importances = {feature_names[int(key[1:])]: value for key, value in raw_importances.items()}\n",
    "\n",
    "# Вывод важностей для проверки\n",
    "print(\"Важности признаков до схлопывания:\")\n",
    "for feature, importance in mapped_importances.items():\n",
    "    print(f\"{feature}: {importance}\")\n",
    "\n",
    "# 8. Схлопывание важностей для категориальных признаков\n",
    "collapsed_importance = {}\n",
    "for feature, importance in mapped_importances.items():\n",
    "    base_feature = feature.split(\"_\")[0]  # Получаем исходное имя признака\n",
    "    if base_feature in collapsed_importance:\n",
    "        collapsed_importance[base_feature] += importance\n",
    "    else:\n",
    "        collapsed_importance[base_feature] = importance\n",
    "\n",
    "# Преобразование в DataFrame для визуализации\n",
    "collapsed_importance_df = pd.DataFrame(list(collapsed_importance.items()), columns=[\"feature\", \"importance\"])\n",
    "\n",
    "# 9. Визуализация схлопнутой важности\n",
    "plt.figure(figsize=(10, 6))\n",
    "collapsed_importance_df.sort_values(by=\"importance\", ascending=False).plot.barh(x=\"feature\", y=\"importance\", legend=False)\n",
    "plt.title(f\"Feature Importance (Collapsed) using {importance_type}\")\n",
    "plt.xlabel(\"Importance\")\n",
    "plt.ylabel(\"Feature\")\n",
    "plt.show()"
   ]
  },
  {
   "cell_type": "code",
   "execution_count": 30,
   "id": "63c436bb-2a16-46ea-a6c4-fadf7a5d01fa",
   "metadata": {},
   "outputs": [
    {
     "data": {
      "text/plain": [
       "array([[  1.,  50.,   1.,   0.,   0.],\n",
       "       [  5.,  75.,   0.,   1.,   0.],\n",
       "       [ 10., 100.,   0.,   0.,   1.],\n",
       "       [ 15., 120.,   1.,   0.,   0.],\n",
       "       [  3.,  60.,   0.,   1.,   0.]])"
      ]
     },
     "execution_count": 30,
     "metadata": {},
     "output_type": "execute_result"
    }
   ],
   "source": [
    "X_transformed"
   ]
  },
  {
   "cell_type": "code",
   "execution_count": 24,
   "id": "2e18cd63-73ca-4867-8c7c-14e7b9b40150",
   "metadata": {},
   "outputs": [
    {
     "name": "stdout",
     "output_type": "stream",
     "text": [
      "Форма X_transformed: (5, 5)\n",
      "Пример преобразованных данных:\n",
      "   square_meters  floor  condition_cosmetic  condition_euro  condition_premium\n",
      "0           50.0    1.0                 1.0             0.0                0.0\n",
      "1           75.0    5.0                 0.0             1.0                0.0\n",
      "2          100.0   10.0                 0.0             0.0                1.0\n",
      "3          120.0   15.0                 1.0             0.0                0.0\n",
      "4           60.0    3.0                 0.0             1.0                0.0\n",
      "Важности признаков из XGBoost:\n",
      "{'f0': 425019899904.0}\n",
      "Схлопнутая важность:\n",
      "{'square': 425019899904.0}\n"
     ]
    },
    {
     "data": {
      "image/png": "[encoded data removed]",
      "text/plain": [
       "<Figure size 640x480 with 1 Axes>"
      ]
     },
     "metadata": {},
     "output_type": "display_data"
    }
   ],
   "source": [
    "# Проверяем форму данных после преобразования\n",
    "print(\"Форма X_transformed:\", X_transformed.shape)\n",
    "print(\"Пример преобразованных данных:\")\n",
    "print(pd.DataFrame(X_transformed, columns=feature_names).head())\n",
    "\n",
    "# Убедимся, что все признаки подаются модели\n",
    "xgb_model.fit(X_transformed, y)\n",
    "\n",
    "# Проверка важностей признаков\n",
    "raw_importances = xgb_model.get_booster().get_score(importance_type=\"gain\")\n",
    "\n",
    "# Выводим все, что видит XGBoost\n",
    "print(\"Важности признаков из XGBoost:\")\n",
    "print(raw_importances)\n",
    "\n",
    "# Если важности признаков всё ещё пусты или возвращается только один признак:\n",
    "if not raw_importances:\n",
    "    print(\"XGBoost не видит все признаки. Проверьте формат входных данных.\")\n",
    "\n",
    "# Если всё работает корректно, продолжаем с объединением категориальных признаков\n",
    "mapped_importances = {feature_names[int(key[1:])]: value for key, value in raw_importances.items()}\n",
    "\n",
    "# Схлопываем категории\n",
    "collapsed_importance = {}\n",
    "for feature, importance in mapped_importances.items():\n",
    "    base_feature = feature.split(\"_\")[0]\n",
    "    collapsed_importance[base_feature] = collapsed_importance.get(base_feature, 0) + importance\n",
    "\n",
    "# Вывод для отладки\n",
    "print(\"Схлопнутая важность:\")\n",
    "print(collapsed_importance)\n",
    "\n",
    "# Визуализация\n",
    "collapsed_importance_df = pd.DataFrame(list(collapsed_importance.items()), columns=[\"feature\", \"importance\"])\n",
    "collapsed_importance_df.sort_values(by=\"importance\", ascending=False).plot.barh(x=\"feature\", y=\"importance\", legend=False)\n",
    "plt.title(\"Feature Importance (Collapsed)\")\n",
    "plt.xlabel(\"Importance\")\n",
    "plt.ylabel(\"Feature\")\n",
    "plt.show()"
   ]
  },
  {
   "cell_type": "code",
   "execution_count": null,
   "id": "3ce28c95-47c8-4d26-9177-cb4a30862253",
   "metadata": {},
   "outputs": [],
   "source": []
  }
 ],
 "metadata": {
  "kernelspec": {
   "display_name": "Python 3 (ipykernel)",
   "language": "python",
   "name": "python3"
  },
  "language_info": {
   "codemirror_mode": {
    "name": "ipython",
    "version": 3
   },
   "file_extension": ".py",
   "mimetype": "text/x-python",
   "name": "python",
   "nbconvert_exporter": "python",
   "pygments_lexer": "ipython3",
   "version": "3.12.6"
  }
 },
 "nbformat": 4,
 "nbformat_minor": 5
}
