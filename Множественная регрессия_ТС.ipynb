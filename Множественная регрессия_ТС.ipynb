{
 "cells": [
  {
   "cell_type": "markdown",
   "id": "ec319d30",
   "metadata": {},
   "source": [
    "# Анализ автомобилей Hyundai Solaris в г. Москве и МО\n",
    "\n",
    "# Краткое описание предметной области и исходных данных\n",
    "<font size = 3><div style=\"text-align: justify\">В качестве анализируемой информации выступают данные о ценах предложения на рынке транспортных средств (Hyundai Solaris 2011-2016 годов выпуска) в городе Москве и Московской области. В процессе анализа на 1 этапе было собрано 300 данных о ценах предложения. К основным ценообразующим факторам относятся: год выпуска (хронологический возраст), пробег, тип кузова (седан/хэтчбек), объем двигателя, тип коробки передач (АТ/МТ), состояние автомобиля, цвет кузова, количество владельцев. Факторы, которые не были учтены в силу невозможности их объективного установления: комплектация, дубликат ПТС, наличие серьезных аварий и ремонтов, наличие долгов по штрафам, использование в такси и каршеринге. По всем ценообразующим факторам собрана информация и выгружена в таблицу Excel (.xlsx).\n",
    "Имеется потребность в анализе рынка транспортных средств и ценообразования на нем с целью построения оценочных математических моделей, предсказывающих стоимость транспортных средств в зависимости от основных ценообразующих факторов.</div></font>\n",
    "\n",
    "# Формулировка цели и постановка задач\n",
    "<font size = 3><div style=\"text-align: justify\">**Цель:** создание качественной математической модели для оценки стоимости транспортных средств (Hyundai Solaris) в зависимости от основных ценообразующих факторов.</div></font>\n",
    "\n",
    "<font size = 3>**Задачи:**\n",
    "1. Сбор данных, загрузка в jupyter и их обработка.\n",
    "2. Анализ данных на наличие выбросов.\n",
    "3. Анализ данных на соответствие нормальному закону распределения (построение гистограммы).\n",
    "4. Вывод основных показателей (описательная статистика).\n",
    "4. Анализ данных на наличие существенных отклонений между признаками.\n",
    "5. Поиск и анализ взаимосвязей между ценой и ценообразующими факторами.\n",
    "6. Отбор ценообразующих факторов.\n",
    "7. Постороение модели (обучение).\n",
    "8. Проверка качества модели (тестирование).</font>"
   ]
  },
  {
   "cell_type": "code",
   "execution_count": 263,
   "id": "8b8c3e6c",
   "metadata": {},
   "outputs": [
    {
     "name": "stdout",
     "output_type": "stream",
     "text": [
      "Collecting adtk\n",
      "  Downloading adtk-0.6.2-py3-none-any.whl (60 kB)\n",
      "Requirement already satisfied: pandas>=0.23 in c:\\anaconda3\\lib\\site-packages (from adtk) (1.3.4)\n",
      "Requirement already satisfied: statsmodels>=0.9 in c:\\anaconda3\\lib\\site-packages (from adtk) (0.12.2)\n",
      "Requirement already satisfied: scikit-learn>=0.20 in c:\\anaconda3\\lib\\site-packages (from adtk) (0.24.2)\n",
      "Requirement already satisfied: numpy>=1.15 in c:\\anaconda3\\lib\\site-packages (from adtk) (1.20.3)\n",
      "Requirement already satisfied: packaging>=17.0 in c:\\anaconda3\\lib\\site-packages (from adtk) (21.0)\n",
      "Collecting tabulate>=0.8\n",
      "  Downloading tabulate-0.8.9-py3-none-any.whl (25 kB)\n",
      "Requirement already satisfied: matplotlib>=3.0 in c:\\anaconda3\\lib\\site-packages (from adtk) (3.4.3)\n",
      "Requirement already satisfied: pillow>=6.2.0 in c:\\anaconda3\\lib\\site-packages (from matplotlib>=3.0->adtk) (8.4.0)\n",
      "Requirement already satisfied: kiwisolver>=1.0.1 in c:\\anaconda3\\lib\\site-packages (from matplotlib>=3.0->adtk) (1.3.1)\n",
      "Requirement already satisfied: cycler>=0.10 in c:\\anaconda3\\lib\\site-packages (from matplotlib>=3.0->adtk) (0.10.0)\n",
      "Requirement already satisfied: pyparsing>=2.2.1 in c:\\anaconda3\\lib\\site-packages (from matplotlib>=3.0->adtk) (3.0.4)\n",
      "Requirement already satisfied: python-dateutil>=2.7 in c:\\anaconda3\\lib\\site-packages (from matplotlib>=3.0->adtk) (2.8.2)\n",
      "Requirement already satisfied: six in c:\\anaconda3\\lib\\site-packages (from cycler>=0.10->matplotlib>=3.0->adtk) (1.16.0)\n",
      "Requirement already satisfied: pytz>=2017.3 in c:\\anaconda3\\lib\\site-packages (from pandas>=0.23->adtk) (2021.3)\n",
      "Requirement already satisfied: scipy>=0.19.1 in c:\\anaconda3\\lib\\site-packages (from scikit-learn>=0.20->adtk) (1.7.1)\n",
      "Requirement already satisfied: threadpoolctl>=2.0.0 in c:\\anaconda3\\lib\\site-packages (from scikit-learn>=0.20->adtk) (2.2.0)\n",
      "Requirement already satisfied: joblib>=0.11 in c:\\anaconda3\\lib\\site-packages (from scikit-learn>=0.20->adtk) (1.0.1)\n",
      "Requirement already satisfied: patsy>=0.5 in c:\\anaconda3\\lib\\site-packages (from statsmodels>=0.9->adtk) (0.5.2)\n",
      "Installing collected packages: tabulate, adtk\n",
      "Successfully installed adtk-0.6.2 tabulate-0.8.9\n"
     ]
    }
   ],
   "source": [
    "!pip install adtk"
   ]
  },
  {
   "cell_type": "code",
   "execution_count": 265,
   "id": "1d245e46",
   "metadata": {},
   "outputs": [
    {
     "name": "stdout",
     "output_type": "stream",
     "text": [
      "Collecting pmdarima\n",
      "  Downloading pmdarima-1.8.5-cp39-cp39-win_amd64.whl (601 kB)\n",
      "Requirement already satisfied: scipy>=1.3.2 in c:\\anaconda3\\lib\\site-packages (from pmdarima) (1.7.1)\n",
      "Requirement already satisfied: scikit-learn>=0.22 in c:\\anaconda3\\lib\\site-packages (from pmdarima) (0.24.2)\n",
      "Requirement already satisfied: setuptools!=50.0.0,>=38.6.0 in c:\\anaconda3\\lib\\site-packages (from pmdarima) (58.0.4)\n",
      "Requirement already satisfied: joblib>=0.11 in c:\\anaconda3\\lib\\site-packages (from pmdarima) (1.0.1)\n",
      "Requirement already satisfied: Cython!=0.29.18,>=0.29 in c:\\anaconda3\\lib\\site-packages (from pmdarima) (0.29.24)\n",
      "Requirement already satisfied: pandas>=0.19 in c:\\anaconda3\\lib\\site-packages (from pmdarima) (1.3.4)\n",
      "Requirement already satisfied: numpy>=1.19.3 in c:\\anaconda3\\lib\\site-packages (from pmdarima) (1.20.3)\n",
      "Requirement already satisfied: urllib3 in c:\\anaconda3\\lib\\site-packages (from pmdarima) (1.26.7)\n",
      "Requirement already satisfied: statsmodels!=0.12.0,>=0.11 in c:\\anaconda3\\lib\\site-packages (from pmdarima) (0.12.2)\n",
      "Requirement already satisfied: pytz>=2017.3 in c:\\anaconda3\\lib\\site-packages (from pandas>=0.19->pmdarima) (2021.3)\n",
      "Requirement already satisfied: python-dateutil>=2.7.3 in c:\\anaconda3\\lib\\site-packages (from pandas>=0.19->pmdarima) (2.8.2)\n",
      "Requirement already satisfied: six>=1.5 in c:\\anaconda3\\lib\\site-packages (from python-dateutil>=2.7.3->pandas>=0.19->pmdarima) (1.16.0)\n",
      "Requirement already satisfied: threadpoolctl>=2.0.0 in c:\\anaconda3\\lib\\site-packages (from scikit-learn>=0.22->pmdarima) (2.2.0)\n",
      "Requirement already satisfied: patsy>=0.5 in c:\\anaconda3\\lib\\site-packages (from statsmodels!=0.12.0,>=0.11->pmdarima) (0.5.2)\n",
      "Installing collected packages: pmdarima\n",
      "Successfully installed pmdarima-1.8.5\n"
     ]
    }
   ],
   "source": [
    "!pip install pmdarima"
   ]
  },
  {
   "cell_type": "code",
   "execution_count": 86,
   "id": "8aa0fa87",
   "metadata": {},
   "outputs": [],
   "source": [
    "# Импортируем необходиимые библиотеки\n",
    "import pandas as pd\n",
    "import numpy as np\n",
    "import seaborn as sns\n",
    "import matplotlib.pyplot as plt\n",
    "import math\n",
    "import scipy\n",
    "import scipy.stats as stats\n",
    "import statsmodels.api as sm\n",
    "import pylab\n",
    "from sklearn.linear_model import LinearRegression\n",
    "from sklearn.model_selection import train_test_split\n",
    "import statsmodels.api as sm\n",
    "from operator import itemgetter, attrgetter, methodcaller\n",
    "from statsmodels.stats.outliers_influence import variance_inflation_factor"
   ]
  },
  {
   "cell_type": "code",
   "execution_count": 87,
   "id": "05215879",
   "metadata": {},
   "outputs": [
    {
     "data": {
      "text/plain": [
       "<Figure size 432x288 with 0 Axes>"
      ]
     },
     "metadata": {},
     "output_type": "display_data"
    }
   ],
   "source": [
    "%run f2forecast.py # заранее написанная функци, которая позволяет перебрать все варианты линейных моделей регрессии\n",
    "# данный файл располагается в месте C:\\Users\\skapr\\Documents, именно сюда ссылается юпитер\n",
    "# при запуске данного алгоритма пришлось установить 2 библиотеки adtk и pmdarima"
   ]
  },
  {
   "cell_type": "code",
   "execution_count": 5,
   "id": "b360356b",
   "metadata": {},
   "outputs": [
    {
     "data": {
      "text/html": [
       "<div>\n",
       "<style scoped>\n",
       "    .dataframe tbody tr th:only-of-type {\n",
       "        vertical-align: middle;\n",
       "    }\n",
       "\n",
       "    .dataframe tbody tr th {\n",
       "        vertical-align: top;\n",
       "    }\n",
       "\n",
       "    .dataframe thead th {\n",
       "        text-align: right;\n",
       "    }\n",
       "</style>\n",
       "<table border=\"1\" class=\"dataframe\">\n",
       "  <thead>\n",
       "    <tr style=\"text-align: right;\">\n",
       "      <th></th>\n",
       "      <th>Марка</th>\n",
       "      <th>Модель</th>\n",
       "      <th>Цена</th>\n",
       "      <th>Год</th>\n",
       "      <th>Пробег</th>\n",
       "      <th>Кузов</th>\n",
       "      <th>Двигатель</th>\n",
       "      <th>Коробка</th>\n",
       "      <th>Состояние</th>\n",
       "      <th>Цвет</th>\n",
       "      <th>Владельцы</th>\n",
       "    </tr>\n",
       "  </thead>\n",
       "  <tbody>\n",
       "    <tr>\n",
       "      <th>0</th>\n",
       "      <td>Hyundai</td>\n",
       "      <td>Solaris I</td>\n",
       "      <td>860000</td>\n",
       "      <td>2015</td>\n",
       "      <td>180981</td>\n",
       "      <td>седан</td>\n",
       "      <td>1.6</td>\n",
       "      <td>AT</td>\n",
       "      <td>не требует ремонта</td>\n",
       "      <td>белый</td>\n",
       "      <td>1</td>\n",
       "    </tr>\n",
       "    <tr>\n",
       "      <th>1</th>\n",
       "      <td>Hyundai</td>\n",
       "      <td>Solaris I</td>\n",
       "      <td>749000</td>\n",
       "      <td>2014</td>\n",
       "      <td>113537</td>\n",
       "      <td>седан</td>\n",
       "      <td>1.6</td>\n",
       "      <td>MT</td>\n",
       "      <td>не требует ремонта</td>\n",
       "      <td>серый</td>\n",
       "      <td>3</td>\n",
       "    </tr>\n",
       "    <tr>\n",
       "      <th>2</th>\n",
       "      <td>Hyundai</td>\n",
       "      <td>Solaris I</td>\n",
       "      <td>745000</td>\n",
       "      <td>2012</td>\n",
       "      <td>127639</td>\n",
       "      <td>хэтчбек</td>\n",
       "      <td>1.6</td>\n",
       "      <td>AT</td>\n",
       "      <td>не требует ремонта</td>\n",
       "      <td>фиолетовый</td>\n",
       "      <td>1</td>\n",
       "    </tr>\n",
       "    <tr>\n",
       "      <th>3</th>\n",
       "      <td>Hyundai</td>\n",
       "      <td>Solaris I</td>\n",
       "      <td>515000</td>\n",
       "      <td>2012</td>\n",
       "      <td>225555</td>\n",
       "      <td>седан</td>\n",
       "      <td>1.4</td>\n",
       "      <td>MT</td>\n",
       "      <td>не требует ремонта</td>\n",
       "      <td>черный</td>\n",
       "      <td>4</td>\n",
       "    </tr>\n",
       "    <tr>\n",
       "      <th>4</th>\n",
       "      <td>Hyundai</td>\n",
       "      <td>Solaris I</td>\n",
       "      <td>675000</td>\n",
       "      <td>2012</td>\n",
       "      <td>122000</td>\n",
       "      <td>седан</td>\n",
       "      <td>1.6</td>\n",
       "      <td>AT</td>\n",
       "      <td>не требует ремонта</td>\n",
       "      <td>черный</td>\n",
       "      <td>2</td>\n",
       "    </tr>\n",
       "  </tbody>\n",
       "</table>\n",
       "</div>"
      ],
      "text/plain": [
       "     Марка     Модель    Цена   Год  Пробег    Кузов  Двигатель Коробка  \\\n",
       "0  Hyundai  Solaris I  860000  2015  180981    седан        1.6      AT   \n",
       "1  Hyundai  Solaris I  749000  2014  113537    седан        1.6      MT   \n",
       "2  Hyundai  Solaris I  745000  2012  127639  хэтчбек        1.6      AT   \n",
       "3  Hyundai  Solaris I  515000  2012  225555    седан        1.4      MT   \n",
       "4  Hyundai  Solaris I  675000  2012  122000    седан        1.6      AT   \n",
       "\n",
       "            Состояние        Цвет  Владельцы  \n",
       "0  не требует ремонта       белый          1  \n",
       "1  не требует ремонта       серый          3  \n",
       "2  не требует ремонта  фиолетовый          1  \n",
       "3  не требует ремонта      черный          4  \n",
       "4  не требует ремонта      черный          2  "
      ]
     },
     "execution_count": 5,
     "metadata": {},
     "output_type": "execute_result"
    }
   ],
   "source": [
    "# Загрузка данных о транспортных средствах\n",
    "df=pd.read_excel('D:\\Философия\\Машинное обучение\\Модуль 3\\Регрессия\\ДЗ/Выборка ТС.xlsx', sheet_name = 0)\n",
    "df.head()"
   ]
  },
  {
   "cell_type": "code",
   "execution_count": 6,
   "id": "47ffc870",
   "metadata": {},
   "outputs": [
    {
     "data": {
      "text/html": [
       "<div>\n",
       "<style scoped>\n",
       "    .dataframe tbody tr th:only-of-type {\n",
       "        vertical-align: middle;\n",
       "    }\n",
       "\n",
       "    .dataframe tbody tr th {\n",
       "        vertical-align: top;\n",
       "    }\n",
       "\n",
       "    .dataframe thead th {\n",
       "        text-align: right;\n",
       "    }\n",
       "</style>\n",
       "<table border=\"1\" class=\"dataframe\">\n",
       "  <thead>\n",
       "    <tr style=\"text-align: right;\">\n",
       "      <th></th>\n",
       "      <th>Цена</th>\n",
       "      <th>Год</th>\n",
       "      <th>Пробег</th>\n",
       "      <th>Кузов</th>\n",
       "      <th>Двигатель</th>\n",
       "      <th>Коробка</th>\n",
       "      <th>Цвет</th>\n",
       "      <th>Владельцы</th>\n",
       "    </tr>\n",
       "  </thead>\n",
       "  <tbody>\n",
       "    <tr>\n",
       "      <th>0</th>\n",
       "      <td>860000</td>\n",
       "      <td>2015</td>\n",
       "      <td>180981</td>\n",
       "      <td>седан</td>\n",
       "      <td>1.6</td>\n",
       "      <td>AT</td>\n",
       "      <td>белый</td>\n",
       "      <td>1</td>\n",
       "    </tr>\n",
       "    <tr>\n",
       "      <th>1</th>\n",
       "      <td>749000</td>\n",
       "      <td>2014</td>\n",
       "      <td>113537</td>\n",
       "      <td>седан</td>\n",
       "      <td>1.6</td>\n",
       "      <td>MT</td>\n",
       "      <td>серый</td>\n",
       "      <td>3</td>\n",
       "    </tr>\n",
       "    <tr>\n",
       "      <th>2</th>\n",
       "      <td>745000</td>\n",
       "      <td>2012</td>\n",
       "      <td>127639</td>\n",
       "      <td>хэтчбек</td>\n",
       "      <td>1.6</td>\n",
       "      <td>AT</td>\n",
       "      <td>фиолетовый</td>\n",
       "      <td>1</td>\n",
       "    </tr>\n",
       "    <tr>\n",
       "      <th>3</th>\n",
       "      <td>515000</td>\n",
       "      <td>2012</td>\n",
       "      <td>225555</td>\n",
       "      <td>седан</td>\n",
       "      <td>1.4</td>\n",
       "      <td>MT</td>\n",
       "      <td>черный</td>\n",
       "      <td>4</td>\n",
       "    </tr>\n",
       "    <tr>\n",
       "      <th>4</th>\n",
       "      <td>675000</td>\n",
       "      <td>2012</td>\n",
       "      <td>122000</td>\n",
       "      <td>седан</td>\n",
       "      <td>1.6</td>\n",
       "      <td>AT</td>\n",
       "      <td>черный</td>\n",
       "      <td>2</td>\n",
       "    </tr>\n",
       "  </tbody>\n",
       "</table>\n",
       "</div>"
      ],
      "text/plain": [
       "     Цена   Год  Пробег    Кузов  Двигатель Коробка        Цвет  Владельцы\n",
       "0  860000  2015  180981    седан        1.6      AT       белый          1\n",
       "1  749000  2014  113537    седан        1.6      MT       серый          3\n",
       "2  745000  2012  127639  хэтчбек        1.6      AT  фиолетовый          1\n",
       "3  515000  2012  225555    седан        1.4      MT      черный          4\n",
       "4  675000  2012  122000    седан        1.6      AT      черный          2"
      ]
     },
     "execution_count": 6,
     "metadata": {},
     "output_type": "execute_result"
    }
   ],
   "source": [
    "# Удаляем лишние столбцы (удалим состояние, так как у всех оно одинаковое, а также марку и модель)\n",
    "df=df.drop(['Марка', 'Модель', 'Состояние'], axis=1)\n",
    "df.head()"
   ]
  },
  {
   "cell_type": "code",
   "execution_count": 7,
   "id": "350ddc34",
   "metadata": {},
   "outputs": [
    {
     "data": {
      "text/plain": [
       "Цена         0\n",
       "Год          0\n",
       "Пробег       0\n",
       "Кузов        0\n",
       "Двигатель    0\n",
       "Коробка      0\n",
       "Цвет         0\n",
       "Владельцы    0\n",
       "dtype: int64"
      ]
     },
     "execution_count": 7,
     "metadata": {},
     "output_type": "execute_result"
    }
   ],
   "source": [
    "# Посмотрим пропуски\n",
    "df.isnull().sum()"
   ]
  },
  {
   "cell_type": "code",
   "execution_count": 8,
   "id": "cd54e0f0",
   "metadata": {},
   "outputs": [
    {
     "data": {
      "text/plain": [
       "Цена           int64\n",
       "Год            int64\n",
       "Пробег         int64\n",
       "Кузов         object\n",
       "Двигатель    float64\n",
       "Коробка       object\n",
       "Цвет          object\n",
       "Владельцы      int64\n",
       "dtype: object"
      ]
     },
     "execution_count": 8,
     "metadata": {},
     "output_type": "execute_result"
    }
   ],
   "source": [
    "# Посмотрим типы данных в DataFrame\n",
    "df.dtypes"
   ]
  },
  {
   "cell_type": "code",
   "execution_count": 9,
   "id": "de169deb",
   "metadata": {},
   "outputs": [
    {
     "data": {
      "text/html": [
       "<div>\n",
       "<style scoped>\n",
       "    .dataframe tbody tr th:only-of-type {\n",
       "        vertical-align: middle;\n",
       "    }\n",
       "\n",
       "    .dataframe tbody tr th {\n",
       "        vertical-align: top;\n",
       "    }\n",
       "\n",
       "    .dataframe thead th {\n",
       "        text-align: right;\n",
       "    }\n",
       "</style>\n",
       "<table border=\"1\" class=\"dataframe\">\n",
       "  <thead>\n",
       "    <tr style=\"text-align: right;\">\n",
       "      <th></th>\n",
       "      <th>Цена</th>\n",
       "      <th>Год</th>\n",
       "      <th>Хр_возраст</th>\n",
       "      <th>Пробег</th>\n",
       "      <th>Кузов</th>\n",
       "      <th>Двигатель</th>\n",
       "      <th>Коробка</th>\n",
       "      <th>Цвет</th>\n",
       "      <th>Владельцы</th>\n",
       "    </tr>\n",
       "  </thead>\n",
       "  <tbody>\n",
       "    <tr>\n",
       "      <th>0</th>\n",
       "      <td>860000</td>\n",
       "      <td>2015</td>\n",
       "      <td>7</td>\n",
       "      <td>180981</td>\n",
       "      <td>седан</td>\n",
       "      <td>1.6</td>\n",
       "      <td>AT</td>\n",
       "      <td>белый</td>\n",
       "      <td>1</td>\n",
       "    </tr>\n",
       "    <tr>\n",
       "      <th>1</th>\n",
       "      <td>749000</td>\n",
       "      <td>2014</td>\n",
       "      <td>8</td>\n",
       "      <td>113537</td>\n",
       "      <td>седан</td>\n",
       "      <td>1.6</td>\n",
       "      <td>MT</td>\n",
       "      <td>серый</td>\n",
       "      <td>3</td>\n",
       "    </tr>\n",
       "    <tr>\n",
       "      <th>2</th>\n",
       "      <td>745000</td>\n",
       "      <td>2012</td>\n",
       "      <td>10</td>\n",
       "      <td>127639</td>\n",
       "      <td>хэтчбек</td>\n",
       "      <td>1.6</td>\n",
       "      <td>AT</td>\n",
       "      <td>фиолетовый</td>\n",
       "      <td>1</td>\n",
       "    </tr>\n",
       "    <tr>\n",
       "      <th>3</th>\n",
       "      <td>515000</td>\n",
       "      <td>2012</td>\n",
       "      <td>10</td>\n",
       "      <td>225555</td>\n",
       "      <td>седан</td>\n",
       "      <td>1.4</td>\n",
       "      <td>MT</td>\n",
       "      <td>черный</td>\n",
       "      <td>4</td>\n",
       "    </tr>\n",
       "    <tr>\n",
       "      <th>4</th>\n",
       "      <td>675000</td>\n",
       "      <td>2012</td>\n",
       "      <td>10</td>\n",
       "      <td>122000</td>\n",
       "      <td>седан</td>\n",
       "      <td>1.6</td>\n",
       "      <td>AT</td>\n",
       "      <td>черный</td>\n",
       "      <td>2</td>\n",
       "    </tr>\n",
       "    <tr>\n",
       "      <th>5</th>\n",
       "      <td>725000</td>\n",
       "      <td>2011</td>\n",
       "      <td>11</td>\n",
       "      <td>124500</td>\n",
       "      <td>седан</td>\n",
       "      <td>1.6</td>\n",
       "      <td>AT</td>\n",
       "      <td>фиолетовый</td>\n",
       "      <td>4</td>\n",
       "    </tr>\n",
       "    <tr>\n",
       "      <th>6</th>\n",
       "      <td>795000</td>\n",
       "      <td>2013</td>\n",
       "      <td>9</td>\n",
       "      <td>106593</td>\n",
       "      <td>седан</td>\n",
       "      <td>1.4</td>\n",
       "      <td>AT</td>\n",
       "      <td>серый</td>\n",
       "      <td>1</td>\n",
       "    </tr>\n",
       "    <tr>\n",
       "      <th>7</th>\n",
       "      <td>770000</td>\n",
       "      <td>2014</td>\n",
       "      <td>8</td>\n",
       "      <td>83000</td>\n",
       "      <td>седан</td>\n",
       "      <td>1.6</td>\n",
       "      <td>AT</td>\n",
       "      <td>белый</td>\n",
       "      <td>1</td>\n",
       "    </tr>\n",
       "    <tr>\n",
       "      <th>8</th>\n",
       "      <td>670000</td>\n",
       "      <td>2012</td>\n",
       "      <td>10</td>\n",
       "      <td>196000</td>\n",
       "      <td>седан</td>\n",
       "      <td>1.4</td>\n",
       "      <td>AT</td>\n",
       "      <td>белый</td>\n",
       "      <td>1</td>\n",
       "    </tr>\n",
       "    <tr>\n",
       "      <th>9</th>\n",
       "      <td>720000</td>\n",
       "      <td>2012</td>\n",
       "      <td>10</td>\n",
       "      <td>150362</td>\n",
       "      <td>седан</td>\n",
       "      <td>1.6</td>\n",
       "      <td>AT</td>\n",
       "      <td>белый</td>\n",
       "      <td>2</td>\n",
       "    </tr>\n",
       "  </tbody>\n",
       "</table>\n",
       "</div>"
      ],
      "text/plain": [
       "     Цена   Год  Хр_возраст  Пробег    Кузов  Двигатель Коробка        Цвет  \\\n",
       "0  860000  2015           7  180981    седан        1.6      AT       белый   \n",
       "1  749000  2014           8  113537    седан        1.6      MT       серый   \n",
       "2  745000  2012          10  127639  хэтчбек        1.6      AT  фиолетовый   \n",
       "3  515000  2012          10  225555    седан        1.4      MT      черный   \n",
       "4  675000  2012          10  122000    седан        1.6      AT      черный   \n",
       "5  725000  2011          11  124500    седан        1.6      AT  фиолетовый   \n",
       "6  795000  2013           9  106593    седан        1.4      AT       серый   \n",
       "7  770000  2014           8   83000    седан        1.6      AT       белый   \n",
       "8  670000  2012          10  196000    седан        1.4      AT       белый   \n",
       "9  720000  2012          10  150362    седан        1.6      AT       белый   \n",
       "\n",
       "   Владельцы  \n",
       "0          1  \n",
       "1          3  \n",
       "2          1  \n",
       "3          4  \n",
       "4          2  \n",
       "5          4  \n",
       "6          1  \n",
       "7          1  \n",
       "8          1  \n",
       "9          2  "
      ]
     },
     "execution_count": 9,
     "metadata": {},
     "output_type": "execute_result"
    }
   ],
   "source": [
    "# Получим из переменной \"год\" хронологический возраст транспортных средств и поместим его после переменной \"год\"\n",
    "df_age = 2022 - df['Год']\n",
    "df.insert(2, \"Хр_возраст\", df_age)\n",
    "df.head(10)"
   ]
  },
  {
   "cell_type": "code",
   "execution_count": 10,
   "id": "e0a19c63",
   "metadata": {},
   "outputs": [
    {
     "data": {
      "text/html": [
       "<div>\n",
       "<style scoped>\n",
       "    .dataframe tbody tr th:only-of-type {\n",
       "        vertical-align: middle;\n",
       "    }\n",
       "\n",
       "    .dataframe tbody tr th {\n",
       "        vertical-align: top;\n",
       "    }\n",
       "\n",
       "    .dataframe thead th {\n",
       "        text-align: right;\n",
       "    }\n",
       "</style>\n",
       "<table border=\"1\" class=\"dataframe\">\n",
       "  <thead>\n",
       "    <tr style=\"text-align: right;\">\n",
       "      <th></th>\n",
       "      <th>Цена</th>\n",
       "      <th>Хр_возраст</th>\n",
       "      <th>Пробег</th>\n",
       "      <th>Кузов</th>\n",
       "      <th>Двигатель</th>\n",
       "      <th>Коробка</th>\n",
       "      <th>Цвет</th>\n",
       "      <th>Владельцы</th>\n",
       "    </tr>\n",
       "  </thead>\n",
       "  <tbody>\n",
       "    <tr>\n",
       "      <th>0</th>\n",
       "      <td>860000</td>\n",
       "      <td>7</td>\n",
       "      <td>180981</td>\n",
       "      <td>седан</td>\n",
       "      <td>1.6</td>\n",
       "      <td>AT</td>\n",
       "      <td>белый</td>\n",
       "      <td>1</td>\n",
       "    </tr>\n",
       "    <tr>\n",
       "      <th>1</th>\n",
       "      <td>749000</td>\n",
       "      <td>8</td>\n",
       "      <td>113537</td>\n",
       "      <td>седан</td>\n",
       "      <td>1.6</td>\n",
       "      <td>MT</td>\n",
       "      <td>серый</td>\n",
       "      <td>3</td>\n",
       "    </tr>\n",
       "    <tr>\n",
       "      <th>2</th>\n",
       "      <td>745000</td>\n",
       "      <td>10</td>\n",
       "      <td>127639</td>\n",
       "      <td>хэтчбек</td>\n",
       "      <td>1.6</td>\n",
       "      <td>AT</td>\n",
       "      <td>фиолетовый</td>\n",
       "      <td>1</td>\n",
       "    </tr>\n",
       "    <tr>\n",
       "      <th>3</th>\n",
       "      <td>515000</td>\n",
       "      <td>10</td>\n",
       "      <td>225555</td>\n",
       "      <td>седан</td>\n",
       "      <td>1.4</td>\n",
       "      <td>MT</td>\n",
       "      <td>черный</td>\n",
       "      <td>4</td>\n",
       "    </tr>\n",
       "    <tr>\n",
       "      <th>4</th>\n",
       "      <td>675000</td>\n",
       "      <td>10</td>\n",
       "      <td>122000</td>\n",
       "      <td>седан</td>\n",
       "      <td>1.6</td>\n",
       "      <td>AT</td>\n",
       "      <td>черный</td>\n",
       "      <td>2</td>\n",
       "    </tr>\n",
       "    <tr>\n",
       "      <th>5</th>\n",
       "      <td>725000</td>\n",
       "      <td>11</td>\n",
       "      <td>124500</td>\n",
       "      <td>седан</td>\n",
       "      <td>1.6</td>\n",
       "      <td>AT</td>\n",
       "      <td>фиолетовый</td>\n",
       "      <td>4</td>\n",
       "    </tr>\n",
       "    <tr>\n",
       "      <th>6</th>\n",
       "      <td>795000</td>\n",
       "      <td>9</td>\n",
       "      <td>106593</td>\n",
       "      <td>седан</td>\n",
       "      <td>1.4</td>\n",
       "      <td>AT</td>\n",
       "      <td>серый</td>\n",
       "      <td>1</td>\n",
       "    </tr>\n",
       "    <tr>\n",
       "      <th>7</th>\n",
       "      <td>770000</td>\n",
       "      <td>8</td>\n",
       "      <td>83000</td>\n",
       "      <td>седан</td>\n",
       "      <td>1.6</td>\n",
       "      <td>AT</td>\n",
       "      <td>белый</td>\n",
       "      <td>1</td>\n",
       "    </tr>\n",
       "    <tr>\n",
       "      <th>8</th>\n",
       "      <td>670000</td>\n",
       "      <td>10</td>\n",
       "      <td>196000</td>\n",
       "      <td>седан</td>\n",
       "      <td>1.4</td>\n",
       "      <td>AT</td>\n",
       "      <td>белый</td>\n",
       "      <td>1</td>\n",
       "    </tr>\n",
       "    <tr>\n",
       "      <th>9</th>\n",
       "      <td>720000</td>\n",
       "      <td>10</td>\n",
       "      <td>150362</td>\n",
       "      <td>седан</td>\n",
       "      <td>1.6</td>\n",
       "      <td>AT</td>\n",
       "      <td>белый</td>\n",
       "      <td>2</td>\n",
       "    </tr>\n",
       "  </tbody>\n",
       "</table>\n",
       "</div>"
      ],
      "text/plain": [
       "     Цена  Хр_возраст  Пробег    Кузов  Двигатель Коробка        Цвет  \\\n",
       "0  860000           7  180981    седан        1.6      AT       белый   \n",
       "1  749000           8  113537    седан        1.6      MT       серый   \n",
       "2  745000          10  127639  хэтчбек        1.6      AT  фиолетовый   \n",
       "3  515000          10  225555    седан        1.4      MT      черный   \n",
       "4  675000          10  122000    седан        1.6      AT      черный   \n",
       "5  725000          11  124500    седан        1.6      AT  фиолетовый   \n",
       "6  795000           9  106593    седан        1.4      AT       серый   \n",
       "7  770000           8   83000    седан        1.6      AT       белый   \n",
       "8  670000          10  196000    седан        1.4      AT       белый   \n",
       "9  720000          10  150362    седан        1.6      AT       белый   \n",
       "\n",
       "   Владельцы  \n",
       "0          1  \n",
       "1          3  \n",
       "2          1  \n",
       "3          4  \n",
       "4          2  \n",
       "5          4  \n",
       "6          1  \n",
       "7          1  \n",
       "8          1  \n",
       "9          2  "
      ]
     },
     "execution_count": 10,
     "metadata": {},
     "output_type": "execute_result"
    }
   ],
   "source": [
    "# Удаляем переменную \"год\"\n",
    "df=df.drop(['Год'], axis=1)\n",
    "df.head(10)"
   ]
  },
  {
   "cell_type": "code",
   "execution_count": 11,
   "id": "682f3c48",
   "metadata": {},
   "outputs": [
    {
     "data": {
      "text/plain": [
       "<AxesSubplot:xlabel='Цена'>"
      ]
     },
     "execution_count": 11,
     "metadata": {},
     "output_type": "execute_result"
    },
    {
     "data": {
      "image/png": "[encoded data removed]",
      "text/plain": [
       "<Figure size 720x288 with 1 Axes>"
      ]
     },
     "metadata": {
      "needs_background": "light"
     },
     "output_type": "display_data"
    }
   ],
   "source": [
    "# Построим диаграмму ящик с усами по цене транспортных средств и пробегу\n",
    "plt.figure(figsize=(10,4))\n",
    "sns.boxplot(df['Цена'])"
   ]
  },
  {
   "cell_type": "markdown",
   "id": "e4f1644d",
   "metadata": {},
   "source": [
    "По диаграмме ящик с усами видно, что в выборке присутствует небольшое количество выбросов. Для более лучшего понимания, что делать с данными выбросами, необходимо посмотреть на эти данные. "
   ]
  },
  {
   "cell_type": "code",
   "execution_count": 12,
   "id": "417c784a",
   "metadata": {},
   "outputs": [
    {
     "name": "stdout",
     "output_type": "stream",
     "text": [
      "195     400000\n",
      "268     407000\n",
      "250     420000\n",
      "252     420000\n",
      "202     426500\n",
      "        ...   \n",
      "171    1159000\n",
      "179    1160000\n",
      "284    1180000\n",
      "94     1190000\n",
      "184    1200000\n",
      "Name: Цена, Length: 300, dtype: int64\n",
      "Межквартильный размах:  298875.0\n",
      "Нижняя граница:  361875.0\n",
      "Верхняя граница:  1158875.0\n"
     ]
    }
   ],
   "source": [
    "# Найдем границы выбросов для Цены\n",
    "df_price=df['Цена']\n",
    "df_price=df_price.sort_values()\n",
    "print(df_price)\n",
    "\n",
    "# Межквартильный размах\n",
    "iqr=(df_price.quantile(q=0.75)-df_price.quantile(q=0.25))*1.5\n",
    "print(\"Межквартильный размах: \", iqr)\n",
    "\n",
    "# Расчитываем границы выбросов\n",
    "q1=df_price.quantile(q=0.25)-iqr\n",
    "print(\"Нижняя граница: \", q1)\n",
    "q2=df_price.quantile(q=0.75)+iqr\n",
    "print(\"Верхняя граница: \", q2)"
   ]
  },
  {
   "cell_type": "code",
   "execution_count": 13,
   "id": "b45df3fb",
   "metadata": {},
   "outputs": [
    {
     "data": {
      "text/plain": [
       "<AxesSubplot:xlabel='Пробег'>"
      ]
     },
     "execution_count": 13,
     "metadata": {},
     "output_type": "execute_result"
    },
    {
     "data": {
      "image/png": "[encoded data removed]",
      "text/plain": [
       "<Figure size 720x288 with 1 Axes>"
      ]
     },
     "metadata": {
      "needs_background": "light"
     },
     "output_type": "display_data"
    }
   ],
   "source": [
    "plt.figure(figsize=(10,4))\n",
    "sns.boxplot(df['Пробег'])"
   ]
  },
  {
   "cell_type": "code",
   "execution_count": 14,
   "id": "5e20d626",
   "metadata": {},
   "outputs": [
    {
     "name": "stdout",
     "output_type": "stream",
     "text": [
      "62      15046\n",
      "201     30000\n",
      "270     33500\n",
      "282     36000\n",
      "179     40000\n",
      "        ...  \n",
      "278    309000\n",
      "290    316000\n",
      "219    330000\n",
      "212    350000\n",
      "141    491000\n",
      "Name: Пробег, Length: 300, dtype: int64\n",
      "Межквартильный размах:  120458.625\n",
      "Нижняя граница:  -30458.625\n",
      "Верхняя граница:  290764.375\n"
     ]
    }
   ],
   "source": [
    "# Найдем границы выбросов для Пробега\n",
    "df_prob=df['Пробег']\n",
    "df_prob=df_prob.sort_values()\n",
    "print(df_prob)\n",
    "\n",
    "# Межквартильный размах\n",
    "iqr=(df_prob.quantile(q=0.75)-df_prob.quantile(q=0.25))*1.5\n",
    "print(\"Межквартильный размах: \", iqr)\n",
    "\n",
    "# Расчитываем границы выбросов\n",
    "q1=df_prob.quantile(q=0.25)-iqr\n",
    "print(\"Нижняя граница: \", q1)\n",
    "q2=df_prob.quantile(q=0.75)+iqr\n",
    "print(\"Верхняя граница: \", q2)"
   ]
  },
  {
   "cell_type": "code",
   "execution_count": 15,
   "id": "39c10129",
   "metadata": {},
   "outputs": [
    {
     "name": "stdout",
     "output_type": "stream",
     "text": [
      "Цена          288\n",
      "Хр_возраст    288\n",
      "Пробег        288\n",
      "Кузов         288\n",
      "Двигатель     288\n",
      "Коробка       288\n",
      "Цвет          288\n",
      "Владельцы     288\n",
      "dtype: int64\n"
     ]
    },
    {
     "data": {
      "text/html": [
       "<div>\n",
       "<style scoped>\n",
       "    .dataframe tbody tr th:only-of-type {\n",
       "        vertical-align: middle;\n",
       "    }\n",
       "\n",
       "    .dataframe tbody tr th {\n",
       "        vertical-align: top;\n",
       "    }\n",
       "\n",
       "    .dataframe thead th {\n",
       "        text-align: right;\n",
       "    }\n",
       "</style>\n",
       "<table border=\"1\" class=\"dataframe\">\n",
       "  <thead>\n",
       "    <tr style=\"text-align: right;\">\n",
       "      <th></th>\n",
       "      <th>Цена</th>\n",
       "      <th>Хр_возраст</th>\n",
       "      <th>Пробег</th>\n",
       "      <th>Кузов</th>\n",
       "      <th>Двигатель</th>\n",
       "      <th>Коробка</th>\n",
       "      <th>Цвет</th>\n",
       "      <th>Владельцы</th>\n",
       "    </tr>\n",
       "  </thead>\n",
       "  <tbody>\n",
       "    <tr>\n",
       "      <th>0</th>\n",
       "      <td>860000</td>\n",
       "      <td>7</td>\n",
       "      <td>180981</td>\n",
       "      <td>седан</td>\n",
       "      <td>1.6</td>\n",
       "      <td>AT</td>\n",
       "      <td>белый</td>\n",
       "      <td>1</td>\n",
       "    </tr>\n",
       "    <tr>\n",
       "      <th>1</th>\n",
       "      <td>749000</td>\n",
       "      <td>8</td>\n",
       "      <td>113537</td>\n",
       "      <td>седан</td>\n",
       "      <td>1.6</td>\n",
       "      <td>MT</td>\n",
       "      <td>серый</td>\n",
       "      <td>3</td>\n",
       "    </tr>\n",
       "    <tr>\n",
       "      <th>2</th>\n",
       "      <td>745000</td>\n",
       "      <td>10</td>\n",
       "      <td>127639</td>\n",
       "      <td>хэтчбек</td>\n",
       "      <td>1.6</td>\n",
       "      <td>AT</td>\n",
       "      <td>фиолетовый</td>\n",
       "      <td>1</td>\n",
       "    </tr>\n",
       "    <tr>\n",
       "      <th>3</th>\n",
       "      <td>515000</td>\n",
       "      <td>10</td>\n",
       "      <td>225555</td>\n",
       "      <td>седан</td>\n",
       "      <td>1.4</td>\n",
       "      <td>MT</td>\n",
       "      <td>черный</td>\n",
       "      <td>4</td>\n",
       "    </tr>\n",
       "    <tr>\n",
       "      <th>4</th>\n",
       "      <td>675000</td>\n",
       "      <td>10</td>\n",
       "      <td>122000</td>\n",
       "      <td>седан</td>\n",
       "      <td>1.6</td>\n",
       "      <td>AT</td>\n",
       "      <td>черный</td>\n",
       "      <td>2</td>\n",
       "    </tr>\n",
       "    <tr>\n",
       "      <th>...</th>\n",
       "      <td>...</td>\n",
       "      <td>...</td>\n",
       "      <td>...</td>\n",
       "      <td>...</td>\n",
       "      <td>...</td>\n",
       "      <td>...</td>\n",
       "      <td>...</td>\n",
       "      <td>...</td>\n",
       "    </tr>\n",
       "    <tr>\n",
       "      <th>295</th>\n",
       "      <td>580000</td>\n",
       "      <td>10</td>\n",
       "      <td>155000</td>\n",
       "      <td>хэтчбек</td>\n",
       "      <td>1.6</td>\n",
       "      <td>MT</td>\n",
       "      <td>серый</td>\n",
       "      <td>2</td>\n",
       "    </tr>\n",
       "    <tr>\n",
       "      <th>296</th>\n",
       "      <td>770000</td>\n",
       "      <td>8</td>\n",
       "      <td>73000</td>\n",
       "      <td>седан</td>\n",
       "      <td>1.6</td>\n",
       "      <td>MT</td>\n",
       "      <td>серый</td>\n",
       "      <td>1</td>\n",
       "    </tr>\n",
       "    <tr>\n",
       "      <th>297</th>\n",
       "      <td>695000</td>\n",
       "      <td>9</td>\n",
       "      <td>168000</td>\n",
       "      <td>седан</td>\n",
       "      <td>1.4</td>\n",
       "      <td>AT</td>\n",
       "      <td>серый</td>\n",
       "      <td>3</td>\n",
       "    </tr>\n",
       "    <tr>\n",
       "      <th>298</th>\n",
       "      <td>690000</td>\n",
       "      <td>9</td>\n",
       "      <td>259000</td>\n",
       "      <td>седан</td>\n",
       "      <td>1.6</td>\n",
       "      <td>AT</td>\n",
       "      <td>черный</td>\n",
       "      <td>1</td>\n",
       "    </tr>\n",
       "    <tr>\n",
       "      <th>299</th>\n",
       "      <td>850000</td>\n",
       "      <td>6</td>\n",
       "      <td>55000</td>\n",
       "      <td>седан</td>\n",
       "      <td>1.6</td>\n",
       "      <td>AT</td>\n",
       "      <td>красный</td>\n",
       "      <td>2</td>\n",
       "    </tr>\n",
       "  </tbody>\n",
       "</table>\n",
       "<p>288 rows × 8 columns</p>\n",
       "</div>"
      ],
      "text/plain": [
       "       Цена  Хр_возраст  Пробег    Кузов  Двигатель Коробка        Цвет  \\\n",
       "0    860000           7  180981    седан        1.6      AT       белый   \n",
       "1    749000           8  113537    седан        1.6      MT       серый   \n",
       "2    745000          10  127639  хэтчбек        1.6      AT  фиолетовый   \n",
       "3    515000          10  225555    седан        1.4      MT      черный   \n",
       "4    675000          10  122000    седан        1.6      AT      черный   \n",
       "..      ...         ...     ...      ...        ...     ...         ...   \n",
       "295  580000          10  155000  хэтчбек        1.6      MT       серый   \n",
       "296  770000           8   73000    седан        1.6      MT       серый   \n",
       "297  695000           9  168000    седан        1.4      AT       серый   \n",
       "298  690000           9  259000    седан        1.6      AT      черный   \n",
       "299  850000           6   55000    седан        1.6      AT     красный   \n",
       "\n",
       "     Владельцы  \n",
       "0            1  \n",
       "1            3  \n",
       "2            1  \n",
       "3            4  \n",
       "4            2  \n",
       "..         ...  \n",
       "295          2  \n",
       "296          1  \n",
       "297          3  \n",
       "298          1  \n",
       "299          2  \n",
       "\n",
       "[288 rows x 8 columns]"
      ]
     },
     "execution_count": 15,
     "metadata": {},
     "output_type": "execute_result"
    }
   ],
   "source": [
    "# Исключаем выброс\n",
    "#df['Цена']=pd.to_numeric(df['Цена'])\n",
    "#df['Пробег']=pd.to_numeric(df['Пробег'])\n",
    "\n",
    "df = df.loc[(df['Цена'] > 362000) & (df['Цена'] < 1150000)]\n",
    "df = df.loc[(df['Пробег'] > 15000) & (df['Пробег'] < 290000)]\n",
    "\n",
    "print(df.count(axis=0))\n",
    "df"
   ]
  },
  {
   "cell_type": "code",
   "execution_count": 16,
   "id": "50a14481",
   "metadata": {},
   "outputs": [
    {
     "data": {
      "text/plain": [
       "<AxesSubplot:xlabel='Цена'>"
      ]
     },
     "execution_count": 16,
     "metadata": {},
     "output_type": "execute_result"
    },
    {
     "data": {
      "image/png": "[encoded data removed]",
      "text/plain": [
       "<Figure size 720x288 with 1 Axes>"
      ]
     },
     "metadata": {
      "needs_background": "light"
     },
     "output_type": "display_data"
    }
   ],
   "source": [
    "plt.figure(figsize=(10,4))\n",
    "sns.boxplot(df['Цена'])"
   ]
  },
  {
   "cell_type": "code",
   "execution_count": 17,
   "id": "acaba6ce",
   "metadata": {},
   "outputs": [
    {
     "data": {
      "text/plain": [
       "<AxesSubplot:xlabel='Пробег'>"
      ]
     },
     "execution_count": 17,
     "metadata": {},
     "output_type": "execute_result"
    },
    {
     "data": {
      "image/png": "[encoded data removed]",
      "text/plain": [
       "<Figure size 720x288 with 1 Axes>"
      ]
     },
     "metadata": {
      "needs_background": "light"
     },
     "output_type": "display_data"
    }
   ],
   "source": [
    "plt.figure(figsize=(10,4))\n",
    "sns.boxplot(df['Пробег'])"
   ]
  },
  {
   "cell_type": "code",
   "execution_count": 18,
   "id": "9c62e174",
   "metadata": {},
   "outputs": [
    {
     "data": {
      "text/plain": [
       "<AxesSubplot:xlabel='Цена', ylabel='Density'>"
      ]
     },
     "execution_count": 18,
     "metadata": {},
     "output_type": "execute_result"
    },
    {
     "data": {
      "image/png": "[encoded data removed]",
      "text/plain": [
       "<Figure size 432x288 with 1 Axes>"
      ]
     },
     "metadata": {},
     "output_type": "display_data"
    }
   ],
   "source": [
    "# Построим гистограмму распределения цены\n",
    "sns.set()\n",
    "sns.distplot(df['Цена'])"
   ]
  },
  {
   "cell_type": "code",
   "execution_count": 19,
   "id": "93a19c9f",
   "metadata": {},
   "outputs": [
    {
     "name": "stdout",
     "output_type": "stream",
     "text": [
      "Объем выборки:  288\n",
      "Минимальное значение: 400000.000\n",
      "Максимальное значение: 1130000.000\n",
      "Среднее значение: 762899.045\n",
      "Медиана: 750000.000\n",
      "Стандартное отклонение: 150220.655\n",
      "Вариация: 0.197\n",
      "Эксцесс: -0.225\n",
      "Критический эксцесс: 1.431\n",
      "Асимметрия: 0.183\n",
      "Критическая асимметрия: 0.431\n"
     ]
    }
   ],
   "source": [
    "# Описательная статистика для цены\n",
    "n=df['Цена'].count()\n",
    "print(\"Объем выборки: \", n)\n",
    "print(\"Минимальное значение: %.3f\" % df['Цена'].min())\n",
    "print(\"Максимальное значение: %.3f\" % df['Цена'].max())\n",
    "print(\"Среднее значение: %.3f\" % df['Цена'].mean())\n",
    "print(\"Медиана: %.3f\" % df['Цена'].median())\n",
    "print(\"Стандартное отклонение: %.3f\" % df['Цена'].std())\n",
    "print(\"Вариация: %.3f\" % (df['Цена'].std() / df['Цена'].mean()))\n",
    "print(\"Эксцесс: %.3f\" % df['Цена'].kurt())\n",
    "E=5*math.sqrt((24*n*(n-1)**2)/((n-3)*(n-2)*(n+3)*(n+5)))\n",
    "print(\"Критический эксцесс: %.3f\" % E)\n",
    "print(\"Асимметрия: %.3f\" % df['Цена'].skew())\n",
    "A=3*math.sqrt((6*n*(n-1))/((n-2)*(n+1)*(n+3)))\n",
    "print(\"Критическая асимметрия: %.3f\" % A)"
   ]
  },
  {
   "cell_type": "code",
   "execution_count": 20,
   "id": "31dfeea0",
   "metadata": {},
   "outputs": [
    {
     "data": {
      "image/png": "[encoded data removed]",
      "text/plain": [
       "<Figure size 432x288 with 1 Axes>"
      ]
     },
     "metadata": {},
     "output_type": "display_data"
    }
   ],
   "source": [
    "# График Q-Q plot\n",
    "scipy.stats.probplot(df['Цена'], dist=\"norm\", plot=pylab)\n",
    "pylab.show()"
   ]
  },
  {
   "cell_type": "code",
   "execution_count": 21,
   "id": "c919e9ce",
   "metadata": {},
   "outputs": [
    {
     "name": "stdout",
     "output_type": "stream",
     "text": [
      "p-level: 0.00000\n",
      "Статистика:  1.0\n",
      "H0 отклоняется, распределение ненормально\n"
     ]
    }
   ],
   "source": [
    "# Критерий Колмогорова-Смирнова\n",
    "stat, p=stats.kstest(df['Цена'],'norm')\n",
    "alfa=0.05\n",
    "print(\"p-level: %.5f\" % p)\n",
    "print(\"Статистика: \", stat)\n",
    "\n",
    "if p < alfa:\n",
    "    print(\"H0 отклоняется, распределение ненормально\")\n",
    "else:\n",
    "    print(\"H0 принимается, распределение нормально\")"
   ]
  },
  {
   "cell_type": "code",
   "execution_count": 22,
   "id": "2b7d9a4f",
   "metadata": {},
   "outputs": [
    {
     "name": "stdout",
     "output_type": "stream",
     "text": [
      "p-level: 0.02162\n",
      "Статистика:  0.9884672164916992\n",
      "H0 отклоняется, распределение ненормально\n"
     ]
    }
   ],
   "source": [
    "# Критерий Шапиро-Уилка, Н0 - распределение нормальное, Н1 - распределение не нормальное. Н0 принимается если p>0.05,\n",
    "# если p<0.05, то принимаем Н1. \n",
    "stat, p=scipy.stats.shapiro(df['Цена'])\n",
    "alfa=0.05\n",
    "print(\"p-level: %.5f\" % p)\n",
    "print(\"Статистика: \", stat)\n",
    "\n",
    "if p < alfa:\n",
    "    print(\"H0 отклоняется, распределение ненормально\")\n",
    "else:\n",
    "    print(\"H0 принимается, распределение нормально\")"
   ]
  },
  {
   "cell_type": "markdown",
   "id": "8aedb6bf",
   "metadata": {},
   "source": [
    "Согласно критерию Шапиро-Уилка распределение при значимости 0,05 ненормально, а при 0,01 - нормально."
   ]
  },
  {
   "cell_type": "code",
   "execution_count": 23,
   "id": "fc7e620e",
   "metadata": {},
   "outputs": [
    {
     "name": "stdout",
     "output_type": "stream",
     "text": [
      "p-level: 0.00000\n",
      "Статистика:  8489343.883217651\n",
      "H0 отклоняется, распределение ненормально\n"
     ]
    }
   ],
   "source": [
    "# Критерий Пирсона\n",
    "stat, p=scipy.stats.chisquare(df['Цена'])\n",
    "alfa=0.05\n",
    "print(\"p-level: %.5f\" % p)\n",
    "print(\"Статистика: \", stat)\n",
    "\n",
    "if p < alfa:\n",
    "    print(\"H0 отклоняется, распределение ненормально\")\n",
    "else:\n",
    "    print(\"H0 принимается, распределение нормально\")"
   ]
  },
  {
   "cell_type": "code",
   "execution_count": 24,
   "id": "a5a3bd61",
   "metadata": {},
   "outputs": [
    {
     "name": "stdout",
     "output_type": "stream",
     "text": [
      "p-level: 0.31888\n",
      "Статистика:  2.285865479923272\n",
      "H0 принимается, распределение нормально\n"
     ]
    }
   ],
   "source": [
    "# Критерий Жака-Бера\n",
    "stat, p=scipy.stats.jarque_bera(df['Цена'])\n",
    "alfa=0.05\n",
    "print(\"p-level: %.5f\" % p)\n",
    "print(\"Статистика: \", stat)\n",
    "\n",
    "if p < alfa:\n",
    "    print(\"H0 отклоняется, распределение ненормально\")\n",
    "else:\n",
    "    print(\"H0 принимается, распределение нормально\")"
   ]
  },
  {
   "cell_type": "code",
   "execution_count": 25,
   "id": "848ca4fb",
   "metadata": {},
   "outputs": [
    {
     "name": "stdout",
     "output_type": "stream",
     "text": [
      "p-level: 0.00997\n",
      "Статистика:  1.034553332135829\n",
      "H0 отклоняется, распределение ненормально\n"
     ]
    }
   ],
   "source": [
    "# Критерий Андерсона-Дарлинга\n",
    "stat, p=sm.stats.normal_ad(df['Цена'])\n",
    "alfa=0.05\n",
    "print(\"p-level: %.5f\" % p)\n",
    "print(\"Статистика: \", stat)\n",
    "\n",
    "if p < alfa:\n",
    "    print(\"H0 отклоняется, распределение ненормально\")\n",
    "else:\n",
    "    print(\"H0 принимается, распределение нормально\")"
   ]
  },
  {
   "cell_type": "code",
   "execution_count": 26,
   "id": "010a0025",
   "metadata": {},
   "outputs": [
    {
     "data": {
      "text/plain": [
       "<AxesSubplot:xlabel='Пробег', ylabel='Density'>"
      ]
     },
     "execution_count": 26,
     "metadata": {},
     "output_type": "execute_result"
    },
    {
     "data": {
      "image/png": "[encoded data removed]",
      "text/plain": [
       "<Figure size 432x288 with 1 Axes>"
      ]
     },
     "metadata": {},
     "output_type": "display_data"
    }
   ],
   "source": [
    "# Построим гистограмму распределения пробега\n",
    "sns.set()\n",
    "sns.distplot(df['Пробег'])"
   ]
  },
  {
   "cell_type": "code",
   "execution_count": 27,
   "id": "28ba74ca",
   "metadata": {
    "scrolled": true
   },
   "outputs": [
    {
     "name": "stdout",
     "output_type": "stream",
     "text": [
      "Объем выборки:  288\n",
      "Минимальное значение: 15046.000\n",
      "Максимальное значение: 289000.000\n",
      "Среднее значение: 132699.229\n",
      "Медиана: 124000.000\n",
      "Стандартное отклонение: 57202.113\n",
      "Вариация: 0.431\n",
      "Эксцесс: -0.221\n",
      "Критический эксцесс: 1.431\n",
      "Асимметрия: 0.582\n",
      "Критическая асимметрия: 0.431\n"
     ]
    }
   ],
   "source": [
    "# Описательная статистика для пробега\n",
    "n=df['Пробег'].count()\n",
    "print(\"Объем выборки: \", n)\n",
    "print(\"Минимальное значение: %.3f\" % df['Пробег'].min())\n",
    "print(\"Максимальное значение: %.3f\" % df['Пробег'].max())\n",
    "print(\"Среднее значение: %.3f\" % df['Пробег'].mean())\n",
    "print(\"Медиана: %.3f\" % df['Пробег'].median())\n",
    "print(\"Стандартное отклонение: %.3f\" % df['Пробег'].std())\n",
    "print(\"Вариация: %.3f\" % (df['Пробег'].std() / df['Пробег'].mean()))\n",
    "print(\"Эксцесс: %.3f\" % df['Пробег'].kurt())\n",
    "E=5*math.sqrt((24*n*(n-1)**2)/((n-3)*(n-2)*(n+3)*(n+5)))\n",
    "print(\"Критический эксцесс: %.3f\" % E)\n",
    "print(\"Асимметрия: %.3f\" % df['Пробег'].skew())\n",
    "A=3*math.sqrt((6*n*(n-1))/((n-2)*(n+1)*(n+3)))\n",
    "print(\"Критическая асимметрия: %.3f\" % A)"
   ]
  },
  {
   "cell_type": "markdown",
   "id": "bd80d80c",
   "metadata": {},
   "source": [
    "По пробегу наблюдается правосторонняя асимметрия, пробег не подчиняется нормальному закону распределения. Можно попробовать взять логорифм."
   ]
  },
  {
   "cell_type": "markdown",
   "id": "5d1d39df",
   "metadata": {},
   "source": [
    "# Рассмотрим различные зависимости"
   ]
  },
  {
   "cell_type": "code",
   "execution_count": 28,
   "id": "20a364c8",
   "metadata": {},
   "outputs": [
    {
     "data": {
      "text/html": [
       "<div>\n",
       "<style scoped>\n",
       "    .dataframe tbody tr th:only-of-type {\n",
       "        vertical-align: middle;\n",
       "    }\n",
       "\n",
       "    .dataframe tbody tr th {\n",
       "        vertical-align: top;\n",
       "    }\n",
       "\n",
       "    .dataframe thead th {\n",
       "        text-align: right;\n",
       "    }\n",
       "</style>\n",
       "<table border=\"1\" class=\"dataframe\">\n",
       "  <thead>\n",
       "    <tr style=\"text-align: right;\">\n",
       "      <th></th>\n",
       "      <th>Цена</th>\n",
       "      <th>Хр_возраст</th>\n",
       "      <th>Пробег</th>\n",
       "      <th>Кузов</th>\n",
       "      <th>Двигатель</th>\n",
       "      <th>Коробка</th>\n",
       "      <th>Цвет</th>\n",
       "      <th>Владельцы</th>\n",
       "    </tr>\n",
       "  </thead>\n",
       "  <tbody>\n",
       "    <tr>\n",
       "      <th>0</th>\n",
       "      <td>860000</td>\n",
       "      <td>7</td>\n",
       "      <td>180981</td>\n",
       "      <td>седан</td>\n",
       "      <td>1.6</td>\n",
       "      <td>AT</td>\n",
       "      <td>белый</td>\n",
       "      <td>1</td>\n",
       "    </tr>\n",
       "    <tr>\n",
       "      <th>1</th>\n",
       "      <td>749000</td>\n",
       "      <td>8</td>\n",
       "      <td>113537</td>\n",
       "      <td>седан</td>\n",
       "      <td>1.6</td>\n",
       "      <td>MT</td>\n",
       "      <td>серый</td>\n",
       "      <td>3</td>\n",
       "    </tr>\n",
       "    <tr>\n",
       "      <th>2</th>\n",
       "      <td>745000</td>\n",
       "      <td>10</td>\n",
       "      <td>127639</td>\n",
       "      <td>хэтчбек</td>\n",
       "      <td>1.6</td>\n",
       "      <td>AT</td>\n",
       "      <td>фиолетовый</td>\n",
       "      <td>1</td>\n",
       "    </tr>\n",
       "    <tr>\n",
       "      <th>3</th>\n",
       "      <td>515000</td>\n",
       "      <td>10</td>\n",
       "      <td>225555</td>\n",
       "      <td>седан</td>\n",
       "      <td>1.4</td>\n",
       "      <td>MT</td>\n",
       "      <td>черный</td>\n",
       "      <td>4</td>\n",
       "    </tr>\n",
       "    <tr>\n",
       "      <th>4</th>\n",
       "      <td>675000</td>\n",
       "      <td>10</td>\n",
       "      <td>122000</td>\n",
       "      <td>седан</td>\n",
       "      <td>1.6</td>\n",
       "      <td>AT</td>\n",
       "      <td>черный</td>\n",
       "      <td>2</td>\n",
       "    </tr>\n",
       "    <tr>\n",
       "      <th>...</th>\n",
       "      <td>...</td>\n",
       "      <td>...</td>\n",
       "      <td>...</td>\n",
       "      <td>...</td>\n",
       "      <td>...</td>\n",
       "      <td>...</td>\n",
       "      <td>...</td>\n",
       "      <td>...</td>\n",
       "    </tr>\n",
       "    <tr>\n",
       "      <th>295</th>\n",
       "      <td>580000</td>\n",
       "      <td>10</td>\n",
       "      <td>155000</td>\n",
       "      <td>хэтчбек</td>\n",
       "      <td>1.6</td>\n",
       "      <td>MT</td>\n",
       "      <td>серый</td>\n",
       "      <td>2</td>\n",
       "    </tr>\n",
       "    <tr>\n",
       "      <th>296</th>\n",
       "      <td>770000</td>\n",
       "      <td>8</td>\n",
       "      <td>73000</td>\n",
       "      <td>седан</td>\n",
       "      <td>1.6</td>\n",
       "      <td>MT</td>\n",
       "      <td>серый</td>\n",
       "      <td>1</td>\n",
       "    </tr>\n",
       "    <tr>\n",
       "      <th>297</th>\n",
       "      <td>695000</td>\n",
       "      <td>9</td>\n",
       "      <td>168000</td>\n",
       "      <td>седан</td>\n",
       "      <td>1.4</td>\n",
       "      <td>AT</td>\n",
       "      <td>серый</td>\n",
       "      <td>3</td>\n",
       "    </tr>\n",
       "    <tr>\n",
       "      <th>298</th>\n",
       "      <td>690000</td>\n",
       "      <td>9</td>\n",
       "      <td>259000</td>\n",
       "      <td>седан</td>\n",
       "      <td>1.6</td>\n",
       "      <td>AT</td>\n",
       "      <td>черный</td>\n",
       "      <td>1</td>\n",
       "    </tr>\n",
       "    <tr>\n",
       "      <th>299</th>\n",
       "      <td>850000</td>\n",
       "      <td>6</td>\n",
       "      <td>55000</td>\n",
       "      <td>седан</td>\n",
       "      <td>1.6</td>\n",
       "      <td>AT</td>\n",
       "      <td>красный</td>\n",
       "      <td>2</td>\n",
       "    </tr>\n",
       "  </tbody>\n",
       "</table>\n",
       "<p>288 rows × 8 columns</p>\n",
       "</div>"
      ],
      "text/plain": [
       "       Цена  Хр_возраст  Пробег    Кузов  Двигатель Коробка        Цвет  \\\n",
       "0    860000           7  180981    седан        1.6      AT       белый   \n",
       "1    749000           8  113537    седан        1.6      MT       серый   \n",
       "2    745000          10  127639  хэтчбек        1.6      AT  фиолетовый   \n",
       "3    515000          10  225555    седан        1.4      MT      черный   \n",
       "4    675000          10  122000    седан        1.6      AT      черный   \n",
       "..      ...         ...     ...      ...        ...     ...         ...   \n",
       "295  580000          10  155000  хэтчбек        1.6      MT       серый   \n",
       "296  770000           8   73000    седан        1.6      MT       серый   \n",
       "297  695000           9  168000    седан        1.4      AT       серый   \n",
       "298  690000           9  259000    седан        1.6      AT      черный   \n",
       "299  850000           6   55000    седан        1.6      AT     красный   \n",
       "\n",
       "     Владельцы  \n",
       "0            1  \n",
       "1            3  \n",
       "2            1  \n",
       "3            4  \n",
       "4            2  \n",
       "..         ...  \n",
       "295          2  \n",
       "296          1  \n",
       "297          3  \n",
       "298          1  \n",
       "299          2  \n",
       "\n",
       "[288 rows x 8 columns]"
      ]
     },
     "execution_count": 28,
     "metadata": {},
     "output_type": "execute_result"
    }
   ],
   "source": [
    "df"
   ]
  },
  {
   "cell_type": "code",
   "execution_count": 29,
   "id": "8f4a15ab",
   "metadata": {},
   "outputs": [
    {
     "data": {
      "text/plain": [
       "седан      222\n",
       "хэтчбек     66\n",
       "Name: Кузов, dtype: int64"
      ]
     },
     "execution_count": 29,
     "metadata": {},
     "output_type": "execute_result"
    }
   ],
   "source": [
    "# ТИП КУЗОВА\n",
    "df['Кузов'].value_counts(sort = True, ascending = False)"
   ]
  },
  {
   "cell_type": "code",
   "execution_count": 30,
   "id": "dfaf8444",
   "metadata": {},
   "outputs": [
    {
     "data": {
      "image/png": "[encoded data removed]",
      "text/plain": [
       "<Figure size 432x288 with 1 Axes>"
      ]
     },
     "metadata": {},
     "output_type": "display_data"
    }
   ],
   "source": [
    "# Круговая диаграмма\n",
    "fraction = df['Кузов'].value_counts()[1] / len(df['Кузов'])\n",
    "labels = 'хэтчбек', 'седан'\n",
    "sizes = [fraction, 1-fraction]\n",
    "colors = ['lightskyblue', 'lightcoral']\n",
    "explode = (0.1, 0) \n",
    "plt.pie(sizes, explode=explode, labels=labels, colors=colors,\n",
    "        autopct='%1.1f%%')\n",
    "plt.show()"
   ]
  },
  {
   "cell_type": "code",
   "execution_count": 31,
   "id": "3c44b716",
   "metadata": {},
   "outputs": [
    {
     "data": {
      "image/png": "[encoded data removed]",
      "text/plain": [
       "<Figure size 936x432 with 1 Axes>"
      ]
     },
     "metadata": {},
     "output_type": "display_data"
    }
   ],
   "source": [
    "# Рассмотрим зависимость по кузову\n",
    "df_kuz=df[['Цена', 'Кузов']] # берем 2 столбика с данными\n",
    "fig, ax=plt.subplots(figsize=(13,6))\n",
    "df_kuz.boxplot(column='Цена', by='Кузов', ax=ax)\n",
    "ax.set_ylim(0,1160000)\n",
    "plt.ylabel('Цена, руб.')\n",
    "plt.show()"
   ]
  },
  {
   "cell_type": "code",
   "execution_count": 32,
   "id": "88edbc0b",
   "metadata": {},
   "outputs": [
    {
     "name": "stdout",
     "output_type": "stream",
     "text": [
      "p-level:  0.5658812901557697\n",
      "Статистика:  6984.5\n",
      "H0 принимается, различия между ценами нет\n",
      "\n",
      "Среднее (седан): 758858.356\n",
      "Среднее (хэтчбек): 776490.455\n"
     ]
    }
   ],
   "source": [
    "# Статистика Манна-Уитни\n",
    "df_groups=df.groupby(by='Кузов')\n",
    "g_1 = df_groups['Цена'].get_group('седан')\n",
    "g_2 = df_groups['Цена'].get_group('хэтчбек')\n",
    "\n",
    "stat, p=scipy.stats.mannwhitneyu(g_1, g_2)\n",
    "alfa=0.05\n",
    "print(\"p-level: \", p)\n",
    "print(\"Статистика: \", stat)\n",
    "\n",
    "if p < alfa:\n",
    "    print(\"H0 отклоняется, различие между ценами имеется\")\n",
    "else:\n",
    "    print(\"H0 принимается, различия между ценами нет\")\n",
    "\n",
    "print(\"\")\n",
    "print(\"Среднее (седан): %.3f\" % g_1.mean())\n",
    "print(\"Среднее (хэтчбек): %.3f\" % g_2.mean())"
   ]
  },
  {
   "cell_type": "code",
   "execution_count": 33,
   "id": "7d743b5e",
   "metadata": {},
   "outputs": [
    {
     "data": {
      "text/plain": [
       "1.6    190\n",
       "1.4     98\n",
       "Name: Двигатель, dtype: int64"
      ]
     },
     "execution_count": 33,
     "metadata": {},
     "output_type": "execute_result"
    }
   ],
   "source": [
    "# ОБЪЕМ ДВИГАТЕЛЯ\n",
    "df['Двигатель'].value_counts(sort = True, ascending = False)"
   ]
  },
  {
   "cell_type": "code",
   "execution_count": 34,
   "id": "c0700f34",
   "metadata": {},
   "outputs": [
    {
     "data": {
      "image/png": "[encoded data removed]",
      "text/plain": [
       "<Figure size 432x288 with 1 Axes>"
      ]
     },
     "metadata": {},
     "output_type": "display_data"
    }
   ],
   "source": [
    "# Круговая диаграмма\n",
    "fraction = df['Двигатель'].value_counts()[1.6] / len(df['Двигатель']) # 1.6 - объем двигателя\n",
    "labels = '1.6', '1.4'\n",
    "sizes = [fraction, 1-fraction]\n",
    "colors = ['lightskyblue', 'lightcoral']\n",
    "explode = (0.1, 0) \n",
    "plt.pie(sizes, explode=explode, labels=labels, colors=colors,\n",
    "        autopct='%1.1f%%')\n",
    "plt.show()"
   ]
  },
  {
   "cell_type": "code",
   "execution_count": 35,
   "id": "606eb00a",
   "metadata": {},
   "outputs": [
    {
     "data": {
      "image/png": "[encoded data removed]",
      "text/plain": [
       "<Figure size 936x432 with 1 Axes>"
      ]
     },
     "metadata": {},
     "output_type": "display_data"
    }
   ],
   "source": [
    "# Рассмотрим зависимость по двигателю\n",
    "df_kuz=df[['Цена', 'Двигатель']] # берем 2 столбика с данными\n",
    "fig, ax=plt.subplots(figsize=(13,6))\n",
    "df_kuz.boxplot(column='Цена', by='Двигатель', ax=ax)\n",
    "ax.set_ylim(0,1160000)\n",
    "plt.ylabel('Цена, руб.')\n",
    "plt.show()"
   ]
  },
  {
   "cell_type": "code",
   "execution_count": 36,
   "id": "45beb095",
   "metadata": {},
   "outputs": [
    {
     "name": "stdout",
     "output_type": "stream",
     "text": [
      "p-level:  2.4924997329871192e-05\n",
      "Статистика:  12133.0\n",
      "H0 отклоняется, различие между ценами имеется\n",
      "\n",
      "Среднее (1.6): 789389.184\n",
      "Среднее (1.4): 711540.612\n"
     ]
    }
   ],
   "source": [
    "# Статистика Манна-Уитни\n",
    "df_groups=df.groupby(by='Двигатель')\n",
    "g_1 = df_groups['Цена'].get_group(1.6)\n",
    "g_2 = df_groups['Цена'].get_group(1.4)\n",
    "\n",
    "stat, p=scipy.stats.mannwhitneyu(g_1, g_2)\n",
    "alfa=0.05\n",
    "print(\"p-level: \", p)\n",
    "print(\"Статистика: \", stat)\n",
    "\n",
    "if p < alfa:\n",
    "    print(\"H0 отклоняется, различие между ценами имеется\")\n",
    "else:\n",
    "    print(\"H0 принимается, различия между ценами нет\")\n",
    "\n",
    "print(\"\")\n",
    "print(\"Среднее (1.6): %.3f\" % g_1.mean())\n",
    "print(\"Среднее (1.4): %.3f\" % g_2.mean())"
   ]
  },
  {
   "cell_type": "code",
   "execution_count": 37,
   "id": "3ecdbd1f",
   "metadata": {},
   "outputs": [
    {
     "data": {
      "text/plain": [
       "AT    187\n",
       "MT    101\n",
       "Name: Коробка, dtype: int64"
      ]
     },
     "execution_count": 37,
     "metadata": {},
     "output_type": "execute_result"
    }
   ],
   "source": [
    "# КОРОБКА ПЕРЕДАЧ\n",
    "df['Коробка'].value_counts(sort = True, ascending = False)"
   ]
  },
  {
   "cell_type": "code",
   "execution_count": 38,
   "id": "d3c98148",
   "metadata": {},
   "outputs": [
    {
     "data": {
      "image/png": "[encoded data removed]",
      "text/plain": [
       "<Figure size 432x288 with 1 Axes>"
      ]
     },
     "metadata": {},
     "output_type": "display_data"
    }
   ],
   "source": [
    "# Круговая диаграмма\n",
    "fraction = df['Коробка'].value_counts()[1] / len(df['Коробка'])\n",
    "labels = 'МТ', 'АТ'\n",
    "sizes = [fraction, 1-fraction]\n",
    "colors = ['lightskyblue', 'lightcoral']\n",
    "explode = (0.1, 0) \n",
    "plt.pie(sizes, explode=explode, labels=labels, colors=colors,\n",
    "        autopct='%1.1f%%')\n",
    "plt.show()"
   ]
  },
  {
   "cell_type": "code",
   "execution_count": 39,
   "id": "3733eeb0",
   "metadata": {},
   "outputs": [
    {
     "data": {
      "image/png": "[encoded data removed]",
      "text/plain": [
       "<Figure size 936x432 with 1 Axes>"
      ]
     },
     "metadata": {},
     "output_type": "display_data"
    }
   ],
   "source": [
    "# Рассмотрим зависимость по коробке\n",
    "df_kuz=df[['Цена', 'Коробка']] # берем 2 столбика с данными\n",
    "fig, ax=plt.subplots(figsize=(13,6))\n",
    "df_kuz.boxplot(column='Цена', by='Коробка', ax=ax)\n",
    "ax.set_ylim(0,1160000)\n",
    "plt.ylabel('Цена, руб.')\n",
    "plt.show()"
   ]
  },
  {
   "cell_type": "code",
   "execution_count": 40,
   "id": "dd099670",
   "metadata": {},
   "outputs": [
    {
     "name": "stdout",
     "output_type": "stream",
     "text": [
      "p-level:  3.117469914327308e-10\n",
      "Статистика:  13687.5\n",
      "H0 отклоняется, различие между ценами имеется\n",
      "\n",
      "Среднее (AT): 806054.305\n",
      "Среднее (MT): 682997.723\n"
     ]
    }
   ],
   "source": [
    "# Статистика Манна-Уитни\n",
    "df_groups=df.groupby(by='Коробка')\n",
    "g_1 = df_groups['Цена'].get_group('AT')\n",
    "g_2 = df_groups['Цена'].get_group('MT')\n",
    "\n",
    "stat, p=scipy.stats.mannwhitneyu(g_1, g_2)\n",
    "alfa=0.05\n",
    "print(\"p-level: \", p)\n",
    "print(\"Статистика: \", stat)\n",
    "\n",
    "if p < alfa:\n",
    "    print(\"H0 отклоняется, различие между ценами имеется\")\n",
    "else:\n",
    "    print(\"H0 принимается, различия между ценами нет\")\n",
    "\n",
    "print(\"\")\n",
    "print(\"Среднее (AT): %.3f\" % g_1.mean())\n",
    "print(\"Среднее (MT): %.3f\" % g_2.mean())"
   ]
  },
  {
   "cell_type": "code",
   "execution_count": 41,
   "id": "661e297c",
   "metadata": {
    "scrolled": true
   },
   "outputs": [
    {
     "data": {
      "text/plain": [
       "белый          65\n",
       "серый          52\n",
       "черный         42\n",
       "серебристый    40\n",
       "красный        25\n",
       "фиолетовый     19\n",
       "бежевый        15\n",
       "коричневый     14\n",
       "синий          11\n",
       "оранжевый       3\n",
       "голубой         2\n",
       "Name: Цвет, dtype: int64"
      ]
     },
     "execution_count": 41,
     "metadata": {},
     "output_type": "execute_result"
    }
   ],
   "source": [
    "# ЦВЕТ КУЗОВА\n",
    "df['Цвет'].value_counts(sort = True, ascending = False)"
   ]
  },
  {
   "cell_type": "code",
   "execution_count": 42,
   "id": "6891a1b0",
   "metadata": {
    "scrolled": false
   },
   "outputs": [
    {
     "data": {
      "image/png": "[encoded data removed]",
      "text/plain": [
       "<Figure size 936x432 with 1 Axes>"
      ]
     },
     "metadata": {},
     "output_type": "display_data"
    }
   ],
   "source": [
    "# Рассмотрим зависимость по цвету\n",
    "df_kuz=df[['Цена', 'Цвет']] # берем 2 столбика с данными\n",
    "fig, ax=plt.subplots(figsize=(13,6))\n",
    "df_kuz.boxplot(column='Цена', by='Цвет', ax=ax)\n",
    "ax.set_ylim(380000,1160000)\n",
    "plt.ylabel('Цена, руб.')\n",
    "plt.show()"
   ]
  },
  {
   "cell_type": "code",
   "execution_count": 43,
   "id": "cf35cc77",
   "metadata": {},
   "outputs": [
    {
     "name": "stdout",
     "output_type": "stream",
     "text": [
      "Среднее (белый): 734616\n",
      "Среднее (серый): 762738\n",
      "Среднее (черный): 776359\n",
      "Среднее (серебристый): 755276\n",
      "Среднее (красный): 773840\n",
      "Среднее (фиолетовый): 677608\n",
      "Среднее (бежевый): 787400\n",
      "Среднее (коричневый): 902786\n",
      "Среднее (синий): 766545\n",
      "Среднее (оранжевый): 1014333\n",
      "Среднее (голубой): 669400\n"
     ]
    },
    {
     "data": {
      "text/html": [
       "<div>\n",
       "<style scoped>\n",
       "    .dataframe tbody tr th:only-of-type {\n",
       "        vertical-align: middle;\n",
       "    }\n",
       "\n",
       "    .dataframe tbody tr th {\n",
       "        vertical-align: top;\n",
       "    }\n",
       "\n",
       "    .dataframe thead th {\n",
       "        text-align: right;\n",
       "    }\n",
       "</style>\n",
       "<table border=\"1\" class=\"dataframe\">\n",
       "  <thead>\n",
       "    <tr style=\"text-align: right;\">\n",
       "      <th></th>\n",
       "      <th>Цвет</th>\n",
       "      <th>Цена</th>\n",
       "    </tr>\n",
       "  </thead>\n",
       "  <tbody>\n",
       "    <tr>\n",
       "      <th>2</th>\n",
       "      <td>голубой</td>\n",
       "      <td>669400.0</td>\n",
       "    </tr>\n",
       "    <tr>\n",
       "      <th>9</th>\n",
       "      <td>фиолетовый</td>\n",
       "      <td>677608.0</td>\n",
       "    </tr>\n",
       "    <tr>\n",
       "      <th>1</th>\n",
       "      <td>белый</td>\n",
       "      <td>734616.0</td>\n",
       "    </tr>\n",
       "    <tr>\n",
       "      <th>6</th>\n",
       "      <td>серебристый</td>\n",
       "      <td>755276.0</td>\n",
       "    </tr>\n",
       "    <tr>\n",
       "      <th>7</th>\n",
       "      <td>серый</td>\n",
       "      <td>762738.0</td>\n",
       "    </tr>\n",
       "    <tr>\n",
       "      <th>8</th>\n",
       "      <td>синий</td>\n",
       "      <td>766545.0</td>\n",
       "    </tr>\n",
       "    <tr>\n",
       "      <th>4</th>\n",
       "      <td>красный</td>\n",
       "      <td>773840.0</td>\n",
       "    </tr>\n",
       "    <tr>\n",
       "      <th>10</th>\n",
       "      <td>черный</td>\n",
       "      <td>776359.0</td>\n",
       "    </tr>\n",
       "    <tr>\n",
       "      <th>0</th>\n",
       "      <td>бежевый</td>\n",
       "      <td>787400.0</td>\n",
       "    </tr>\n",
       "    <tr>\n",
       "      <th>3</th>\n",
       "      <td>коричневый</td>\n",
       "      <td>902786.0</td>\n",
       "    </tr>\n",
       "    <tr>\n",
       "      <th>5</th>\n",
       "      <td>оранжевый</td>\n",
       "      <td>1014333.0</td>\n",
       "    </tr>\n",
       "  </tbody>\n",
       "</table>\n",
       "</div>"
      ],
      "text/plain": [
       "           Цвет       Цена\n",
       "2       голубой   669400.0\n",
       "9    фиолетовый   677608.0\n",
       "1         белый   734616.0\n",
       "6   серебристый   755276.0\n",
       "7         серый   762738.0\n",
       "8         синий   766545.0\n",
       "4       красный   773840.0\n",
       "10       черный   776359.0\n",
       "0       бежевый   787400.0\n",
       "3    коричневый   902786.0\n",
       "5     оранжевый  1014333.0"
      ]
     },
     "execution_count": 43,
     "metadata": {},
     "output_type": "execute_result"
    }
   ],
   "source": [
    "# Средние значения по всем признакам\n",
    "df_groups=df.groupby(by='Цвет')\n",
    "print(\"Среднее (белый): %.0f\" % df_groups['Цена'].get_group('белый').mean())\n",
    "print(\"Среднее (серый): %.0f\" % df_groups['Цена'].get_group('серый').mean())\n",
    "print(\"Среднее (черный): %.0f\" % df_groups['Цена'].get_group('черный').mean())\n",
    "print(\"Среднее (серебристый): %.0f\" % df_groups['Цена'].get_group('серебристый').mean())\n",
    "print(\"Среднее (красный): %.0f\" % df_groups['Цена'].get_group('красный').mean())\n",
    "print(\"Среднее (фиолетовый): %.0f\" % df_groups['Цена'].get_group('фиолетовый').mean())\n",
    "print(\"Среднее (бежевый): %.0f\" % df_groups['Цена'].get_group('бежевый').mean())\n",
    "print(\"Среднее (коричневый): %.0f\" % df_groups['Цена'].get_group('коричневый').mean())\n",
    "print(\"Среднее (синий): %.0f\" % df_groups['Цена'].get_group('синий').mean())\n",
    "print(\"Среднее (оранжевый): %.0f\" % df_groups['Цена'].get_group('оранжевый').mean())\n",
    "print(\"Среднее (голубой): %.0f\" % df_groups['Цена'].get_group('голубой').mean())\n",
    "\n",
    "df_price = round(df.groupby(by=['Цвет'],as_index=False)['Цена'].mean(), 0)\n",
    "df_price.sort_values(\"Цена\")"
   ]
  },
  {
   "cell_type": "markdown",
   "id": "7dbbecfd",
   "metadata": {},
   "source": [
    "По цветам кузова с многочисленной выборкой (черный, белый, серый и серебристый - 199 ТС) средние цены равны. Также с ними сопоставимы цены по таким цветам, как бежевый и синий. Итого выборка в 226 ТС."
   ]
  },
  {
   "cell_type": "code",
   "execution_count": 44,
   "id": "124fcecf",
   "metadata": {},
   "outputs": [
    {
     "data": {
      "text/plain": [
       "1    122\n",
       "2     93\n",
       "3     41\n",
       "4     21\n",
       "5      9\n",
       "6      1\n",
       "7      1\n",
       "Name: Владельцы, dtype: int64"
      ]
     },
     "execution_count": 44,
     "metadata": {},
     "output_type": "execute_result"
    }
   ],
   "source": [
    "# КОЛИЧЕСТВО ВЛАДЕЛЬЦЕВ\n",
    "df['Владельцы'].value_counts(sort = True, ascending = False)"
   ]
  },
  {
   "cell_type": "code",
   "execution_count": 45,
   "id": "85c56d5d",
   "metadata": {},
   "outputs": [
    {
     "data": {
      "image/png": "[encoded data removed]",
      "text/plain": [
       "<Figure size 936x432 with 1 Axes>"
      ]
     },
     "metadata": {},
     "output_type": "display_data"
    }
   ],
   "source": [
    "# Рассмотрим зависимость по владельцам\n",
    "df_kuz=df[['Цена', 'Владельцы']] # берем 2 столбика с данными\n",
    "fig, ax=plt.subplots(figsize=(13,6))\n",
    "df_kuz.boxplot(column='Цена', by='Владельцы', ax=ax)\n",
    "ax.set_ylim(0,1160000)\n",
    "plt.ylabel('Цена, руб.')\n",
    "plt.show()"
   ]
  },
  {
   "cell_type": "code",
   "execution_count": 46,
   "id": "70529f67",
   "metadata": {},
   "outputs": [
    {
     "data": {
      "text/html": [
       "<div>\n",
       "<style scoped>\n",
       "    .dataframe tbody tr th:only-of-type {\n",
       "        vertical-align: middle;\n",
       "    }\n",
       "\n",
       "    .dataframe tbody tr th {\n",
       "        vertical-align: top;\n",
       "    }\n",
       "\n",
       "    .dataframe thead th {\n",
       "        text-align: right;\n",
       "    }\n",
       "</style>\n",
       "<table border=\"1\" class=\"dataframe\">\n",
       "  <thead>\n",
       "    <tr style=\"text-align: right;\">\n",
       "      <th></th>\n",
       "      <th>Цена</th>\n",
       "      <th>Хр_возраст</th>\n",
       "      <th>Пробег</th>\n",
       "      <th>Кузов</th>\n",
       "      <th>Двигатель</th>\n",
       "      <th>Коробка</th>\n",
       "      <th>Цвет</th>\n",
       "      <th>Владельцы</th>\n",
       "      <th>Владельцы_2</th>\n",
       "    </tr>\n",
       "  </thead>\n",
       "  <tbody>\n",
       "    <tr>\n",
       "      <th>0</th>\n",
       "      <td>860000</td>\n",
       "      <td>7</td>\n",
       "      <td>180981</td>\n",
       "      <td>седан</td>\n",
       "      <td>1.6</td>\n",
       "      <td>AT</td>\n",
       "      <td>белый</td>\n",
       "      <td>1</td>\n",
       "      <td>1</td>\n",
       "    </tr>\n",
       "    <tr>\n",
       "      <th>1</th>\n",
       "      <td>749000</td>\n",
       "      <td>8</td>\n",
       "      <td>113537</td>\n",
       "      <td>седан</td>\n",
       "      <td>1.6</td>\n",
       "      <td>MT</td>\n",
       "      <td>серый</td>\n",
       "      <td>3</td>\n",
       "      <td>3 и более</td>\n",
       "    </tr>\n",
       "    <tr>\n",
       "      <th>2</th>\n",
       "      <td>745000</td>\n",
       "      <td>10</td>\n",
       "      <td>127639</td>\n",
       "      <td>хэтчбек</td>\n",
       "      <td>1.6</td>\n",
       "      <td>AT</td>\n",
       "      <td>фиолетовый</td>\n",
       "      <td>1</td>\n",
       "      <td>1</td>\n",
       "    </tr>\n",
       "    <tr>\n",
       "      <th>3</th>\n",
       "      <td>515000</td>\n",
       "      <td>10</td>\n",
       "      <td>225555</td>\n",
       "      <td>седан</td>\n",
       "      <td>1.4</td>\n",
       "      <td>MT</td>\n",
       "      <td>черный</td>\n",
       "      <td>4</td>\n",
       "      <td>3 и более</td>\n",
       "    </tr>\n",
       "    <tr>\n",
       "      <th>4</th>\n",
       "      <td>675000</td>\n",
       "      <td>10</td>\n",
       "      <td>122000</td>\n",
       "      <td>седан</td>\n",
       "      <td>1.6</td>\n",
       "      <td>AT</td>\n",
       "      <td>черный</td>\n",
       "      <td>2</td>\n",
       "      <td>2</td>\n",
       "    </tr>\n",
       "    <tr>\n",
       "      <th>...</th>\n",
       "      <td>...</td>\n",
       "      <td>...</td>\n",
       "      <td>...</td>\n",
       "      <td>...</td>\n",
       "      <td>...</td>\n",
       "      <td>...</td>\n",
       "      <td>...</td>\n",
       "      <td>...</td>\n",
       "      <td>...</td>\n",
       "    </tr>\n",
       "    <tr>\n",
       "      <th>295</th>\n",
       "      <td>580000</td>\n",
       "      <td>10</td>\n",
       "      <td>155000</td>\n",
       "      <td>хэтчбек</td>\n",
       "      <td>1.6</td>\n",
       "      <td>MT</td>\n",
       "      <td>серый</td>\n",
       "      <td>2</td>\n",
       "      <td>2</td>\n",
       "    </tr>\n",
       "    <tr>\n",
       "      <th>296</th>\n",
       "      <td>770000</td>\n",
       "      <td>8</td>\n",
       "      <td>73000</td>\n",
       "      <td>седан</td>\n",
       "      <td>1.6</td>\n",
       "      <td>MT</td>\n",
       "      <td>серый</td>\n",
       "      <td>1</td>\n",
       "      <td>1</td>\n",
       "    </tr>\n",
       "    <tr>\n",
       "      <th>297</th>\n",
       "      <td>695000</td>\n",
       "      <td>9</td>\n",
       "      <td>168000</td>\n",
       "      <td>седан</td>\n",
       "      <td>1.4</td>\n",
       "      <td>AT</td>\n",
       "      <td>серый</td>\n",
       "      <td>3</td>\n",
       "      <td>3 и более</td>\n",
       "    </tr>\n",
       "    <tr>\n",
       "      <th>298</th>\n",
       "      <td>690000</td>\n",
       "      <td>9</td>\n",
       "      <td>259000</td>\n",
       "      <td>седан</td>\n",
       "      <td>1.6</td>\n",
       "      <td>AT</td>\n",
       "      <td>черный</td>\n",
       "      <td>1</td>\n",
       "      <td>1</td>\n",
       "    </tr>\n",
       "    <tr>\n",
       "      <th>299</th>\n",
       "      <td>850000</td>\n",
       "      <td>6</td>\n",
       "      <td>55000</td>\n",
       "      <td>седан</td>\n",
       "      <td>1.6</td>\n",
       "      <td>AT</td>\n",
       "      <td>красный</td>\n",
       "      <td>2</td>\n",
       "      <td>2</td>\n",
       "    </tr>\n",
       "  </tbody>\n",
       "</table>\n",
       "<p>288 rows × 9 columns</p>\n",
       "</div>"
      ],
      "text/plain": [
       "       Цена  Хр_возраст  Пробег    Кузов  Двигатель Коробка        Цвет  \\\n",
       "0    860000           7  180981    седан        1.6      AT       белый   \n",
       "1    749000           8  113537    седан        1.6      MT       серый   \n",
       "2    745000          10  127639  хэтчбек        1.6      AT  фиолетовый   \n",
       "3    515000          10  225555    седан        1.4      MT      черный   \n",
       "4    675000          10  122000    седан        1.6      AT      черный   \n",
       "..      ...         ...     ...      ...        ...     ...         ...   \n",
       "295  580000          10  155000  хэтчбек        1.6      MT       серый   \n",
       "296  770000           8   73000    седан        1.6      MT       серый   \n",
       "297  695000           9  168000    седан        1.4      AT       серый   \n",
       "298  690000           9  259000    седан        1.6      AT      черный   \n",
       "299  850000           6   55000    седан        1.6      AT     красный   \n",
       "\n",
       "     Владельцы Владельцы_2  \n",
       "0            1           1  \n",
       "1            3   3 и более  \n",
       "2            1           1  \n",
       "3            4   3 и более  \n",
       "4            2           2  \n",
       "..         ...         ...  \n",
       "295          2           2  \n",
       "296          1           1  \n",
       "297          3   3 и более  \n",
       "298          1           1  \n",
       "299          2           2  \n",
       "\n",
       "[288 rows x 9 columns]"
      ]
     },
     "execution_count": 46,
     "metadata": {},
     "output_type": "execute_result"
    }
   ],
   "source": [
    "# Оставляем группы - 1 и 2 владельцев, а все остальное объединяем в группу 3 и более\n",
    "#df=df.drop('Владельцы_2', axis=1)\n",
    "df_vlad = df['Владельцы'].map({1 : '1', 2 : '2', 3 : '3 и более', 4 : '3 и более', 5 : '3 и более', \n",
    "                               6 : '3 и более', 7 : '3 и более'})\n",
    "df.insert(8, \"Владельцы_2\", df_vlad)\n",
    "df"
   ]
  },
  {
   "cell_type": "code",
   "execution_count": 47,
   "id": "953b0843",
   "metadata": {},
   "outputs": [
    {
     "data": {
      "text/plain": [
       "1            122\n",
       "2             93\n",
       "3 и более     73\n",
       "Name: Владельцы_2, dtype: int64"
      ]
     },
     "execution_count": 47,
     "metadata": {},
     "output_type": "execute_result"
    }
   ],
   "source": [
    "df['Владельцы_2'].value_counts(sort = True, ascending = False)"
   ]
  },
  {
   "cell_type": "code",
   "execution_count": 48,
   "id": "d2c8234a",
   "metadata": {},
   "outputs": [
    {
     "data": {
      "image/png": "[encoded data removed]",
      "text/plain": [
       "<Figure size 936x432 with 1 Axes>"
      ]
     },
     "metadata": {},
     "output_type": "display_data"
    }
   ],
   "source": [
    "# Рассмотрим зависимость по владельцам_2\n",
    "df_kuz=df[['Цена', 'Владельцы_2']] # берем 2 столбика с данными\n",
    "fig, ax=plt.subplots(figsize=(13,6))\n",
    "df_kuz.boxplot(column='Цена', by='Владельцы_2', ax=ax)\n",
    "ax.set_ylim(300000,1160000)\n",
    "plt.ylabel('Цена, руб.')\n",
    "plt.show()"
   ]
  },
  {
   "cell_type": "code",
   "execution_count": 49,
   "id": "93fa4844",
   "metadata": {},
   "outputs": [
    {
     "name": "stdout",
     "output_type": "stream",
     "text": [
      "p-level: 0.000\n",
      "Статистика: 40.286\n",
      "H0 отклоняется, различие между ценами имеется\n",
      "\n",
      "Среднее (1): 816174.262\n",
      "Среднее (2): 764603.065\n",
      "Среднее (3 и более): 671692.877\n"
     ]
    }
   ],
   "source": [
    "# Статистика Крускала-Уолиса\n",
    "df_groups=df.groupby(by='Владельцы_2')\n",
    "g_1 = df_groups['Цена'].get_group('1')\n",
    "g_2 = df_groups['Цена'].get_group('2')\n",
    "g_3 = df_groups['Цена'].get_group('3 и более')\n",
    "\n",
    "stat, p=scipy.stats.kruskal(g_1, g_2, g_3)\n",
    "alfa=0.05\n",
    "print(\"p-level: %.3f\" % p)\n",
    "print(\"Статистика: %.3f\" % stat)\n",
    "\n",
    "if p < alfa:\n",
    "    print(\"H0 отклоняется, различие между ценами имеется\")\n",
    "else:\n",
    "    print(\"H0 принимается, различия между ценами нет\")\n",
    "\n",
    "print(\"\")\n",
    "print(\"Среднее (1): %.3f\" % g_1.mean())\n",
    "print(\"Среднее (2): %.3f\" % g_2.mean())\n",
    "print(\"Среднее (3 и более): %.3f\" % g_3.mean())"
   ]
  },
  {
   "cell_type": "code",
   "execution_count": 50,
   "id": "9403c32e",
   "metadata": {},
   "outputs": [
    {
     "data": {
      "text/html": [
       "<div>\n",
       "<style scoped>\n",
       "    .dataframe tbody tr th:only-of-type {\n",
       "        vertical-align: middle;\n",
       "    }\n",
       "\n",
       "    .dataframe tbody tr th {\n",
       "        vertical-align: top;\n",
       "    }\n",
       "\n",
       "    .dataframe thead th {\n",
       "        text-align: right;\n",
       "    }\n",
       "</style>\n",
       "<table border=\"1\" class=\"dataframe\">\n",
       "  <thead>\n",
       "    <tr style=\"text-align: right;\">\n",
       "      <th></th>\n",
       "      <th>Цена</th>\n",
       "      <th>Хр_возраст</th>\n",
       "      <th>Пробег</th>\n",
       "      <th>Кузов</th>\n",
       "      <th>Двигатель</th>\n",
       "      <th>Коробка</th>\n",
       "      <th>Владельцы</th>\n",
       "      <th>Владельцы_2</th>\n",
       "    </tr>\n",
       "  </thead>\n",
       "  <tbody>\n",
       "    <tr>\n",
       "      <th>0</th>\n",
       "      <td>860000</td>\n",
       "      <td>7</td>\n",
       "      <td>180981</td>\n",
       "      <td>1</td>\n",
       "      <td>1.6</td>\n",
       "      <td>1</td>\n",
       "      <td>1</td>\n",
       "      <td>1</td>\n",
       "    </tr>\n",
       "    <tr>\n",
       "      <th>1</th>\n",
       "      <td>749000</td>\n",
       "      <td>8</td>\n",
       "      <td>113537</td>\n",
       "      <td>1</td>\n",
       "      <td>1.6</td>\n",
       "      <td>0</td>\n",
       "      <td>3</td>\n",
       "      <td>3 и более</td>\n",
       "    </tr>\n",
       "    <tr>\n",
       "      <th>2</th>\n",
       "      <td>745000</td>\n",
       "      <td>10</td>\n",
       "      <td>127639</td>\n",
       "      <td>0</td>\n",
       "      <td>1.6</td>\n",
       "      <td>1</td>\n",
       "      <td>1</td>\n",
       "      <td>1</td>\n",
       "    </tr>\n",
       "    <tr>\n",
       "      <th>3</th>\n",
       "      <td>515000</td>\n",
       "      <td>10</td>\n",
       "      <td>225555</td>\n",
       "      <td>1</td>\n",
       "      <td>1.4</td>\n",
       "      <td>0</td>\n",
       "      <td>4</td>\n",
       "      <td>3 и более</td>\n",
       "    </tr>\n",
       "    <tr>\n",
       "      <th>4</th>\n",
       "      <td>675000</td>\n",
       "      <td>10</td>\n",
       "      <td>122000</td>\n",
       "      <td>1</td>\n",
       "      <td>1.6</td>\n",
       "      <td>1</td>\n",
       "      <td>2</td>\n",
       "      <td>2</td>\n",
       "    </tr>\n",
       "    <tr>\n",
       "      <th>...</th>\n",
       "      <td>...</td>\n",
       "      <td>...</td>\n",
       "      <td>...</td>\n",
       "      <td>...</td>\n",
       "      <td>...</td>\n",
       "      <td>...</td>\n",
       "      <td>...</td>\n",
       "      <td>...</td>\n",
       "    </tr>\n",
       "    <tr>\n",
       "      <th>295</th>\n",
       "      <td>580000</td>\n",
       "      <td>10</td>\n",
       "      <td>155000</td>\n",
       "      <td>0</td>\n",
       "      <td>1.6</td>\n",
       "      <td>0</td>\n",
       "      <td>2</td>\n",
       "      <td>2</td>\n",
       "    </tr>\n",
       "    <tr>\n",
       "      <th>296</th>\n",
       "      <td>770000</td>\n",
       "      <td>8</td>\n",
       "      <td>73000</td>\n",
       "      <td>1</td>\n",
       "      <td>1.6</td>\n",
       "      <td>0</td>\n",
       "      <td>1</td>\n",
       "      <td>1</td>\n",
       "    </tr>\n",
       "    <tr>\n",
       "      <th>297</th>\n",
       "      <td>695000</td>\n",
       "      <td>9</td>\n",
       "      <td>168000</td>\n",
       "      <td>1</td>\n",
       "      <td>1.4</td>\n",
       "      <td>1</td>\n",
       "      <td>3</td>\n",
       "      <td>3 и более</td>\n",
       "    </tr>\n",
       "    <tr>\n",
       "      <th>298</th>\n",
       "      <td>690000</td>\n",
       "      <td>9</td>\n",
       "      <td>259000</td>\n",
       "      <td>1</td>\n",
       "      <td>1.6</td>\n",
       "      <td>1</td>\n",
       "      <td>1</td>\n",
       "      <td>1</td>\n",
       "    </tr>\n",
       "    <tr>\n",
       "      <th>299</th>\n",
       "      <td>850000</td>\n",
       "      <td>6</td>\n",
       "      <td>55000</td>\n",
       "      <td>1</td>\n",
       "      <td>1.6</td>\n",
       "      <td>1</td>\n",
       "      <td>2</td>\n",
       "      <td>2</td>\n",
       "    </tr>\n",
       "  </tbody>\n",
       "</table>\n",
       "<p>288 rows × 8 columns</p>\n",
       "</div>"
      ],
      "text/plain": [
       "       Цена  Хр_возраст  Пробег  Кузов  Двигатель  Коробка  Владельцы  \\\n",
       "0    860000           7  180981      1        1.6        1          1   \n",
       "1    749000           8  113537      1        1.6        0          3   \n",
       "2    745000          10  127639      0        1.6        1          1   \n",
       "3    515000          10  225555      1        1.4        0          4   \n",
       "4    675000          10  122000      1        1.6        1          2   \n",
       "..      ...         ...     ...    ...        ...      ...        ...   \n",
       "295  580000          10  155000      0        1.6        0          2   \n",
       "296  770000           8   73000      1        1.6        0          1   \n",
       "297  695000           9  168000      1        1.4        1          3   \n",
       "298  690000           9  259000      1        1.6        1          1   \n",
       "299  850000           6   55000      1        1.6        1          2   \n",
       "\n",
       "    Владельцы_2  \n",
       "0             1  \n",
       "1     3 и более  \n",
       "2             1  \n",
       "3     3 и более  \n",
       "4             2  \n",
       "..          ...  \n",
       "295           2  \n",
       "296           1  \n",
       "297   3 и более  \n",
       "298           1  \n",
       "299           2  \n",
       "\n",
       "[288 rows x 8 columns]"
      ]
     },
     "execution_count": 50,
     "metadata": {},
     "output_type": "execute_result"
    }
   ],
   "source": [
    "# Преобразуем факторы в количественный вид с использованием шкалы 0 и 1\n",
    "# Кузов: 0 - хэтчбек, 1 - седан.\n",
    "# Коробка: 1 - AT (автомат), 0 - MT (механика).\n",
    "# Цвет удаляем\n",
    "df['Кузов'] = df['Кузов'].map({'седан': 1, 'хэтчбек': 0})\n",
    "df['Коробка'] = df['Коробка'].map({'AT': 1, 'MT': 0})\n",
    "df=df.drop('Цвет', axis=1)\n",
    "df"
   ]
  },
  {
   "cell_type": "code",
   "execution_count": 51,
   "id": "9539c7ed",
   "metadata": {},
   "outputs": [
    {
     "name": "stdout",
     "output_type": "stream",
     "text": [
      "                Цена  Хр_возраст    Пробег     Кузов  Двигатель   Коробка  \\\n",
      "Цена        1.000000   -0.633680 -0.640242 -0.033939   0.248876  0.371497   \n",
      "Хр_возраст -0.633680    1.000000  0.267310 -0.133203  -0.048096 -0.095777   \n",
      "Пробег     -0.640242    0.267310  1.000000  0.110698  -0.047776 -0.116318   \n",
      "Кузов      -0.033939   -0.133203  0.110698  1.000000   0.009445 -0.106400   \n",
      "Двигатель   0.248876   -0.048096 -0.047776  0.009445   1.000000  0.101850   \n",
      "Коробка     0.371497   -0.095777 -0.116318 -0.106400   0.101850  1.000000   \n",
      "Владельцы  -0.375914    0.158577  0.278811  0.032338  -0.103327  0.004646   \n",
      "\n",
      "            Владельцы  \n",
      "Цена        -0.375914  \n",
      "Хр_возраст   0.158577  \n",
      "Пробег       0.278811  \n",
      "Кузов        0.032338  \n",
      "Двигатель   -0.103327  \n",
      "Коробка      0.004646  \n",
      "Владельцы    1.000000  \n"
     ]
    },
    {
     "data": {
      "text/plain": [
       "<AxesSubplot:>"
      ]
     },
     "execution_count": 51,
     "metadata": {},
     "output_type": "execute_result"
    },
    {
     "data": {
      "image/png": "[encoded data removed]",
      "text/plain": [
       "<Figure size 432x288 with 2 Axes>"
      ]
     },
     "metadata": {},
     "output_type": "display_data"
    }
   ],
   "source": [
    "# Строим корреляционную матрицу\n",
    "# h_map(df,0.3) # аналогичная матрица, как ниже\n",
    "numeric_col = ['Цена','Хр_возраст','Пробег','Кузов','Двигатель', 'Коробка', 'Владельцы']\n",
    "corr_matrix = df.loc[:,numeric_col].corr(method=\"spearman\") # pearson, kendall\n",
    "print(corr_matrix)\n",
    "sns.heatmap(corr_matrix, annot=True)"
   ]
  },
  {
   "cell_type": "markdown",
   "id": "f17c30fa",
   "metadata": {},
   "source": [
    "По корреляционной матрице мы видим, что имеется зависимость цены от хронологического возраста, пробега, количества владельцев, типа коробки передач, объема двигателя. Тип кузова на стоимость транспортного средства не влияет. Мультиколлинеарность не наблюдается, ниже проведем проверку по методу VIF."
   ]
  },
  {
   "cell_type": "code",
   "execution_count": 52,
   "id": "31e77fc5",
   "metadata": {},
   "outputs": [
    {
     "data": {
      "text/plain": [
       "<seaborn.axisgrid.PairGrid at 0x28cb45eab50>"
      ]
     },
     "execution_count": 52,
     "metadata": {},
     "output_type": "execute_result"
    },
    {
     "data": {
      "image/png": "[encoded data removed]",
      "text/plain": [
       "<Figure size 540x540 with 12 Axes>"
      ]
     },
     "metadata": {},
     "output_type": "display_data"
    }
   ],
   "source": [
    "# Построим графики разбросов и гистограммы в зависимости от факторов - пробег и хронологический возраст\n",
    "# df.columns # выводит названия столбцов\n",
    "# scatter_matrix(df[['Цена','Хр_возраст','Пробег']]) # выводит аналогичный грайик, как ниже\n",
    "sns.pairplot(df[['Цена','Хр_возраст','Пробег']])"
   ]
  },
  {
   "cell_type": "code",
   "execution_count": 53,
   "id": "aa9d5f4d",
   "metadata": {},
   "outputs": [],
   "source": [
    "# Преобразуем цену ТС и пробег в логарифм и посмотрим результаты\n",
    "df_price = df['Цена'].apply(np.log)\n",
    "df.insert(1, \"LN(Цена)\", df_price)"
   ]
  },
  {
   "cell_type": "code",
   "execution_count": 54,
   "id": "7767b070",
   "metadata": {},
   "outputs": [
    {
     "data": {
      "text/html": [
       "<div>\n",
       "<style scoped>\n",
       "    .dataframe tbody tr th:only-of-type {\n",
       "        vertical-align: middle;\n",
       "    }\n",
       "\n",
       "    .dataframe tbody tr th {\n",
       "        vertical-align: top;\n",
       "    }\n",
       "\n",
       "    .dataframe thead th {\n",
       "        text-align: right;\n",
       "    }\n",
       "</style>\n",
       "<table border=\"1\" class=\"dataframe\">\n",
       "  <thead>\n",
       "    <tr style=\"text-align: right;\">\n",
       "      <th></th>\n",
       "      <th>Цена</th>\n",
       "      <th>LN(Цена)</th>\n",
       "      <th>Хр_возраст</th>\n",
       "      <th>Пробег</th>\n",
       "      <th>LN(Пробег)</th>\n",
       "      <th>Кузов</th>\n",
       "      <th>Двигатель</th>\n",
       "      <th>Коробка</th>\n",
       "      <th>Владельцы</th>\n",
       "      <th>Владельцы_2</th>\n",
       "    </tr>\n",
       "  </thead>\n",
       "  <tbody>\n",
       "    <tr>\n",
       "      <th>0</th>\n",
       "      <td>860000</td>\n",
       "      <td>13.664688</td>\n",
       "      <td>7</td>\n",
       "      <td>180981</td>\n",
       "      <td>12.106147</td>\n",
       "      <td>1</td>\n",
       "      <td>1.6</td>\n",
       "      <td>1</td>\n",
       "      <td>1</td>\n",
       "      <td>1</td>\n",
       "    </tr>\n",
       "    <tr>\n",
       "      <th>1</th>\n",
       "      <td>749000</td>\n",
       "      <td>13.526494</td>\n",
       "      <td>8</td>\n",
       "      <td>113537</td>\n",
       "      <td>11.639884</td>\n",
       "      <td>1</td>\n",
       "      <td>1.6</td>\n",
       "      <td>0</td>\n",
       "      <td>3</td>\n",
       "      <td>3 и более</td>\n",
       "    </tr>\n",
       "    <tr>\n",
       "      <th>2</th>\n",
       "      <td>745000</td>\n",
       "      <td>13.521139</td>\n",
       "      <td>10</td>\n",
       "      <td>127639</td>\n",
       "      <td>11.756961</td>\n",
       "      <td>0</td>\n",
       "      <td>1.6</td>\n",
       "      <td>1</td>\n",
       "      <td>1</td>\n",
       "      <td>1</td>\n",
       "    </tr>\n",
       "    <tr>\n",
       "      <th>3</th>\n",
       "      <td>515000</td>\n",
       "      <td>13.151922</td>\n",
       "      <td>10</td>\n",
       "      <td>225555</td>\n",
       "      <td>12.326319</td>\n",
       "      <td>1</td>\n",
       "      <td>1.4</td>\n",
       "      <td>0</td>\n",
       "      <td>4</td>\n",
       "      <td>3 и более</td>\n",
       "    </tr>\n",
       "    <tr>\n",
       "      <th>4</th>\n",
       "      <td>675000</td>\n",
       "      <td>13.422468</td>\n",
       "      <td>10</td>\n",
       "      <td>122000</td>\n",
       "      <td>11.711776</td>\n",
       "      <td>1</td>\n",
       "      <td>1.6</td>\n",
       "      <td>1</td>\n",
       "      <td>2</td>\n",
       "      <td>2</td>\n",
       "    </tr>\n",
       "    <tr>\n",
       "      <th>5</th>\n",
       "      <td>725000</td>\n",
       "      <td>13.493927</td>\n",
       "      <td>11</td>\n",
       "      <td>124500</td>\n",
       "      <td>11.732061</td>\n",
       "      <td>1</td>\n",
       "      <td>1.6</td>\n",
       "      <td>1</td>\n",
       "      <td>4</td>\n",
       "      <td>3 и более</td>\n",
       "    </tr>\n",
       "    <tr>\n",
       "      <th>6</th>\n",
       "      <td>795000</td>\n",
       "      <td>13.586097</td>\n",
       "      <td>9</td>\n",
       "      <td>106593</td>\n",
       "      <td>11.576773</td>\n",
       "      <td>1</td>\n",
       "      <td>1.4</td>\n",
       "      <td>1</td>\n",
       "      <td>1</td>\n",
       "      <td>1</td>\n",
       "    </tr>\n",
       "    <tr>\n",
       "      <th>7</th>\n",
       "      <td>770000</td>\n",
       "      <td>13.554146</td>\n",
       "      <td>8</td>\n",
       "      <td>83000</td>\n",
       "      <td>11.326596</td>\n",
       "      <td>1</td>\n",
       "      <td>1.6</td>\n",
       "      <td>1</td>\n",
       "      <td>1</td>\n",
       "      <td>1</td>\n",
       "    </tr>\n",
       "    <tr>\n",
       "      <th>8</th>\n",
       "      <td>670000</td>\n",
       "      <td>13.415033</td>\n",
       "      <td>10</td>\n",
       "      <td>196000</td>\n",
       "      <td>12.185870</td>\n",
       "      <td>1</td>\n",
       "      <td>1.4</td>\n",
       "      <td>1</td>\n",
       "      <td>1</td>\n",
       "      <td>1</td>\n",
       "    </tr>\n",
       "    <tr>\n",
       "      <th>9</th>\n",
       "      <td>720000</td>\n",
       "      <td>13.487006</td>\n",
       "      <td>10</td>\n",
       "      <td>150362</td>\n",
       "      <td>11.920801</td>\n",
       "      <td>1</td>\n",
       "      <td>1.6</td>\n",
       "      <td>1</td>\n",
       "      <td>2</td>\n",
       "      <td>2</td>\n",
       "    </tr>\n",
       "  </tbody>\n",
       "</table>\n",
       "</div>"
      ],
      "text/plain": [
       "     Цена   LN(Цена)  Хр_возраст  Пробег  LN(Пробег)  Кузов  Двигатель  \\\n",
       "0  860000  13.664688           7  180981   12.106147      1        1.6   \n",
       "1  749000  13.526494           8  113537   11.639884      1        1.6   \n",
       "2  745000  13.521139          10  127639   11.756961      0        1.6   \n",
       "3  515000  13.151922          10  225555   12.326319      1        1.4   \n",
       "4  675000  13.422468          10  122000   11.711776      1        1.6   \n",
       "5  725000  13.493927          11  124500   11.732061      1        1.6   \n",
       "6  795000  13.586097           9  106593   11.576773      1        1.4   \n",
       "7  770000  13.554146           8   83000   11.326596      1        1.6   \n",
       "8  670000  13.415033          10  196000   12.185870      1        1.4   \n",
       "9  720000  13.487006          10  150362   11.920801      1        1.6   \n",
       "\n",
       "   Коробка  Владельцы Владельцы_2  \n",
       "0        1          1           1  \n",
       "1        0          3   3 и более  \n",
       "2        1          1           1  \n",
       "3        0          4   3 и более  \n",
       "4        1          2           2  \n",
       "5        1          4   3 и более  \n",
       "6        1          1           1  \n",
       "7        1          1           1  \n",
       "8        1          1           1  \n",
       "9        1          2           2  "
      ]
     },
     "execution_count": 54,
     "metadata": {},
     "output_type": "execute_result"
    }
   ],
   "source": [
    "# df=df.drop('LN(Пробег)', axis=1)\n",
    "df_prob = df['Пробег'].apply(np.log)\n",
    "df.insert(4, \"LN(Пробег)\", df_prob)\n",
    "\n",
    "df.head(10)"
   ]
  },
  {
   "cell_type": "code",
   "execution_count": 55,
   "id": "014f9539",
   "metadata": {},
   "outputs": [
    {
     "data": {
      "text/plain": [
       "<AxesSubplot:xlabel='LN(Цена)', ylabel='Density'>"
      ]
     },
     "execution_count": 55,
     "metadata": {},
     "output_type": "execute_result"
    },
    {
     "data": {
      "image/png": "[encoded data removed]",
      "text/plain": [
       "<Figure size 432x288 with 1 Axes>"
      ]
     },
     "metadata": {},
     "output_type": "display_data"
    }
   ],
   "source": [
    "# Построим гистограмму распределения логарифмированной цены\n",
    "sns.set()\n",
    "sns.distplot(df['LN(Цена)'])"
   ]
  },
  {
   "cell_type": "code",
   "execution_count": 56,
   "id": "0f5bc204",
   "metadata": {
    "scrolled": false
   },
   "outputs": [
    {
     "data": {
      "text/plain": [
       "<AxesSubplot:xlabel='LN(Пробег)', ylabel='Density'>"
      ]
     },
     "execution_count": 56,
     "metadata": {},
     "output_type": "execute_result"
    },
    {
     "data": {
      "image/png": "[encoded data removed]",
      "text/plain": [
       "<Figure size 432x288 with 1 Axes>"
      ]
     },
     "metadata": {},
     "output_type": "display_data"
    }
   ],
   "source": [
    "# Построим гистограмму распределения логарифмированного пробега\n",
    "sns.set()\n",
    "sns.distplot(df['LN(Пробег)'])"
   ]
  },
  {
   "cell_type": "code",
   "execution_count": 57,
   "id": "829b5fa5",
   "metadata": {},
   "outputs": [
    {
     "name": "stdout",
     "output_type": "stream",
     "text": [
      "Эксцесс: 0.775\n",
      "Критический эксцесс: 1.431\n",
      "Асимметрия: -0.581\n",
      "Критическая асимметрия: 0.431\n"
     ]
    }
   ],
   "source": [
    "print(\"Эксцесс: %.3f\" % df['LN(Пробег)'].kurt())\n",
    "E=5*math.sqrt((24*n*(n-1)**2)/((n-3)*(n-2)*(n+3)*(n+5)))\n",
    "print(\"Критический эксцесс: %.3f\" % E)\n",
    "print(\"Асимметрия: %.3f\" % df['LN(Пробег)'].skew())\n",
    "A=3*math.sqrt((6*n*(n-1))/((n-2)*(n+1)*(n+3)))\n",
    "print(\"Критическая асимметрия: %.3f\" % A)"
   ]
  },
  {
   "cell_type": "markdown",
   "id": "8f949a23",
   "metadata": {},
   "source": [
    "# Проверка на мультиколлинеарность по методу VIF"
   ]
  },
  {
   "cell_type": "code",
   "execution_count": 58,
   "id": "2660d0a4",
   "metadata": {},
   "outputs": [
    {
     "data": {
      "text/html": [
       "<div>\n",
       "<style scoped>\n",
       "    .dataframe tbody tr th:only-of-type {\n",
       "        vertical-align: middle;\n",
       "    }\n",
       "\n",
       "    .dataframe tbody tr th {\n",
       "        vertical-align: top;\n",
       "    }\n",
       "\n",
       "    .dataframe thead th {\n",
       "        text-align: right;\n",
       "    }\n",
       "</style>\n",
       "<table border=\"1\" class=\"dataframe\">\n",
       "  <thead>\n",
       "    <tr style=\"text-align: right;\">\n",
       "      <th></th>\n",
       "      <th>const</th>\n",
       "      <th>Хр_возраст</th>\n",
       "      <th>Пробег</th>\n",
       "      <th>Двигатель</th>\n",
       "      <th>Коробка</th>\n",
       "      <th>Владельцы</th>\n",
       "    </tr>\n",
       "  </thead>\n",
       "  <tbody>\n",
       "    <tr>\n",
       "      <th>0</th>\n",
       "      <td>1.0</td>\n",
       "      <td>7</td>\n",
       "      <td>180981</td>\n",
       "      <td>1.6</td>\n",
       "      <td>1</td>\n",
       "      <td>1</td>\n",
       "    </tr>\n",
       "    <tr>\n",
       "      <th>1</th>\n",
       "      <td>1.0</td>\n",
       "      <td>8</td>\n",
       "      <td>113537</td>\n",
       "      <td>1.6</td>\n",
       "      <td>0</td>\n",
       "      <td>3</td>\n",
       "    </tr>\n",
       "    <tr>\n",
       "      <th>2</th>\n",
       "      <td>1.0</td>\n",
       "      <td>10</td>\n",
       "      <td>127639</td>\n",
       "      <td>1.6</td>\n",
       "      <td>1</td>\n",
       "      <td>1</td>\n",
       "    </tr>\n",
       "    <tr>\n",
       "      <th>3</th>\n",
       "      <td>1.0</td>\n",
       "      <td>10</td>\n",
       "      <td>225555</td>\n",
       "      <td>1.4</td>\n",
       "      <td>0</td>\n",
       "      <td>4</td>\n",
       "    </tr>\n",
       "    <tr>\n",
       "      <th>4</th>\n",
       "      <td>1.0</td>\n",
       "      <td>10</td>\n",
       "      <td>122000</td>\n",
       "      <td>1.6</td>\n",
       "      <td>1</td>\n",
       "      <td>2</td>\n",
       "    </tr>\n",
       "    <tr>\n",
       "      <th>...</th>\n",
       "      <td>...</td>\n",
       "      <td>...</td>\n",
       "      <td>...</td>\n",
       "      <td>...</td>\n",
       "      <td>...</td>\n",
       "      <td>...</td>\n",
       "    </tr>\n",
       "    <tr>\n",
       "      <th>295</th>\n",
       "      <td>1.0</td>\n",
       "      <td>10</td>\n",
       "      <td>155000</td>\n",
       "      <td>1.6</td>\n",
       "      <td>0</td>\n",
       "      <td>2</td>\n",
       "    </tr>\n",
       "    <tr>\n",
       "      <th>296</th>\n",
       "      <td>1.0</td>\n",
       "      <td>8</td>\n",
       "      <td>73000</td>\n",
       "      <td>1.6</td>\n",
       "      <td>0</td>\n",
       "      <td>1</td>\n",
       "    </tr>\n",
       "    <tr>\n",
       "      <th>297</th>\n",
       "      <td>1.0</td>\n",
       "      <td>9</td>\n",
       "      <td>168000</td>\n",
       "      <td>1.4</td>\n",
       "      <td>1</td>\n",
       "      <td>3</td>\n",
       "    </tr>\n",
       "    <tr>\n",
       "      <th>298</th>\n",
       "      <td>1.0</td>\n",
       "      <td>9</td>\n",
       "      <td>259000</td>\n",
       "      <td>1.6</td>\n",
       "      <td>1</td>\n",
       "      <td>1</td>\n",
       "    </tr>\n",
       "    <tr>\n",
       "      <th>299</th>\n",
       "      <td>1.0</td>\n",
       "      <td>6</td>\n",
       "      <td>55000</td>\n",
       "      <td>1.6</td>\n",
       "      <td>1</td>\n",
       "      <td>2</td>\n",
       "    </tr>\n",
       "  </tbody>\n",
       "</table>\n",
       "<p>288 rows × 6 columns</p>\n",
       "</div>"
      ],
      "text/plain": [
       "     const  Хр_возраст  Пробег  Двигатель  Коробка  Владельцы\n",
       "0      1.0           7  180981        1.6        1          1\n",
       "1      1.0           8  113537        1.6        0          3\n",
       "2      1.0          10  127639        1.6        1          1\n",
       "3      1.0          10  225555        1.4        0          4\n",
       "4      1.0          10  122000        1.6        1          2\n",
       "..     ...         ...     ...        ...      ...        ...\n",
       "295    1.0          10  155000        1.6        0          2\n",
       "296    1.0           8   73000        1.6        0          1\n",
       "297    1.0           9  168000        1.4        1          3\n",
       "298    1.0           9  259000        1.6        1          1\n",
       "299    1.0           6   55000        1.6        1          2\n",
       "\n",
       "[288 rows x 6 columns]"
      ]
     },
     "execution_count": 58,
     "metadata": {},
     "output_type": "execute_result"
    }
   ],
   "source": [
    "X=pd.DataFrame(df[['Хр_возраст','Пробег','Двигатель', 'Коробка', 'Владельцы']])\n",
    "Factors = sm.add_constant(X) # добавляем константу = 1 к факторам\n",
    "Factors"
   ]
  },
  {
   "cell_type": "code",
   "execution_count": 59,
   "id": "12112c54",
   "metadata": {},
   "outputs": [
    {
     "data": {
      "text/html": [
       "<div>\n",
       "<style scoped>\n",
       "    .dataframe tbody tr th:only-of-type {\n",
       "        vertical-align: middle;\n",
       "    }\n",
       "\n",
       "    .dataframe tbody tr th {\n",
       "        vertical-align: top;\n",
       "    }\n",
       "\n",
       "    .dataframe thead th {\n",
       "        text-align: right;\n",
       "    }\n",
       "</style>\n",
       "<table border=\"1\" class=\"dataframe\">\n",
       "  <thead>\n",
       "    <tr style=\"text-align: right;\">\n",
       "      <th></th>\n",
       "      <th>Фактор</th>\n",
       "      <th>VIF</th>\n",
       "    </tr>\n",
       "  </thead>\n",
       "  <tbody>\n",
       "    <tr>\n",
       "      <th>0</th>\n",
       "      <td>const</td>\n",
       "      <td>311.32</td>\n",
       "    </tr>\n",
       "    <tr>\n",
       "      <th>1</th>\n",
       "      <td>Хр_возраст</td>\n",
       "      <td>1.05</td>\n",
       "    </tr>\n",
       "    <tr>\n",
       "      <th>2</th>\n",
       "      <td>Пробег</td>\n",
       "      <td>1.14</td>\n",
       "    </tr>\n",
       "    <tr>\n",
       "      <th>3</th>\n",
       "      <td>Двигатель</td>\n",
       "      <td>1.03</td>\n",
       "    </tr>\n",
       "    <tr>\n",
       "      <th>4</th>\n",
       "      <td>Коробка</td>\n",
       "      <td>1.03</td>\n",
       "    </tr>\n",
       "    <tr>\n",
       "      <th>5</th>\n",
       "      <td>Владельцы</td>\n",
       "      <td>1.11</td>\n",
       "    </tr>\n",
       "  </tbody>\n",
       "</table>\n",
       "</div>"
      ],
      "text/plain": [
       "       Фактор     VIF\n",
       "0       const  311.32\n",
       "1  Хр_возраст    1.05\n",
       "2      Пробег    1.14\n",
       "3   Двигатель    1.03\n",
       "4     Коробка    1.03\n",
       "5   Владельцы    1.11"
      ]
     },
     "execution_count": 59,
     "metadata": {},
     "output_type": "execute_result"
    }
   ],
   "source": [
    "vif = [variance_inflation_factor(exog=Factors.values, \n",
    "                                 exog_idx=i) for i in range(Factors.shape[1])]\n",
    "pd.DataFrame({'Фактор': Factors.columns, 'VIF': np.around(vif, 2)})"
   ]
  },
  {
   "cell_type": "markdown",
   "id": "17d05982",
   "metadata": {},
   "source": [
    "Согласно методу VIF мультиколлинеарность отсутствует (так как VIF<10), все факторы могут быть использованы в модели регрессии."
   ]
  },
  {
   "cell_type": "markdown",
   "id": "da12f174",
   "metadata": {},
   "source": [
    "# Построение многофакторной регрессионной модели"
   ]
  },
  {
   "cell_type": "code",
   "execution_count": 98,
   "id": "93516457",
   "metadata": {},
   "outputs": [],
   "source": [
    "# Присваиваем зависимую переменную (цена) Y, а независимые переменные - X\n",
    "X=df[['Хр_возраст','Пробег','Двигатель', 'Коробка', 'Владельцы']]\n",
    "Y=df['Цена']\n",
    "# Делим имеющуюся выборку на обучающую и тестовую\n",
    "X_train, X_test, Y_train, Y_test = train_test_split(X, Y, test_size=0.2, random_state=0)"
   ]
  },
  {
   "cell_type": "code",
   "execution_count": 61,
   "id": "b9d4e209",
   "metadata": {},
   "outputs": [
    {
     "name": "stdout",
     "output_type": "stream",
     "text": [
      "                            OLS Regression Results                            \n",
      "==============================================================================\n",
      "Dep. Variable:                   Цена   R-squared:                       0.768\n",
      "Model:                            OLS   Adj. R-squared:                  0.762\n",
      "Method:                 Least Squares   F-statistic:                     148.0\n",
      "Date:                Thu, 14 Apr 2022   Prob (F-statistic):           6.17e-69\n",
      "Time:                        06:47:35   Log-Likelihood:                -2897.5\n",
      "No. Observations:                 230   AIC:                             5807.\n",
      "Df Residuals:                     224   BIC:                             5828.\n",
      "Df Model:                           5                                         \n",
      "Covariance Type:            nonrobust                                         \n",
      "==============================================================================\n",
      "                 coef    std err          t      P>|t|      [0.025      0.975]\n",
      "------------------------------------------------------------------------------\n",
      "const       9.711e+05   8.35e+04     11.635      0.000    8.07e+05    1.14e+06\n",
      "Хр_возраст -4.527e+04   3033.581    -14.921      0.000   -5.12e+04   -3.93e+04\n",
      "Пробег        -1.1292      0.087    -13.010      0.000      -1.300      -0.958\n",
      "Двигатель   2.219e+05   5.11e+04      4.346      0.000    1.21e+05    3.22e+05\n",
      "Коробка     8.027e+04   1.01e+04      7.914      0.000    6.03e+04       1e+05\n",
      "Владельцы  -3.022e+04   4523.897     -6.681      0.000   -3.91e+04   -2.13e+04\n",
      "==============================================================================\n",
      "Omnibus:                        0.268   Durbin-Watson:                   2.031\n",
      "Prob(Omnibus):                  0.875   Jarque-Bera (JB):                0.213\n",
      "Skew:                           0.075   Prob(JB):                        0.899\n",
      "Kurtosis:                       2.994   Cond. No.                     2.95e+06\n",
      "==============================================================================\n",
      "\n",
      "Notes:\n",
      "[1] Standard Errors assume that the covariance matrix of the errors is correctly specified.\n",
      "[2] The condition number is large, 2.95e+06. This might indicate that there are\n",
      "strong multicollinearity or other numerical problems.\n"
     ]
    },
    {
     "data": {
      "image/png": "[encoded data removed]",
      "text/plain": [
       "<Figure size 432x288 with 1 Axes>"
      ]
     },
     "metadata": {},
     "output_type": "display_data"
    }
   ],
   "source": [
    "X = sm.add_constant(X_train) # добавляем константу = 1 к факторам\n",
    "\n",
    "# Строим регрессионную модель\n",
    "model = sm.OLS(Y_train, X)\n",
    "results = model.fit()\n",
    "print(results.summary())\n",
    "r = results.predict(X)\n",
    "r = np.array(results)\n",
    "\n",
    "# Строим график\n",
    "sns.regplot(results.fittedvalues.copy(), Y_train)\n",
    "plt.show()"
   ]
  },
  {
   "cell_type": "markdown",
   "id": "8084cbda",
   "metadata": {},
   "source": [
    "BIC - информационный критерий. Похож на AIC, но имеет более высокий штраф для моделей с большим количеством параметров. Чем меньше значение, тем лучше.\n",
    "\n",
    "Omnibus - тест на асимметрию и эксцесс остатков. Мы надеемся увидеть значение, близкое к нулю, которое указывало бы на нормальность. The Prob (Omnibus) выполняет статистический тест, показывающий вероятность того, что остатки нормально распределены. Мы надеемся увидеть здесь что-то близкое к 1. В случае если Omnibus относительно низок, а Prob (Omnibus) относительно высок, остатки в целом нормальны, но не идеальны. Подход с линейной регрессией, вероятно, будет лучше, чем случайное угадывание, но, вероятно, хуже нелинейных подходов.\n",
    "\n",
    "Skew - мера симметрии данных. Мы хотим видеть что-то близкое к нулю, это указывает на то, что остаточное распределение нормально.\n",
    "\n",
    "Kurtosis - это мера «пиковости» или кривизны данных. Более высокие пики приводят к большему куртозу. Большой куртоз можно интерпретировать как более плотную кластеризацию остатков около нуля, что подразумевает лучшую модель с небольшим количеством выбросов (т.е. чем больше, тем лучше).\n",
    "\n",
    "Cond. No. - значения больше 20 вызывают подозрения в мультиколлинеарности. Чаще всего сложно пройти данный тест. Чем меньше, тем лучше.\n",
    "\n",
    "R2 - насколько переменные хорошо объясняют разброс оценок. Максимальное значение – 1. Но при значениях более 0,9 надо крайне внимательно проверить на эффект мультиколлинеарности. Adj. R-squared - это нормированный R2, который используется для сравнения моделей регрессии (как AIC и BIC).\n",
    "\n",
    "Durbin-Watson - тест на наличие автокорреляции в остатках. В идеале значение должно стремиться к 2 (минимальное значение – 0, максимальное – 4). Значения меньше 0,8 однозначно указывают на циклические колебания в остатках. Эмпирически считается, что статистика лежит в нормальных пределах, если больше 1,5 и меньше 2,5.\n",
    "\n",
    "Jarque-Bera (JB) - тест на нормальность остатков. Используется на больших наборах данных, более 2000. По своей сути аналогичен Omnibus. Если Prob(JB)>0.05, то считается, что остатки распределены нормально."
   ]
  },
  {
   "cell_type": "code",
   "execution_count": 62,
   "id": "1542f382",
   "metadata": {},
   "outputs": [
    {
     "name": "stdout",
     "output_type": "stream",
     "text": [
      "Trainig R^2: 0.7677\n",
      "Test R^2: 0.8299\n"
     ]
    }
   ],
   "source": [
    "# Тестирование полученной модели на тестовых данных\n",
    "model2 = LinearRegression()\n",
    "model2.fit(X_train, Y_train)\n",
    "\n",
    "# R2 обучающей выборки\n",
    "print('Trainig R^2:', round(results.rsquared, 4))\n",
    "# print('Trainig R^2::', model2.score(X_train, Y_train))\n",
    "\n",
    "# R2 тестовой выборки\n",
    "print('Test R^2:', round(model2.score(X_test, Y_test), 4))"
   ]
  },
  {
   "cell_type": "code",
   "execution_count": 63,
   "id": "be00436c",
   "metadata": {},
   "outputs": [
    {
     "data": {
      "text/html": [
       "<div>\n",
       "<style scoped>\n",
       "    .dataframe tbody tr th:only-of-type {\n",
       "        vertical-align: middle;\n",
       "    }\n",
       "\n",
       "    .dataframe tbody tr th {\n",
       "        vertical-align: top;\n",
       "    }\n",
       "\n",
       "    .dataframe thead th {\n",
       "        text-align: right;\n",
       "    }\n",
       "</style>\n",
       "<table border=\"1\" class=\"dataframe\">\n",
       "  <thead>\n",
       "    <tr style=\"text-align: right;\">\n",
       "      <th></th>\n",
       "      <th>Коэфф</th>\n",
       "    </tr>\n",
       "  </thead>\n",
       "  <tbody>\n",
       "    <tr>\n",
       "      <th>const</th>\n",
       "      <td>971141.456252</td>\n",
       "    </tr>\n",
       "    <tr>\n",
       "      <th>Хр_возраст</th>\n",
       "      <td>-45265.418266</td>\n",
       "    </tr>\n",
       "    <tr>\n",
       "      <th>Пробег</th>\n",
       "      <td>-1.129242</td>\n",
       "    </tr>\n",
       "    <tr>\n",
       "      <th>Двигатель</th>\n",
       "      <td>221872.238943</td>\n",
       "    </tr>\n",
       "    <tr>\n",
       "      <th>Коробка</th>\n",
       "      <td>80268.227998</td>\n",
       "    </tr>\n",
       "    <tr>\n",
       "      <th>Владельцы</th>\n",
       "      <td>-30224.069413</td>\n",
       "    </tr>\n",
       "  </tbody>\n",
       "</table>\n",
       "</div>"
      ],
      "text/plain": [
       "                    Коэфф\n",
       "const       971141.456252\n",
       "Хр_возраст  -45265.418266\n",
       "Пробег          -1.129242\n",
       "Двигатель   221872.238943\n",
       "Коробка      80268.227998\n",
       "Владельцы   -30224.069413"
      ]
     },
     "execution_count": 63,
     "metadata": {},
     "output_type": "execute_result"
    }
   ],
   "source": [
    "# Выведим все полученные коэффициенты\n",
    "# pd.DataFrame({'Коэфф': results.params, 'p-level': round(results.pvalues, 3)})\n",
    "# pd.DataFrame({'Коэфф': results.params})\n",
    "coef=pd.DataFrame({'Коэфф': results.params})\n",
    "coef"
   ]
  },
  {
   "cell_type": "code",
   "execution_count": 64,
   "id": "d525ad92",
   "metadata": {},
   "outputs": [
    {
     "data": {
      "text/plain": [
       "<BarContainer object of 5 artists>"
      ]
     },
     "execution_count": 64,
     "metadata": {},
     "output_type": "execute_result"
    },
    {
     "data": {
      "image/png": "[encoded data removed]",
      "text/plain": [
       "<Figure size 432x288 with 1 Axes>"
      ]
     },
     "metadata": {
      "needs_background": "light"
     },
     "output_type": "display_data"
    }
   ],
   "source": [
    "# Ниже приведены примеры вывода весо каждого фактора для других моделей, не подходит для регрессии. \n",
    "# Вклад для регрессии показывают сами коэффициенты модели\n",
    "#v=model2.feature_importances_\n",
    "#print(model.feature_importances_)\n",
    "#feature_importance=pd.DataFrame({'feature':list(X_train.columns),'feature_importance':model2.feature_importances_})\n",
    "#feature_importance.sort_values('feature_importance',ascending=False)\n",
    "\n",
    "# Покажем вклад каждого коэффициента графически\n",
    "%config inlineBackend.figure_format = 'svg'\n",
    "%matplotlib inline\n",
    "plt.barh(X_train.columns, model2.coef_.flatten())"
   ]
  },
  {
   "cell_type": "code",
   "execution_count": 72,
   "id": "d7379823",
   "metadata": {},
   "outputs": [
    {
     "data": {
      "text/html": [
       "<div>\n",
       "<style scoped>\n",
       "    .dataframe tbody tr th:only-of-type {\n",
       "        vertical-align: middle;\n",
       "    }\n",
       "\n",
       "    .dataframe tbody tr th {\n",
       "        vertical-align: top;\n",
       "    }\n",
       "\n",
       "    .dataframe thead th {\n",
       "        text-align: right;\n",
       "    }\n",
       "</style>\n",
       "<table border=\"1\" class=\"dataframe\">\n",
       "  <thead>\n",
       "    <tr style=\"text-align: right;\">\n",
       "      <th></th>\n",
       "      <th>Цена_рег</th>\n",
       "    </tr>\n",
       "  </thead>\n",
       "  <tbody>\n",
       "    <tr>\n",
       "      <th>0</th>\n",
       "      <td>854952.0</td>\n",
       "    </tr>\n",
       "    <tr>\n",
       "      <th>1</th>\n",
       "      <td>745131.0</td>\n",
       "    </tr>\n",
       "    <tr>\n",
       "      <th>2</th>\n",
       "      <td>779392.0</td>\n",
       "    </tr>\n",
       "    <tr>\n",
       "      <th>3</th>\n",
       "      <td>453506.0</td>\n",
       "    </tr>\n",
       "    <tr>\n",
       "      <th>4</th>\n",
       "      <td>755535.0</td>\n",
       "    </tr>\n",
       "    <tr>\n",
       "      <th>...</th>\n",
       "      <td>...</td>\n",
       "    </tr>\n",
       "    <tr>\n",
       "      <th>283</th>\n",
       "      <td>638002.0</td>\n",
       "    </tr>\n",
       "    <tr>\n",
       "      <th>284</th>\n",
       "      <td>851355.0</td>\n",
       "    </tr>\n",
       "    <tr>\n",
       "      <th>285</th>\n",
       "      <td>674257.0</td>\n",
       "    </tr>\n",
       "    <tr>\n",
       "      <th>286</th>\n",
       "      <td>676319.0</td>\n",
       "    </tr>\n",
       "    <tr>\n",
       "      <th>287</th>\n",
       "      <td>1012256.0</td>\n",
       "    </tr>\n",
       "  </tbody>\n",
       "</table>\n",
       "<p>288 rows × 1 columns</p>\n",
       "</div>"
      ],
      "text/plain": [
       "      Цена_рег\n",
       "0     854952.0\n",
       "1     745131.0\n",
       "2     779392.0\n",
       "3     453506.0\n",
       "4     755535.0\n",
       "..         ...\n",
       "283   638002.0\n",
       "284   851355.0\n",
       "285   674257.0\n",
       "286   676319.0\n",
       "287  1012256.0\n",
       "\n",
       "[288 rows x 1 columns]"
      ]
     },
     "execution_count": 72,
     "metadata": {},
     "output_type": "execute_result"
    }
   ],
   "source": [
    "# Построим график моделей\n",
    "# Проведем расчет цены ТС по полученной модели и поместим результат в df\n",
    "X_all=df[['Хр_возраст','Пробег','Двигатель', 'Коробка', 'Владельцы']] # все предикторы\n",
    "y_pred = model2.predict(X_all)\n",
    "y_pred = pd.DataFrame(y_pred)\n",
    "y_pred=y_pred.rename({0: 'Цена_рег'}, axis='columns')\n",
    "y_pred=round(y_pred, 0)\n",
    "y_pred\n",
    "\n",
    "# df_reg = [coef['Коэфф'].values[0]+coef['Коэфф'].values[1]*df['Хр_возраст']+coef['Коэфф'].values[2]*df['Пробег']+\n",
    "#           coef['Коэфф'].values[3]*df['Двигатель']+coef['Коэфф'].values[4]*df['Коробка']+\n",
    "#           coef['Коэфф'].values[5]*df['Владельцы']] # модет быть и такая запись"
   ]
  },
  {
   "cell_type": "code",
   "execution_count": 73,
   "id": "bfd05738",
   "metadata": {},
   "outputs": [
    {
     "data": {
      "text/html": [
       "<div>\n",
       "<style scoped>\n",
       "    .dataframe tbody tr th:only-of-type {\n",
       "        vertical-align: middle;\n",
       "    }\n",
       "\n",
       "    .dataframe tbody tr th {\n",
       "        vertical-align: top;\n",
       "    }\n",
       "\n",
       "    .dataframe thead th {\n",
       "        text-align: right;\n",
       "    }\n",
       "</style>\n",
       "<table border=\"1\" class=\"dataframe\">\n",
       "  <thead>\n",
       "    <tr style=\"text-align: right;\">\n",
       "      <th></th>\n",
       "      <th>Цена</th>\n",
       "    </tr>\n",
       "  </thead>\n",
       "  <tbody>\n",
       "    <tr>\n",
       "      <th>0</th>\n",
       "      <td>860000</td>\n",
       "    </tr>\n",
       "    <tr>\n",
       "      <th>1</th>\n",
       "      <td>749000</td>\n",
       "    </tr>\n",
       "    <tr>\n",
       "      <th>2</th>\n",
       "      <td>745000</td>\n",
       "    </tr>\n",
       "    <tr>\n",
       "      <th>3</th>\n",
       "      <td>515000</td>\n",
       "    </tr>\n",
       "    <tr>\n",
       "      <th>4</th>\n",
       "      <td>675000</td>\n",
       "    </tr>\n",
       "    <tr>\n",
       "      <th>...</th>\n",
       "      <td>...</td>\n",
       "    </tr>\n",
       "    <tr>\n",
       "      <th>295</th>\n",
       "      <td>580000</td>\n",
       "    </tr>\n",
       "    <tr>\n",
       "      <th>296</th>\n",
       "      <td>770000</td>\n",
       "    </tr>\n",
       "    <tr>\n",
       "      <th>297</th>\n",
       "      <td>695000</td>\n",
       "    </tr>\n",
       "    <tr>\n",
       "      <th>298</th>\n",
       "      <td>690000</td>\n",
       "    </tr>\n",
       "    <tr>\n",
       "      <th>299</th>\n",
       "      <td>850000</td>\n",
       "    </tr>\n",
       "  </tbody>\n",
       "</table>\n",
       "<p>288 rows × 1 columns</p>\n",
       "</div>"
      ],
      "text/plain": [
       "       Цена\n",
       "0    860000\n",
       "1    749000\n",
       "2    745000\n",
       "3    515000\n",
       "4    675000\n",
       "..      ...\n",
       "295  580000\n",
       "296  770000\n",
       "297  695000\n",
       "298  690000\n",
       "299  850000\n",
       "\n",
       "[288 rows x 1 columns]"
      ]
     },
     "execution_count": 73,
     "metadata": {},
     "output_type": "execute_result"
    }
   ],
   "source": [
    "df2"
   ]
  },
  {
   "cell_type": "code",
   "execution_count": 74,
   "id": "d8c8ce63",
   "metadata": {},
   "outputs": [
    {
     "data": {
      "text/html": [
       "<div>\n",
       "<style scoped>\n",
       "    .dataframe tbody tr th:only-of-type {\n",
       "        vertical-align: middle;\n",
       "    }\n",
       "\n",
       "    .dataframe tbody tr th {\n",
       "        vertical-align: top;\n",
       "    }\n",
       "\n",
       "    .dataframe thead th {\n",
       "        text-align: right;\n",
       "    }\n",
       "</style>\n",
       "<table border=\"1\" class=\"dataframe\">\n",
       "  <thead>\n",
       "    <tr style=\"text-align: right;\">\n",
       "      <th></th>\n",
       "      <th>Цена</th>\n",
       "    </tr>\n",
       "  </thead>\n",
       "  <tbody>\n",
       "    <tr>\n",
       "      <th>0</th>\n",
       "      <td>860000</td>\n",
       "    </tr>\n",
       "    <tr>\n",
       "      <th>1</th>\n",
       "      <td>749000</td>\n",
       "    </tr>\n",
       "    <tr>\n",
       "      <th>2</th>\n",
       "      <td>745000</td>\n",
       "    </tr>\n",
       "    <tr>\n",
       "      <th>3</th>\n",
       "      <td>515000</td>\n",
       "    </tr>\n",
       "    <tr>\n",
       "      <th>4</th>\n",
       "      <td>675000</td>\n",
       "    </tr>\n",
       "    <tr>\n",
       "      <th>...</th>\n",
       "      <td>...</td>\n",
       "    </tr>\n",
       "    <tr>\n",
       "      <th>283</th>\n",
       "      <td>580000</td>\n",
       "    </tr>\n",
       "    <tr>\n",
       "      <th>284</th>\n",
       "      <td>770000</td>\n",
       "    </tr>\n",
       "    <tr>\n",
       "      <th>285</th>\n",
       "      <td>695000</td>\n",
       "    </tr>\n",
       "    <tr>\n",
       "      <th>286</th>\n",
       "      <td>690000</td>\n",
       "    </tr>\n",
       "    <tr>\n",
       "      <th>287</th>\n",
       "      <td>850000</td>\n",
       "    </tr>\n",
       "  </tbody>\n",
       "</table>\n",
       "<p>288 rows × 1 columns</p>\n",
       "</div>"
      ],
      "text/plain": [
       "       Цена\n",
       "0    860000\n",
       "1    749000\n",
       "2    745000\n",
       "3    515000\n",
       "4    675000\n",
       "..      ...\n",
       "283  580000\n",
       "284  770000\n",
       "285  695000\n",
       "286  690000\n",
       "287  850000\n",
       "\n",
       "[288 rows x 1 columns]"
      ]
     },
     "execution_count": 74,
     "metadata": {},
     "output_type": "execute_result"
    }
   ],
   "source": [
    "df2=df2.reset_index()\n",
    "df2=df2.drop('index', axis=1)\n",
    "df2"
   ]
  },
  {
   "cell_type": "code",
   "execution_count": 75,
   "id": "b172bf1e",
   "metadata": {},
   "outputs": [
    {
     "data": {
      "text/html": [
       "<div>\n",
       "<style scoped>\n",
       "    .dataframe tbody tr th:only-of-type {\n",
       "        vertical-align: middle;\n",
       "    }\n",
       "\n",
       "    .dataframe tbody tr th {\n",
       "        vertical-align: top;\n",
       "    }\n",
       "\n",
       "    .dataframe thead th {\n",
       "        text-align: right;\n",
       "    }\n",
       "</style>\n",
       "<table border=\"1\" class=\"dataframe\">\n",
       "  <thead>\n",
       "    <tr style=\"text-align: right;\">\n",
       "      <th></th>\n",
       "      <th>0</th>\n",
       "      <th>1</th>\n",
       "    </tr>\n",
       "  </thead>\n",
       "  <tbody>\n",
       "    <tr>\n",
       "      <th>0</th>\n",
       "      <td>860000</td>\n",
       "      <td>854952.0</td>\n",
       "    </tr>\n",
       "    <tr>\n",
       "      <th>1</th>\n",
       "      <td>749000</td>\n",
       "      <td>745131.0</td>\n",
       "    </tr>\n",
       "    <tr>\n",
       "      <th>2</th>\n",
       "      <td>745000</td>\n",
       "      <td>779392.0</td>\n",
       "    </tr>\n",
       "    <tr>\n",
       "      <th>3</th>\n",
       "      <td>515000</td>\n",
       "      <td>453506.0</td>\n",
       "    </tr>\n",
       "    <tr>\n",
       "      <th>4</th>\n",
       "      <td>675000</td>\n",
       "      <td>755535.0</td>\n",
       "    </tr>\n",
       "    <tr>\n",
       "      <th>...</th>\n",
       "      <td>...</td>\n",
       "      <td>...</td>\n",
       "    </tr>\n",
       "    <tr>\n",
       "      <th>283</th>\n",
       "      <td>580000</td>\n",
       "      <td>638002.0</td>\n",
       "    </tr>\n",
       "    <tr>\n",
       "      <th>284</th>\n",
       "      <td>770000</td>\n",
       "      <td>851355.0</td>\n",
       "    </tr>\n",
       "    <tr>\n",
       "      <th>285</th>\n",
       "      <td>695000</td>\n",
       "      <td>674257.0</td>\n",
       "    </tr>\n",
       "    <tr>\n",
       "      <th>286</th>\n",
       "      <td>690000</td>\n",
       "      <td>676319.0</td>\n",
       "    </tr>\n",
       "    <tr>\n",
       "      <th>287</th>\n",
       "      <td>850000</td>\n",
       "      <td>1012256.0</td>\n",
       "    </tr>\n",
       "  </tbody>\n",
       "</table>\n",
       "<p>288 rows × 2 columns</p>\n",
       "</div>"
      ],
      "text/plain": [
       "          0          1\n",
       "0    860000   854952.0\n",
       "1    749000   745131.0\n",
       "2    745000   779392.0\n",
       "3    515000   453506.0\n",
       "4    675000   755535.0\n",
       "..      ...        ...\n",
       "283  580000   638002.0\n",
       "284  770000   851355.0\n",
       "285  695000   674257.0\n",
       "286  690000   676319.0\n",
       "287  850000  1012256.0\n",
       "\n",
       "[288 rows x 2 columns]"
      ]
     },
     "execution_count": 75,
     "metadata": {},
     "output_type": "execute_result"
    }
   ],
   "source": [
    "# Создадим df3 и поместим в него значение имеющихся на рынке ТС цен и предсказанных цен по модели\n",
    "#df2=pd.DataFrame(df['Цена'])\n",
    "df3 = pd.concat([df2, y_pred], ignore_index=True, axis=1)\n",
    "df3"
   ]
  },
  {
   "cell_type": "code",
   "execution_count": 77,
   "id": "f5b5a055",
   "metadata": {},
   "outputs": [],
   "source": [
    "df3=df3.rename({0: 'Цена', 1: 'Цена_рег'}, axis='columns')"
   ]
  },
  {
   "cell_type": "code",
   "execution_count": 78,
   "id": "4e291569",
   "metadata": {},
   "outputs": [
    {
     "data": {
      "text/html": [
       "<div>\n",
       "<style scoped>\n",
       "    .dataframe tbody tr th:only-of-type {\n",
       "        vertical-align: middle;\n",
       "    }\n",
       "\n",
       "    .dataframe tbody tr th {\n",
       "        vertical-align: top;\n",
       "    }\n",
       "\n",
       "    .dataframe thead th {\n",
       "        text-align: right;\n",
       "    }\n",
       "</style>\n",
       "<table border=\"1\" class=\"dataframe\">\n",
       "  <thead>\n",
       "    <tr style=\"text-align: right;\">\n",
       "      <th></th>\n",
       "      <th>Цена</th>\n",
       "      <th>Цена_рег</th>\n",
       "      <th>Остатки</th>\n",
       "    </tr>\n",
       "  </thead>\n",
       "  <tbody>\n",
       "    <tr>\n",
       "      <th>0</th>\n",
       "      <td>860000</td>\n",
       "      <td>854952.0</td>\n",
       "      <td>5048.0</td>\n",
       "    </tr>\n",
       "    <tr>\n",
       "      <th>1</th>\n",
       "      <td>749000</td>\n",
       "      <td>745131.0</td>\n",
       "      <td>3869.0</td>\n",
       "    </tr>\n",
       "    <tr>\n",
       "      <th>2</th>\n",
       "      <td>745000</td>\n",
       "      <td>779392.0</td>\n",
       "      <td>-34392.0</td>\n",
       "    </tr>\n",
       "    <tr>\n",
       "      <th>3</th>\n",
       "      <td>515000</td>\n",
       "      <td>453506.0</td>\n",
       "      <td>61494.0</td>\n",
       "    </tr>\n",
       "    <tr>\n",
       "      <th>4</th>\n",
       "      <td>675000</td>\n",
       "      <td>755535.0</td>\n",
       "      <td>-80535.0</td>\n",
       "    </tr>\n",
       "    <tr>\n",
       "      <th>...</th>\n",
       "      <td>...</td>\n",
       "      <td>...</td>\n",
       "      <td>...</td>\n",
       "    </tr>\n",
       "    <tr>\n",
       "      <th>283</th>\n",
       "      <td>580000</td>\n",
       "      <td>638002.0</td>\n",
       "      <td>-58002.0</td>\n",
       "    </tr>\n",
       "    <tr>\n",
       "      <th>284</th>\n",
       "      <td>770000</td>\n",
       "      <td>851355.0</td>\n",
       "      <td>-81355.0</td>\n",
       "    </tr>\n",
       "    <tr>\n",
       "      <th>285</th>\n",
       "      <td>695000</td>\n",
       "      <td>674257.0</td>\n",
       "      <td>20743.0</td>\n",
       "    </tr>\n",
       "    <tr>\n",
       "      <th>286</th>\n",
       "      <td>690000</td>\n",
       "      <td>676319.0</td>\n",
       "      <td>13681.0</td>\n",
       "    </tr>\n",
       "    <tr>\n",
       "      <th>287</th>\n",
       "      <td>850000</td>\n",
       "      <td>1012256.0</td>\n",
       "      <td>-162256.0</td>\n",
       "    </tr>\n",
       "  </tbody>\n",
       "</table>\n",
       "<p>288 rows × 3 columns</p>\n",
       "</div>"
      ],
      "text/plain": [
       "       Цена   Цена_рег   Остатки\n",
       "0    860000   854952.0    5048.0\n",
       "1    749000   745131.0    3869.0\n",
       "2    745000   779392.0  -34392.0\n",
       "3    515000   453506.0   61494.0\n",
       "4    675000   755535.0  -80535.0\n",
       "..      ...        ...       ...\n",
       "283  580000   638002.0  -58002.0\n",
       "284  770000   851355.0  -81355.0\n",
       "285  695000   674257.0   20743.0\n",
       "286  690000   676319.0   13681.0\n",
       "287  850000  1012256.0 -162256.0\n",
       "\n",
       "[288 rows x 3 columns]"
      ]
     },
     "execution_count": 78,
     "metadata": {},
     "output_type": "execute_result"
    }
   ],
   "source": [
    "# добавим в df3 остатки\n",
    "# df3.insert(2, \"Остатки\", results.resid) # это остатки по обучающей выборке, поэтому так не получится\n",
    "# df3=df3.drop(['Остатки', 0], axis=1)\n",
    "resid = df3['Цена'] - df3['Цена_рег']\n",
    "df3.insert(2, \"Остатки\", resid)\n",
    "df3"
   ]
  },
  {
   "cell_type": "code",
   "execution_count": 79,
   "id": "5508c23f",
   "metadata": {},
   "outputs": [
    {
     "data": {
      "text/html": [
       "<div>\n",
       "<style scoped>\n",
       "    .dataframe tbody tr th:only-of-type {\n",
       "        vertical-align: middle;\n",
       "    }\n",
       "\n",
       "    .dataframe tbody tr th {\n",
       "        vertical-align: top;\n",
       "    }\n",
       "\n",
       "    .dataframe thead th {\n",
       "        text-align: right;\n",
       "    }\n",
       "</style>\n",
       "<table border=\"1\" class=\"dataframe\">\n",
       "  <thead>\n",
       "    <tr style=\"text-align: right;\">\n",
       "      <th></th>\n",
       "      <th>Цена</th>\n",
       "      <th>Цена_рег</th>\n",
       "      <th>Остатки</th>\n",
       "      <th>Остатки_от</th>\n",
       "    </tr>\n",
       "  </thead>\n",
       "  <tbody>\n",
       "    <tr>\n",
       "      <th>0</th>\n",
       "      <td>860000</td>\n",
       "      <td>854952.0</td>\n",
       "      <td>5048.0</td>\n",
       "      <td>0.005870</td>\n",
       "    </tr>\n",
       "    <tr>\n",
       "      <th>1</th>\n",
       "      <td>749000</td>\n",
       "      <td>745131.0</td>\n",
       "      <td>3869.0</td>\n",
       "      <td>0.005166</td>\n",
       "    </tr>\n",
       "    <tr>\n",
       "      <th>2</th>\n",
       "      <td>745000</td>\n",
       "      <td>779392.0</td>\n",
       "      <td>-34392.0</td>\n",
       "      <td>-0.046164</td>\n",
       "    </tr>\n",
       "    <tr>\n",
       "      <th>3</th>\n",
       "      <td>515000</td>\n",
       "      <td>453506.0</td>\n",
       "      <td>61494.0</td>\n",
       "      <td>0.119406</td>\n",
       "    </tr>\n",
       "    <tr>\n",
       "      <th>4</th>\n",
       "      <td>675000</td>\n",
       "      <td>755535.0</td>\n",
       "      <td>-80535.0</td>\n",
       "      <td>-0.119311</td>\n",
       "    </tr>\n",
       "    <tr>\n",
       "      <th>...</th>\n",
       "      <td>...</td>\n",
       "      <td>...</td>\n",
       "      <td>...</td>\n",
       "      <td>...</td>\n",
       "    </tr>\n",
       "    <tr>\n",
       "      <th>283</th>\n",
       "      <td>580000</td>\n",
       "      <td>638002.0</td>\n",
       "      <td>-58002.0</td>\n",
       "      <td>-0.100003</td>\n",
       "    </tr>\n",
       "    <tr>\n",
       "      <th>284</th>\n",
       "      <td>770000</td>\n",
       "      <td>851355.0</td>\n",
       "      <td>-81355.0</td>\n",
       "      <td>-0.105656</td>\n",
       "    </tr>\n",
       "    <tr>\n",
       "      <th>285</th>\n",
       "      <td>695000</td>\n",
       "      <td>674257.0</td>\n",
       "      <td>20743.0</td>\n",
       "      <td>0.029846</td>\n",
       "    </tr>\n",
       "    <tr>\n",
       "      <th>286</th>\n",
       "      <td>690000</td>\n",
       "      <td>676319.0</td>\n",
       "      <td>13681.0</td>\n",
       "      <td>0.019828</td>\n",
       "    </tr>\n",
       "    <tr>\n",
       "      <th>287</th>\n",
       "      <td>850000</td>\n",
       "      <td>1012256.0</td>\n",
       "      <td>-162256.0</td>\n",
       "      <td>-0.190889</td>\n",
       "    </tr>\n",
       "  </tbody>\n",
       "</table>\n",
       "<p>288 rows × 4 columns</p>\n",
       "</div>"
      ],
      "text/plain": [
       "       Цена   Цена_рег   Остатки  Остатки_от\n",
       "0    860000   854952.0    5048.0    0.005870\n",
       "1    749000   745131.0    3869.0    0.005166\n",
       "2    745000   779392.0  -34392.0   -0.046164\n",
       "3    515000   453506.0   61494.0    0.119406\n",
       "4    675000   755535.0  -80535.0   -0.119311\n",
       "..      ...        ...       ...         ...\n",
       "283  580000   638002.0  -58002.0   -0.100003\n",
       "284  770000   851355.0  -81355.0   -0.105656\n",
       "285  695000   674257.0   20743.0    0.029846\n",
       "286  690000   676319.0   13681.0    0.019828\n",
       "287  850000  1012256.0 -162256.0   -0.190889\n",
       "\n",
       "[288 rows x 4 columns]"
      ]
     },
     "execution_count": 79,
     "metadata": {},
     "output_type": "execute_result"
    }
   ],
   "source": [
    "# рассчитаем относительный остатки\n",
    "resid_ot = df3['Остатки']/df3['Цена']\n",
    "df3.insert(3, \"Остатки_от\", resid_ot)\n",
    "df3"
   ]
  },
  {
   "cell_type": "code",
   "execution_count": 80,
   "id": "c4dce0e4",
   "metadata": {},
   "outputs": [
    {
     "name": "stdout",
     "output_type": "stream",
     "text": [
      "Средняя ошибка: -1.0\n",
      "Максимальная ошибка: 24.6\n",
      "------------------------------\n",
      "Ошибки для полученной модели:\n",
      "MSE: 5264820802.0\n",
      "RMSE: 72559.1\n",
      "MAE: -1431.6\n"
     ]
    }
   ],
   "source": [
    "# рассчитаем среднюю ошибку аппроксимации\n",
    "err_mean = (df3['Остатки_от'].sum()/df3['Остатки_от'].count())*100\n",
    "err_max = df3['Остатки_от'].max()*100\n",
    "\n",
    "print(\"Средняя ошибка: %.1f\" % err_mean)\n",
    "print(\"Максимальная ошибка: %.1f\" % err_max)\n",
    "print(\"------------------------------\")\n",
    "print(\"Ошибки для полученной модели:\")\n",
    "print(\"MSE: %.1f\" % round(results.mse_resid, 3))\n",
    "print(\"RMSE: %.1f\" % round(np.sqrt(results.mse_resid), 3))\n",
    "print(\"MAE: %.1f\" % round(abs(df3['Остатки']).sum()/df3['Остатки'].count(), 3))\n",
    "#print('MAE:', metrics.mean_absolute_error(y, x))"
   ]
  },
  {
   "cell_type": "code",
   "execution_count": 81,
   "id": "40e6fd84",
   "metadata": {},
   "outputs": [
    {
     "data": {
      "text/plain": [
       "<function matplotlib.pyplot.show(close=None, block=None)>"
      ]
     },
     "execution_count": 81,
     "metadata": {},
     "output_type": "execute_result"
    },
    {
     "data": {
      "image/png": "[encoded data removed]",
      "text/plain": [
       "<Figure size 1080x432 with 1 Axes>"
      ]
     },
     "metadata": {
      "needs_background": "light"
     },
     "output_type": "display_data"
    }
   ],
   "source": [
    "# График\n",
    "fig, ax = plt.subplots(1,1, figsize=(15,6))\n",
    "ax.plot(df3['Цена'], c='b', label=\"Цена\") # цена\n",
    "ax.plot(df3['Цена_рег'], c='r', label=\"Цена_рег\") # прогноз цены по модели регрессии\n",
    "plt.ylabel('Цена, руб.')\n",
    "ax.legend(loc=2);\n",
    "plt.show"
   ]
  },
  {
   "cell_type": "code",
   "execution_count": 82,
   "id": "f047122b",
   "metadata": {},
   "outputs": [
    {
     "data": {
      "image/png": "[encoded data removed]",
      "text/plain": [
       "<Figure size 432x288 with 1 Axes>"
      ]
     },
     "metadata": {
      "needs_background": "light"
     },
     "output_type": "display_data"
    }
   ],
   "source": [
    "# Строим график остатков обучающей выборки\n",
    "plt.scatter(x=results.fittedvalues, y=results.resid, c='navy', alpha=0.6)\n",
    "plt.xlabel('Цена', fontsize=14)\n",
    "plt.ylabel('Остатки', fontsize=14)\n",
    "plt.title('График остатков', fontsize=17)\n",
    "plt.show()"
   ]
  },
  {
   "cell_type": "code",
   "execution_count": 83,
   "id": "e1c3d291",
   "metadata": {},
   "outputs": [
    {
     "data": {
      "image/png": "[encoded data removed]",
      "text/plain": [
       "<Figure size 432x288 with 1 Axes>"
      ]
     },
     "metadata": {
      "needs_background": "light"
     },
     "output_type": "display_data"
    }
   ],
   "source": [
    "# Строим гистограмму распределения остатков обучающей выборки\n",
    "resid_mean=round(results.resid.mean(), 3)\n",
    "resid_skew=round(results.resid.skew(), 3)\n",
    "\n",
    "sns.distplot(results.resid, color='navy')\n",
    "plt.title(f'Распределение остатков: асимметрия ({resid_skew}), среднее ({resid_mean})', fontsize=12)\n",
    "plt.show()"
   ]
  },
  {
   "cell_type": "code",
   "execution_count": 90,
   "id": "87be53e1",
   "metadata": {},
   "outputs": [
    {
     "data": {
      "text/html": [
       "<div>\n",
       "<style scoped>\n",
       "    .dataframe tbody tr th:only-of-type {\n",
       "        vertical-align: middle;\n",
       "    }\n",
       "\n",
       "    .dataframe tbody tr th {\n",
       "        vertical-align: top;\n",
       "    }\n",
       "\n",
       "    .dataframe thead th {\n",
       "        text-align: right;\n",
       "    }\n",
       "</style>\n",
       "<table border=\"1\" class=\"dataframe\">\n",
       "  <thead>\n",
       "    <tr style=\"text-align: right;\">\n",
       "      <th></th>\n",
       "      <th>Цена</th>\n",
       "    </tr>\n",
       "  </thead>\n",
       "  <tbody>\n",
       "    <tr>\n",
       "      <th>46</th>\n",
       "      <td>800000</td>\n",
       "    </tr>\n",
       "    <tr>\n",
       "      <th>267</th>\n",
       "      <td>990000</td>\n",
       "    </tr>\n",
       "    <tr>\n",
       "      <th>223</th>\n",
       "      <td>799000</td>\n",
       "    </tr>\n",
       "    <tr>\n",
       "      <th>170</th>\n",
       "      <td>1060000</td>\n",
       "    </tr>\n",
       "    <tr>\n",
       "      <th>232</th>\n",
       "      <td>705000</td>\n",
       "    </tr>\n",
       "    <tr>\n",
       "      <th>...</th>\n",
       "      <td>...</td>\n",
       "    </tr>\n",
       "    <tr>\n",
       "      <th>260</th>\n",
       "      <td>820000</td>\n",
       "    </tr>\n",
       "    <tr>\n",
       "      <th>198</th>\n",
       "      <td>1050000</td>\n",
       "    </tr>\n",
       "    <tr>\n",
       "      <th>118</th>\n",
       "      <td>669000</td>\n",
       "    </tr>\n",
       "    <tr>\n",
       "      <th>47</th>\n",
       "      <td>855000</td>\n",
       "    </tr>\n",
       "    <tr>\n",
       "      <th>176</th>\n",
       "      <td>750000</td>\n",
       "    </tr>\n",
       "  </tbody>\n",
       "</table>\n",
       "<p>230 rows × 1 columns</p>\n",
       "</div>"
      ],
      "text/plain": [
       "        Цена\n",
       "46    800000\n",
       "267   990000\n",
       "223   799000\n",
       "170  1060000\n",
       "232   705000\n",
       "..       ...\n",
       "260   820000\n",
       "198  1050000\n",
       "118   669000\n",
       "47    855000\n",
       "176   750000\n",
       "\n",
       "[230 rows x 1 columns]"
      ]
     },
     "execution_count": 90,
     "metadata": {},
     "output_type": "execute_result"
    }
   ],
   "source": [
    "df_y"
   ]
  },
  {
   "cell_type": "code",
   "execution_count": 91,
   "id": "7e60678a",
   "metadata": {},
   "outputs": [
    {
     "data": {
      "text/html": [
       "<div>\n",
       "<style scoped>\n",
       "    .dataframe tbody tr th:only-of-type {\n",
       "        vertical-align: middle;\n",
       "    }\n",
       "\n",
       "    .dataframe tbody tr th {\n",
       "        vertical-align: top;\n",
       "    }\n",
       "\n",
       "    .dataframe thead th {\n",
       "        text-align: right;\n",
       "    }\n",
       "</style>\n",
       "<table border=\"1\" class=\"dataframe\">\n",
       "  <thead>\n",
       "    <tr style=\"text-align: right;\">\n",
       "      <th></th>\n",
       "      <th>Цена</th>\n",
       "      <th>Хр_возраст</th>\n",
       "      <th>Пробег</th>\n",
       "      <th>Двигатель</th>\n",
       "      <th>Коробка</th>\n",
       "      <th>Владельцы</th>\n",
       "    </tr>\n",
       "  </thead>\n",
       "  <tbody>\n",
       "    <tr>\n",
       "      <th>46</th>\n",
       "      <td>800000</td>\n",
       "      <td>9</td>\n",
       "      <td>144072</td>\n",
       "      <td>1.6</td>\n",
       "      <td>1</td>\n",
       "      <td>2</td>\n",
       "    </tr>\n",
       "    <tr>\n",
       "      <th>267</th>\n",
       "      <td>990000</td>\n",
       "      <td>6</td>\n",
       "      <td>93000</td>\n",
       "      <td>1.6</td>\n",
       "      <td>1</td>\n",
       "      <td>2</td>\n",
       "    </tr>\n",
       "    <tr>\n",
       "      <th>223</th>\n",
       "      <td>799000</td>\n",
       "      <td>8</td>\n",
       "      <td>180311</td>\n",
       "      <td>1.6</td>\n",
       "      <td>1</td>\n",
       "      <td>1</td>\n",
       "    </tr>\n",
       "    <tr>\n",
       "      <th>170</th>\n",
       "      <td>1060000</td>\n",
       "      <td>7</td>\n",
       "      <td>55655</td>\n",
       "      <td>1.4</td>\n",
       "      <td>1</td>\n",
       "      <td>1</td>\n",
       "    </tr>\n",
       "    <tr>\n",
       "      <th>232</th>\n",
       "      <td>705000</td>\n",
       "      <td>9</td>\n",
       "      <td>72000</td>\n",
       "      <td>1.6</td>\n",
       "      <td>1</td>\n",
       "      <td>1</td>\n",
       "    </tr>\n",
       "    <tr>\n",
       "      <th>...</th>\n",
       "      <td>...</td>\n",
       "      <td>...</td>\n",
       "      <td>...</td>\n",
       "      <td>...</td>\n",
       "      <td>...</td>\n",
       "      <td>...</td>\n",
       "    </tr>\n",
       "    <tr>\n",
       "      <th>260</th>\n",
       "      <td>820000</td>\n",
       "      <td>9</td>\n",
       "      <td>48000</td>\n",
       "      <td>1.6</td>\n",
       "      <td>0</td>\n",
       "      <td>2</td>\n",
       "    </tr>\n",
       "    <tr>\n",
       "      <th>198</th>\n",
       "      <td>1050000</td>\n",
       "      <td>6</td>\n",
       "      <td>72580</td>\n",
       "      <td>1.6</td>\n",
       "      <td>1</td>\n",
       "      <td>1</td>\n",
       "    </tr>\n",
       "    <tr>\n",
       "      <th>118</th>\n",
       "      <td>669000</td>\n",
       "      <td>6</td>\n",
       "      <td>144182</td>\n",
       "      <td>1.4</td>\n",
       "      <td>0</td>\n",
       "      <td>2</td>\n",
       "    </tr>\n",
       "    <tr>\n",
       "      <th>47</th>\n",
       "      <td>855000</td>\n",
       "      <td>9</td>\n",
       "      <td>137177</td>\n",
       "      <td>1.6</td>\n",
       "      <td>1</td>\n",
       "      <td>1</td>\n",
       "    </tr>\n",
       "    <tr>\n",
       "      <th>176</th>\n",
       "      <td>750000</td>\n",
       "      <td>9</td>\n",
       "      <td>147000</td>\n",
       "      <td>1.6</td>\n",
       "      <td>1</td>\n",
       "      <td>1</td>\n",
       "    </tr>\n",
       "  </tbody>\n",
       "</table>\n",
       "<p>230 rows × 6 columns</p>\n",
       "</div>"
      ],
      "text/plain": [
       "        Цена  Хр_возраст  Пробег  Двигатель  Коробка  Владельцы\n",
       "46    800000           9  144072        1.6        1          2\n",
       "267   990000           6   93000        1.6        1          2\n",
       "223   799000           8  180311        1.6        1          1\n",
       "170  1060000           7   55655        1.4        1          1\n",
       "232   705000           9   72000        1.6        1          1\n",
       "..       ...         ...     ...        ...      ...        ...\n",
       "260   820000           9   48000        1.6        0          2\n",
       "198  1050000           6   72580        1.6        1          1\n",
       "118   669000           6  144182        1.4        0          2\n",
       "47    855000           9  137177        1.6        1          1\n",
       "176   750000           9  147000        1.6        1          1\n",
       "\n",
       "[230 rows x 6 columns]"
      ]
     },
     "execution_count": 91,
     "metadata": {},
     "output_type": "execute_result"
    }
   ],
   "source": [
    "X_train"
   ]
  },
  {
   "cell_type": "code",
   "execution_count": 92,
   "id": "2aad4f6e",
   "metadata": {},
   "outputs": [
    {
     "data": {
      "text/html": [
       "<div>\n",
       "<style scoped>\n",
       "    .dataframe tbody tr th:only-of-type {\n",
       "        vertical-align: middle;\n",
       "    }\n",
       "\n",
       "    .dataframe tbody tr th {\n",
       "        vertical-align: top;\n",
       "    }\n",
       "\n",
       "    .dataframe thead th {\n",
       "        text-align: right;\n",
       "    }\n",
       "</style>\n",
       "<table border=\"1\" class=\"dataframe\">\n",
       "  <thead>\n",
       "    <tr style=\"text-align: right;\">\n",
       "      <th></th>\n",
       "      <th>Цена</th>\n",
       "      <th>Хр_возраст</th>\n",
       "      <th>Пробег</th>\n",
       "      <th>Двигатель</th>\n",
       "      <th>Коробка</th>\n",
       "      <th>Владельцы</th>\n",
       "    </tr>\n",
       "  </thead>\n",
       "  <tbody>\n",
       "    <tr>\n",
       "      <th>46</th>\n",
       "      <td>800000</td>\n",
       "      <td>9</td>\n",
       "      <td>144072</td>\n",
       "      <td>1.6</td>\n",
       "      <td>1</td>\n",
       "      <td>2</td>\n",
       "    </tr>\n",
       "    <tr>\n",
       "      <th>267</th>\n",
       "      <td>990000</td>\n",
       "      <td>6</td>\n",
       "      <td>93000</td>\n",
       "      <td>1.6</td>\n",
       "      <td>1</td>\n",
       "      <td>2</td>\n",
       "    </tr>\n",
       "    <tr>\n",
       "      <th>223</th>\n",
       "      <td>799000</td>\n",
       "      <td>8</td>\n",
       "      <td>180311</td>\n",
       "      <td>1.6</td>\n",
       "      <td>1</td>\n",
       "      <td>1</td>\n",
       "    </tr>\n",
       "    <tr>\n",
       "      <th>170</th>\n",
       "      <td>1060000</td>\n",
       "      <td>7</td>\n",
       "      <td>55655</td>\n",
       "      <td>1.4</td>\n",
       "      <td>1</td>\n",
       "      <td>1</td>\n",
       "    </tr>\n",
       "    <tr>\n",
       "      <th>232</th>\n",
       "      <td>705000</td>\n",
       "      <td>9</td>\n",
       "      <td>72000</td>\n",
       "      <td>1.6</td>\n",
       "      <td>1</td>\n",
       "      <td>1</td>\n",
       "    </tr>\n",
       "    <tr>\n",
       "      <th>...</th>\n",
       "      <td>...</td>\n",
       "      <td>...</td>\n",
       "      <td>...</td>\n",
       "      <td>...</td>\n",
       "      <td>...</td>\n",
       "      <td>...</td>\n",
       "    </tr>\n",
       "    <tr>\n",
       "      <th>260</th>\n",
       "      <td>820000</td>\n",
       "      <td>9</td>\n",
       "      <td>48000</td>\n",
       "      <td>1.6</td>\n",
       "      <td>0</td>\n",
       "      <td>2</td>\n",
       "    </tr>\n",
       "    <tr>\n",
       "      <th>198</th>\n",
       "      <td>1050000</td>\n",
       "      <td>6</td>\n",
       "      <td>72580</td>\n",
       "      <td>1.6</td>\n",
       "      <td>1</td>\n",
       "      <td>1</td>\n",
       "    </tr>\n",
       "    <tr>\n",
       "      <th>118</th>\n",
       "      <td>669000</td>\n",
       "      <td>6</td>\n",
       "      <td>144182</td>\n",
       "      <td>1.4</td>\n",
       "      <td>0</td>\n",
       "      <td>2</td>\n",
       "    </tr>\n",
       "    <tr>\n",
       "      <th>47</th>\n",
       "      <td>855000</td>\n",
       "      <td>9</td>\n",
       "      <td>137177</td>\n",
       "      <td>1.6</td>\n",
       "      <td>1</td>\n",
       "      <td>1</td>\n",
       "    </tr>\n",
       "    <tr>\n",
       "      <th>176</th>\n",
       "      <td>750000</td>\n",
       "      <td>9</td>\n",
       "      <td>147000</td>\n",
       "      <td>1.6</td>\n",
       "      <td>1</td>\n",
       "      <td>1</td>\n",
       "    </tr>\n",
       "  </tbody>\n",
       "</table>\n",
       "<p>230 rows × 6 columns</p>\n",
       "</div>"
      ],
      "text/plain": [
       "        Цена  Хр_возраст  Пробег  Двигатель  Коробка  Владельцы\n",
       "46    800000           9  144072        1.6        1          2\n",
       "267   990000           6   93000        1.6        1          2\n",
       "223   799000           8  180311        1.6        1          1\n",
       "170  1060000           7   55655        1.4        1          1\n",
       "232   705000           9   72000        1.6        1          1\n",
       "..       ...         ...     ...        ...      ...        ...\n",
       "260   820000           9   48000        1.6        0          2\n",
       "198  1050000           6   72580        1.6        1          1\n",
       "118   669000           6  144182        1.4        0          2\n",
       "47    855000           9  137177        1.6        1          1\n",
       "176   750000           9  147000        1.6        1          1\n",
       "\n",
       "[230 rows x 6 columns]"
      ]
     },
     "execution_count": 92,
     "metadata": {},
     "output_type": "execute_result"
    }
   ],
   "source": [
    "df_y=pd.DataFrame(Y_train)\n",
    "df_test = X_train\n",
    "#df_test = df_test.insert(0, \"Цена\", df_y)\n",
    "df_test"
   ]
  },
  {
   "cell_type": "code",
   "execution_count": 93,
   "id": "36d513df",
   "metadata": {
    "scrolled": false
   },
   "outputs": [
    {
     "name": "stdout",
     "output_type": "stream",
     "text": [
      "Количество комбинаций  32\n",
      "Результаты перебора в порядке возрастания MSE:\n",
      "             MSE        r2                                         Переменные\n",
      "0   5.127478e+09  0.767671  [Пробег, Двигатель, Коробка, Владельцы, Хр_воз...\n",
      "1   5.559808e+09  0.748081    [Владельцы, Коробка, Хр_возраст, Пробег, const]\n",
      "2   6.149208e+09  0.721375    [Коробка, Хр_возраст, Пробег, Двигатель, const]\n",
      "3   6.561062e+09  0.702714  [Владельцы, Хр_возраст, Пробег, Двигатель, const]\n",
      "4   6.782217e+09  0.692693               [Коробка, Хр_возраст, Пробег, const]\n",
      "5   7.081536e+09  0.679131             [Владельцы, Хр_возраст, Пробег, const]\n",
      "6   7.614600e+09  0.654977             [Хр_возраст, Пробег, Двигатель, const]\n",
      "7   8.359604e+09  0.621221                        [Хр_возраст, Пробег, const]\n",
      "8   9.001836e+09  0.592121  [Владельцы, Коробка, Хр_возраст, Двигатель, co...\n",
      "9   9.406617e+09  0.573780            [Владельцы, Коробка, Хр_возраст, const]\n",
      "10  1.022404e+10  0.536742     [Владельцы, Коробка, Пробег, Двигатель, const]\n",
      "11  1.058559e+10  0.520360                [Владельцы, Коробка, Пробег, const]\n",
      "12  1.079838e+10  0.510718          [Владельцы, Хр_возраст, Двигатель, const]\n",
      "13  1.118159e+10  0.493355            [Коробка, Хр_возраст, Двигатель, const]\n",
      "14  1.129790e+10  0.488085                     [Владельцы, Хр_возраст, const]\n",
      "15  1.166983e+10  0.471232                [Коробка, Пробег, Двигатель, const]\n",
      "16  1.188122e+10  0.461654                       [Коробка, Хр_возраст, const]\n",
      "17  1.218661e+10  0.447816              [Владельцы, Пробег, Двигатель, const]\n",
      "18  1.225037e+10  0.444927                           [Коробка, Пробег, const]\n",
      "19  1.263954e+10  0.427294                         [Владельцы, Пробег, const]\n",
      "20  1.309738e+10  0.406549                     [Хр_возраст, Двигатель, const]\n",
      "21  1.370260e+10  0.379126                         [Пробег, Двигатель, const]\n",
      "22  1.393597e+10  0.368552                                [Хр_возраст, const]\n",
      "23  1.440757e+10  0.347183                                    [Пробег, const]\n",
      "24  1.534038e+10  0.304917             [Владельцы, Коробка, Двигатель, const]\n",
      "25  1.566489e+10  0.290213                        [Владельцы, Коробка, const]\n",
      "26  1.787899e+10  0.189891                      [Владельцы, Двигатель, const]\n",
      "27  1.830079e+10  0.170779                                 [Владельцы, const]\n",
      "28  1.913181e+10  0.133125                                   [Коробка, const]\n"
     ]
    }
   ],
   "source": [
    "# Выполним подбор регрессоров, при которых будут минимальная мультиколлинеарность и высокая точность\n",
    "col=['Хр_возраст','Пробег','Двигатель', 'Коробка', 'Владельцы']\n",
    "res=get_factors(df_test, Y_train, col)"
   ]
  },
  {
   "cell_type": "code",
   "execution_count": 272,
   "id": "2983552b",
   "metadata": {},
   "outputs": [
    {
     "data": {
      "text/plain": [
       "['Двигатель', 'Коробка', 'Хр_возраст', 'Владельцы', 'Пробег', 'const']"
      ]
     },
     "execution_count": 272,
     "metadata": {},
     "output_type": "execute_result"
    }
   ],
   "source": [
    "# Выведем список регрессоров лучшей модели\n",
    "res.loc[0][2] # первый индекс [0] - это строка, второй [2] - это столбец."
   ]
  },
  {
   "cell_type": "markdown",
   "id": "cb62cacc",
   "metadata": {},
   "source": [
    "Проводить дальнейшие исследования лучшей модели нецелесообразно, так как они проведены выше. Мы изначально построили качественную модель по всем факторам (двигатель, коробка, хронологический возраст, владельцы, пробег).\n",
    "Если мы первоначально построили не совсем качественную модель регрессии, то в этом случае проводим анализ и интерпритацию лучшей модели из вышепредложенных.\n",
    "Наша полученная регрессионная модель имеет следующий вид:"
   ]
  },
  {
   "cell_type": "markdown",
   "id": "970cb79c",
   "metadata": {},
   "source": [
    "<font size = 2><div style=\"text-align: justify\">**Цена = (971141.456 - 45265.418 х Хр_возраст - 1,129 х Пробег + 221872.239 х Двигатель + 80268.228 х Коробка - 30224.069 х Владельцы) х Торг**</div></font>"
   ]
  },
  {
   "cell_type": "markdown",
   "id": "29700850",
   "metadata": {},
   "source": [
    "# Интервал"
   ]
  },
  {
   "cell_type": "code",
   "execution_count": 94,
   "id": "3f61fd21",
   "metadata": {},
   "outputs": [
    {
     "data": {
      "text/html": [
       "<div>\n",
       "<style scoped>\n",
       "    .dataframe tbody tr th:only-of-type {\n",
       "        vertical-align: middle;\n",
       "    }\n",
       "\n",
       "    .dataframe tbody tr th {\n",
       "        vertical-align: top;\n",
       "    }\n",
       "\n",
       "    .dataframe thead th {\n",
       "        text-align: right;\n",
       "    }\n",
       "</style>\n",
       "<table border=\"1\" class=\"dataframe\">\n",
       "  <thead>\n",
       "    <tr style=\"text-align: right;\">\n",
       "      <th></th>\n",
       "      <th>Коэфф</th>\n",
       "      <th>Параметры</th>\n",
       "    </tr>\n",
       "  </thead>\n",
       "  <tbody>\n",
       "    <tr>\n",
       "      <th>const</th>\n",
       "      <td>971141.456252</td>\n",
       "      <td>1.0</td>\n",
       "    </tr>\n",
       "    <tr>\n",
       "      <th>Хр_возраст</th>\n",
       "      <td>-45265.418266</td>\n",
       "      <td>6.0</td>\n",
       "    </tr>\n",
       "    <tr>\n",
       "      <th>Пробег</th>\n",
       "      <td>-1.129242</td>\n",
       "      <td>73000.0</td>\n",
       "    </tr>\n",
       "    <tr>\n",
       "      <th>Двигатель</th>\n",
       "      <td>221872.238943</td>\n",
       "      <td>1.4</td>\n",
       "    </tr>\n",
       "    <tr>\n",
       "      <th>Коробка</th>\n",
       "      <td>80268.227998</td>\n",
       "      <td>1.0</td>\n",
       "    </tr>\n",
       "    <tr>\n",
       "      <th>Владельцы</th>\n",
       "      <td>-30224.069413</td>\n",
       "      <td>3.0</td>\n",
       "    </tr>\n",
       "  </tbody>\n",
       "</table>\n",
       "</div>"
      ],
      "text/plain": [
       "                    Коэфф  Параметры\n",
       "const       971141.456252        1.0\n",
       "Хр_возраст  -45265.418266        6.0\n",
       "Пробег          -1.129242    73000.0\n",
       "Двигатель   221872.238943        1.4\n",
       "Коробка      80268.227998        1.0\n",
       "Владельцы   -30224.069413        3.0"
      ]
     },
     "execution_count": 94,
     "metadata": {},
     "output_type": "execute_result"
    }
   ],
   "source": [
    "# Предскажем стоимость ТС с данными: Хр_возраст = 6 лет, Пробег = 73 000, Двигатель = 1.4, Кробка = 1, Владельцы = 3\n",
    "coeff=pd.DataFrame({'Коэфф': results.params})\n",
    "Param=pd.DataFrame({'Параметры': [1,6,73000,1.4,1,3]}, index=['const', 'Хр_возраст', 'Пробег', 'Двигатель', \n",
    "                                                              'Коробка', 'Владельцы'])\n",
    "df4 = pd.concat([coeff, Param], axis=1)\n",
    "df4"
   ]
  },
  {
   "cell_type": "code",
   "execution_count": 95,
   "id": "99dbbaf0",
   "metadata": {},
   "outputs": [
    {
     "name": "stdout",
     "output_type": "stream",
     "text": [
      "Прогнозная цена ТС: 917331\n"
     ]
    }
   ],
   "source": [
    "Price = (df4['Коэфф']*df4['Параметры']).sum()\n",
    "print(\"Прогнозная цена ТС: %.0f\" % Price)"
   ]
  },
  {
   "cell_type": "code",
   "execution_count": 96,
   "id": "ef469119",
   "metadata": {},
   "outputs": [
    {
     "name": "stdout",
     "output_type": "stream",
     "text": [
      "Прогнозная цена ТС: 917 331\n",
      "Верхняя граница цены: 1 062 449\n",
      "Нижняя граница цены: 772 213\n"
     ]
    }
   ],
   "source": [
    "# Рассчитаем интервалы\n",
    "import locale\n",
    "locale.setlocale(locale.LC_ALL, '')\n",
    "\n",
    "mse = round(results.mse_resid, 3)\n",
    "Two_SKO = 2*np.sqrt(mse)\n",
    "\n",
    "upper_bound = Price + Two_SKO\n",
    "lower_bound = Price - Two_SKO\n",
    "print(\"Прогнозная цена ТС:\", locale.format('%d', Price, grouping=True))\n",
    "print(\"Верхняя граница цены:\", locale.format('%d', upper_bound, grouping=True))\n",
    "print(\"Нижняя граница цены:\", locale.format('%d', lower_bound, grouping=True))"
   ]
  },
  {
   "cell_type": "markdown",
   "id": "e6e11f44",
   "metadata": {},
   "source": [
    "С вероятностью 95% цена транспортного средства попадет в наш расчитанный интервал."
   ]
  },
  {
   "cell_type": "code",
   "execution_count": null,
   "id": "165e3cac",
   "metadata": {},
   "outputs": [],
   "source": [
    "# Построим и интерпретируем лучшую модель\n",
    "# Y=df['Рабочий парк']\n",
    "# df=sm.add_constant(df)\n",
    "#укажем пермеенные, которые будем использовать в качестве регрессоров\n",
    "# X=df[['Следование резервом', 'Грузооборот', 'Участковая скорость', 'const']]\n",
    "# reg = sm.OLS(Y, X)\n",
    "# res=reg.fit()\n",
    "# print(res.summary())\n",
    "# sns.regplot(res.fittedvalues.copy(), Y)\n",
    "# plt.show()"
   ]
  },
  {
   "cell_type": "markdown",
   "id": "d01c8d8d",
   "metadata": {},
   "source": [
    "# Кросс-валидация"
   ]
  },
  {
   "cell_type": "markdown",
   "id": "f2468346",
   "metadata": {},
   "source": [
    "Когда мы делим выборку на обучающую и тестовую, то мы делаем это один раз и мы просто можем попасть в хорошую модель. Кросс-валидация позволяет посмотреть метрику R2 (качество модели) при разных разделениях выборки. Например, внизу мы делим выборку на 5 разных частей, то есть обучаем нашу модель на 5 разных выборках и смотрим ее качество. Это необходимо делать для подстраховки, чтобы понимать среднее качество модели."
   ]
  },
  {
   "cell_type": "code",
   "execution_count": 142,
   "id": "1f17688f",
   "metadata": {},
   "outputs": [
    {
     "data": {
      "text/plain": [
       "array([0.77400995, 0.67378448, 0.74191915, 0.70534877, 0.7831194 ])"
      ]
     },
     "execution_count": 142,
     "metadata": {},
     "output_type": "execute_result"
    }
   ],
   "source": [
    "# кросс-валидация\n",
    "from sklearn.model_selection import cross_val_score\n",
    "\n",
    "X_train, X_test, Y_train, Y_test = train_test_split(X, Y, test_size=0.2, random_state=0)\n",
    "\n",
    "model2 = LinearRegression()\n",
    "\n",
    "cv_results = cross_val_score(model2, X_train, Y_train, cv=5)\n",
    "cv_results"
   ]
  },
  {
   "cell_type": "code",
   "execution_count": 149,
   "id": "ae5b7cfd",
   "metadata": {},
   "outputs": [
    {
     "data": {
      "text/plain": [
       "0.7356363518573756"
      ]
     },
     "execution_count": 149,
     "metadata": {},
     "output_type": "execute_result"
    }
   ],
   "source": [
    "# среднее значение качества модели\n",
    "cv_results.mean()"
   ]
  },
  {
   "cell_type": "markdown",
   "id": "182b4722",
   "metadata": {},
   "source": [
    "# Регуляризация (Ridge (L2) и Lasso (L1) регрессии)"
   ]
  },
  {
   "cell_type": "markdown",
   "id": "f21c1d88",
   "metadata": {},
   "source": [
    "Регуляризация решает 2 проблемы: мультиколлинеарность признаков и неинформативность признаков."
   ]
  },
  {
   "cell_type": "code",
   "execution_count": 185,
   "id": "ec5ffa2a",
   "metadata": {},
   "outputs": [
    {
     "name": "stdout",
     "output_type": "stream",
     "text": [
      "Trainig R^2: 0.7677\n",
      "Test R^2: 0.8299\n",
      "Test MSE 4100277146.187262\n"
     ]
    }
   ],
   "source": [
    "model2 = LinearRegression()\n",
    "model2.fit(X_train, Y_train)\n",
    "\n",
    "# R2 обучающей выборки\n",
    "print('Trainig R^2:', round(results.rsquared, 4))\n",
    "# print('Trainig R^2::', model2.score(X_train, Y_train))\n",
    "\n",
    "# R2 тестовой выборки\n",
    "print('Test R^2:', round(model2.score(X_test, Y_test), 4))\n",
    "\n",
    "# MSE\n",
    "Y_test_pred = model2.predict(X_test)\n",
    "print(\"Test MSE\", mean_squared_error(Y_test, Y_test_pred))"
   ]
  },
  {
   "cell_type": "code",
   "execution_count": 183,
   "id": "3fadb7d6",
   "metadata": {},
   "outputs": [
    {
     "name": "stdout",
     "output_type": "stream",
     "text": [
      "Trainig R^2: 0.7677\n",
      "Test R^2: 0.83\n",
      "Test MSE 4100236724.348506\n"
     ]
    }
   ],
   "source": [
    "from sklearn import linear_model\n",
    "\n",
    "lasso_reg = linear_model.Lasso(alpha=2.5, max_iter = 100, tol = 0.1)\n",
    "lasso_reg.fit(X_train, Y_train)\n",
    "\n",
    "# R2 обучающей выборки\n",
    "print('Trainig R^2:', round(lasso_reg.score(X_train, Y_train), 4))\n",
    "# print('Trainig R^2::', model2.score(X_train, Y_train))\n",
    "\n",
    "# R2 тестовой выборки\n",
    "print('Test R^2:', round(lasso_reg.score(X_test, Y_test), 4))\n",
    "\n",
    "# MSE\n",
    "Y_test_pred = lasso_reg.predict(X_test)\n",
    "print(\"Test MSE\", mean_squared_error(Y_test, Y_test_pred))"
   ]
  },
  {
   "cell_type": "code",
   "execution_count": 184,
   "id": "91f94718",
   "metadata": {},
   "outputs": [
    {
     "name": "stdout",
     "output_type": "stream",
     "text": [
      "Trainig R^2: 0.7677\n",
      "Test R^2: 0.83\n",
      "Test MSE 4100234324.2279525\n"
     ]
    }
   ],
   "source": [
    "from sklearn import linear_model\n",
    "\n",
    "Ridge_reg = linear_model.Ridge(alpha=0.01, max_iter = 100, tol = 0.1)\n",
    "Ridge_reg.fit(X_train, Y_train)\n",
    "\n",
    "# R2 обучающей выборки\n",
    "print('Trainig R^2:', round(Ridge_reg.score(X_train, Y_train), 4))\n",
    "# print('Trainig R^2::', model2.score(X_train, Y_train))\n",
    "\n",
    "# R2 тестовой выборки\n",
    "print('Test R^2:', round(Ridge_reg.score(X_test, Y_test), 4))\n",
    "\n",
    "# MSE\n",
    "Y_test_pred = Ridge_reg.predict(X_test)\n",
    "print(\"Test MSE\", mean_squared_error(Y_test, Y_test_pred))"
   ]
  },
  {
   "cell_type": "markdown",
   "id": "3c9bab30",
   "metadata": {},
   "source": [
    "Как видно выше, наилучшего результат по метрике R2 можно добиться при alpha > 2.5 в Lasso регрессии или alpha = 0.1 в Ridge регрессии. В целом результат, полученный по многовакторной модели регрессии 0,8299 не сильно уступает регуляризации - 0,83."
   ]
  },
  {
   "cell_type": "markdown",
   "id": "b65e4ccd",
   "metadata": {},
   "source": [
    "<font size = 3><div style=\"text-align: justify\">**Другой подход к регуляризации:**</div></font>"
   ]
  },
  {
   "cell_type": "code",
   "execution_count": 176,
   "id": "b8be74ef",
   "metadata": {},
   "outputs": [
    {
     "name": "stdout",
     "output_type": "stream",
     "text": [
      "Train R-squared 0.7617940200334193\n",
      "Test R-squared 0.8367263779597377\n",
      "Test MSE 0.17838114994299795\n"
     ]
    }
   ],
   "source": [
    "# Реализуем модель Lasso\n",
    "from sklearn.linear_model import ElasticNet, Lasso, Ridge\n",
    "from sklearn.preprocessing import StandardScaler\n",
    "from sklearn.metrics import r2_score\n",
    "from sklearn.metrics import mean_squared_error\n",
    "\n",
    "X_train_r, X_test_r, Y_train_r, Y_test_r = train_test_split(X, Y, test_size=0.2, random_state=0)\n",
    "\n",
    "scaler_x = StandardScaler()\n",
    "X_train_r = scaler_x.fit_transform(X_train_r)\n",
    "X_test_r = scaler_x.transform(X_test_r)\n",
    "\n",
    "scaler_y = StandardScaler()\n",
    "Y_train_r = scaler_y.fit_transform(Y_train_r.values.reshape((-1,1))).reshape(-1)\n",
    "Y_test_r = scaler_y.transform(Y_test_r.values.reshape((-1,1))).reshape(-1)\n",
    "\n",
    "model = Lasso(alpha=0.04) # альфу можно изменять и смотреть как меняются R2\n",
    "        # в место Lasso можно написать Ridge или ElasticNet\n",
    "model.fit(X_train_r, Y_train_r)\n",
    "\n",
    "\n",
    "Y_train_predicted = model.predict(X_train_r)\n",
    "Y_test_predicted = model.predict(X_test_r)\n",
    "\n",
    "print(\"Train R-squared\", r2_score(Y_train_r, Y_train_predicted))\n",
    "print(\"Test R-squared\", r2_score(Y_test_r, Y_test_predicted))\n",
    "print(\"Test MSE\", mean_squared_error(Y_test_r, Y_test_predicted))\n",
    "#mean_squared_error(y_test,y_pred)"
   ]
  },
  {
   "cell_type": "code",
   "execution_count": 177,
   "id": "d9b72fd8",
   "metadata": {},
   "outputs": [
    {
     "name": "stdout",
     "output_type": "stream",
     "text": [
      "intercept: -2.1515819015040586e-16\n",
      "coef: [-0.45961476 -0.40968602  0.10670437  0.2258439  -0.19966608]\n"
     ]
    }
   ],
   "source": [
    "print('intercept:', model.intercept_)\n",
    "print('coef:', model.coef_)\n",
    "#coef_r=pd.DataFrame({'Коэфф': model.params})\n",
    "#coef_r"
   ]
  },
  {
   "cell_type": "markdown",
   "id": "51482868",
   "metadata": {},
   "source": [
    "При alpha = 0.04 в Lasso регрессии можно достичь наивысшего результат R2 = 0.8367, но это также несущественно отличается от многофакторной регрессии.\n",
    "Давайте подберем оптимальный параметр альфы:"
   ]
  },
  {
   "cell_type": "code",
   "execution_count": 166,
   "id": "9c2da218",
   "metadata": {},
   "outputs": [
    {
     "data": {
      "application/vnd.jupyter.widget-view+json": {
       "model_id": "2089e67980cf43429efe1306e1bbc4b6",
       "version_major": 2,
       "version_minor": 0
      },
      "text/plain": [
       "  0%|          | 0/20 [00:00<?, ?it/s]"
      ]
     },
     "metadata": {},
     "output_type": "display_data"
    },
    {
     "name": "stdout",
     "output_type": "stream",
     "text": [
      "0.0001\n",
      "0.00013538761800225446\n",
      "0.00018329807108324357\n",
      "0.0002481628922836826\n",
      "0.0003359818286283781\n",
      "0.00045487779470037773\n",
      "0.0006158482110660267\n",
      "0.0008337822234717892\n",
      "0.0011288378916846883\n",
      "0.0015283067326587688\n",
      "0.00206913808111479\n",
      "0.002801356761198867\n",
      "0.00379269019073225\n",
      "0.005134832907437549\n",
      "0.0069519279617756054\n",
      "0.00941204967268067\n",
      "0.012742749857031334\n",
      "0.017252105499420408\n",
      "0.023357214690901212\n",
      "0.03162277660168379\n"
     ]
    },
    {
     "data": {
      "image/png": "[encoded data removed]",
      "text/plain": [
       "<Figure size 864x216 with 1 Axes>"
      ]
     },
     "metadata": {
      "needs_background": "light"
     },
     "output_type": "display_data"
    }
   ],
   "source": [
    "runs = []\n",
    "\n",
    "from tqdm import tqdm_notebook\n",
    "\n",
    "for alpha in tqdm_notebook(np.logspace(-4, -1.5, 20)):\n",
    "    print(alpha)\n",
    "\n",
    "    model = Lasso(alpha=alpha) # change me between Ridge and Lasso\n",
    "    model.fit(X_train_r, Y_train_r)\n",
    "\n",
    "    Y_train_prediced = model.predict(X_train_r)\n",
    "    Y_test_prediced = model.predict(X_test_r)\n",
    "\n",
    "    runs.append({\n",
    "        \"alpha\": alpha,\n",
    "        \"coef\": model.coef_,\n",
    "        \"train_score\": r2_score(Y_train_r, Y_train_predicted),\n",
    "        \"test_score\": r2_score(Y_test_r, Y_test_predicted),\n",
    "    })\n",
    "    \n",
    "    \n",
    "plt.figure(figsize=(12,3))\n",
    "plt.plot([run[\"alpha\"] for run in runs], [run[\"train_score\"] for run in runs], label=\"train_score\")\n",
    "plt.plot([run[\"alpha\"] for run in runs], [run[\"test_score\"] for run in runs], label=\"test_score\")\n",
    "plt.legend()\n",
    "plt.show()"
   ]
  },
  {
   "cell_type": "markdown",
   "id": "0fb42907",
   "metadata": {},
   "source": [
    "Видим, что R2 для тестовой выборки не изменился - 0,8299."
   ]
  },
  {
   "cell_type": "code",
   "execution_count": 180,
   "id": "d7f5fe46",
   "metadata": {},
   "outputs": [
    {
     "data": {
      "application/vnd.jupyter.widget-view+json": {
       "model_id": "ee8ac64bcc774663919a4c60ab2e5a11",
       "version_major": 2,
       "version_minor": 0
      },
      "text/plain": [
       "  0%|          | 0/20 [00:00<?, ?it/s]"
      ]
     },
     "metadata": {},
     "output_type": "display_data"
    },
    {
     "name": "stdout",
     "output_type": "stream",
     "text": [
      "0.0001\n",
      "0.00016636142493842227\n",
      "0.0002767612370754228\n",
      "0.0004604239376758779\n",
      "0.0007659678234751839\n",
      "0.0012742749857031347\n",
      "0.0021199020238496097\n",
      "0.0035266992141746592\n",
      "0.0058670670659931035\n",
      "0.00976053637307901\n",
      "0.016237767391887224\n",
      "0.027013381211330047\n",
      "0.044939845907216704\n",
      "0.07476256801637694\n",
      "0.12437607347260171\n",
      "0.20691380811147903\n",
      "0.34422475956860926\n",
      "0.5726572150091964\n",
      "0.9526807029019828\n",
      "1.5848931924611136\n"
     ]
    },
    {
     "data": {
      "image/png": "[encoded data removed]",
      "text/plain": [
       "<Figure size 864x216 with 1 Axes>"
      ]
     },
     "metadata": {
      "needs_background": "light"
     },
     "output_type": "display_data"
    }
   ],
   "source": [
    "runs = []\n",
    "\n",
    "from tqdm import tqdm_notebook\n",
    "\n",
    "for alpha in tqdm_notebook(np.logspace(-4, 0.2, 20)):\n",
    "    print(alpha)\n",
    "\n",
    "    model = Lasso(alpha=alpha) # change me between Ridge and Lasso\n",
    "    model.fit(X_train_r, Y_train_r)\n",
    "\n",
    "    Y_train_prediced = model.predict(X_train_r)\n",
    "    Y_test_prediced = model.predict(X_test_r)\n",
    "\n",
    "    runs.append({\n",
    "        \"alpha\": alpha,\n",
    "        \"coef\": model.coef_,\n",
    "        \"train_score\": r2_score(Y_train_r, Y_train_predicted),\n",
    "        \"test_score\": r2_score(Y_test_r, Y_test_predicted),\n",
    "    })\n",
    "\n",
    "\n",
    "plt.figure(figsize=(12,3))\n",
    "plt.plot([run[\"alpha\"] for run in runs], [run[\"coef\"] for run in runs], label=col) # col определен выше как название столбиков\n",
    "plt.legend()\n",
    "plt.show()"
   ]
  },
  {
   "cell_type": "markdown",
   "id": "e1f95587",
   "metadata": {},
   "source": [
    "На рисунке выше видно как зануляются наши коэффициенты по мере увеличения alpha. Примерно при alpha = 0.9 зануляются все коэффициенты, что говорит о сильно высокой alpha. Наилучшая модель включает в себя все 5 независимых переменных."
   ]
  },
  {
   "cell_type": "code",
   "execution_count": null,
   "id": "997f163a",
   "metadata": {},
   "outputs": [],
   "source": []
  }
 ],
 "metadata": {
  "kernelspec": {
   "display_name": "Python 3 (ipykernel)",
   "language": "python",
   "name": "python3"
  },
  "language_info": {
   "codemirror_mode": {
    "name": "ipython",
    "version": 3
   },
   "file_extension": ".py",
   "mimetype": "text/x-python",
   "name": "python",
   "nbconvert_exporter": "python",
   "pygments_lexer": "ipython3",
   "version": "3.9.12"
  }
 },
 "nbformat": 4,
 "nbformat_minor": 5
}
