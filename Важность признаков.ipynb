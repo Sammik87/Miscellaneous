{
 "cells": [
  {
   "cell_type": "markdown",
   "id": "4f14ee28",
   "metadata": {},
   "source": [
    "Важность признаков, логистическая регрессия, python, случайный лес, sklearn, разреженная матрица, xgboost\n",
    "\n",
    "Важность функции — это оценка, присваиваемая функциям модели машинного обучения, которая определяет, насколько «важным» является признак для прогноза модели. Это может помочь в выборе функций, и мы можем получить очень полезную информацию о наших данных. Мы покажем вам, как его можно получить в самых распространенных моделях машинного обучения.\n",
    "\n",
    "https://predictivehacks.com/feature-importance-in-python/"
   ]
  },
  {
   "cell_type": "code",
   "execution_count": null,
   "id": "ac171859",
   "metadata": {},
   "outputs": [],
   "source": [
    "import pandas as pd\n",
    "import numpy as np\n",
    " \n",
    "import statsmodels.formula.api as smf\n",
    "from sklearn.linear_model import LogisticRegression\n",
    "from sklearn.ensemble import RandomForestClassifier\n",
    "from xgboost import XGBClassifier\n",
    "from sklearn.feature_extraction.text import CountVectorizer\n",
    " \n",
    "#we used only the train dataset from Titanic\n",
    "data=pd.read_csv('train.csv')\n",
    "data=data[['Sex','Age','Embarked','Pclass','SibSp','Parch','Survived']]\n",
    "data.dropna(inplace=True)"
   ]
  },
  {
   "cell_type": "code",
   "execution_count": null,
   "id": "4d9eab15",
   "metadata": {},
   "outputs": [],
   "source": [
    "model=LogisticRegression(random_state=1)\n",
    " \n",
    "features=pd.get_dummies(data[['Sex','Embarked','Pclass','SibSp','Parch']],drop_first=True)\n",
    "features['Age']=data['Age']\n",
    " \n",
    "model.fit(features,data['Survived'])\n",
    " \n",
    "feature_importance=pd.DataFrame({'feature':list(features.columns),'feature_importance':[abs(i) for i in model.coef_[0]]})\n",
    "feature_importance.sort_values('feature_importance',ascending=False)"
   ]
  },
  {
   "cell_type": "code",
   "execution_count": null,
   "id": "9b7d36ab",
   "metadata": {},
   "outputs": [],
   "source": [
    "model=RandomForestClassifier()\n",
    " \n",
    "model.fit(features,data['Survived'])\n",
    " \n",
    "feature_importances=pd.DataFrame({'features':features.columns,'feature_importance':model.feature_importances_})\n",
    "feature_importances.sort_values('feature_importance',ascending=False)"
   ]
  },
  {
   "cell_type": "code",
   "execution_count": null,
   "id": "dfc01482",
   "metadata": {},
   "outputs": [],
   "source": [
    "model=smf.logit('Survived~Sex+Age+Embarked+Pclass+SibSp+Parch',data=data)\n",
    "result = model.fit()\n",
    " \n",
    "feature_importances=pd.DataFrame(result.conf_int()[1]).rename(columns={1:'Coefficients'}).eval(\"absolute_coefficients=abs(Coefficients)\")\n",
    "feature_importances.sort_values('absolute_coefficients',ascending=False).drop('Intercept')[['absolute_coefficients']]"
   ]
  },
  {
   "cell_type": "code",
   "execution_count": null,
   "id": "db735f56",
   "metadata": {},
   "outputs": [],
   "source": [
    "model=XGBClassifier()\n",
    " \n",
    "model.fit(features,data['Survived'])\n",
    " \n",
    "feature_importances=pd.DataFrame({'features':features.columns,'feature_importance':model.feature_importances_})\n",
    "print(feature_importances.sort_values('feature_importance',ascending=False))"
   ]
  },
  {
   "cell_type": "code",
   "execution_count": null,
   "id": "c4b8c197",
   "metadata": {},
   "outputs": [],
   "source": [
    "v = CountVectorizer(ngram_range=(1,1))\n",
    "x = v.fit_transform(df['Message'])\n",
    " \n",
    " \n",
    "model=LogisticRegression()\n",
    "model.fit(x,df['Category'])\n",
    " \n",
    "#we are not getting the absolute value\n",
    "feature_importance=pd.DataFrame({'feature':v.get_feature_names(),'feature_importance':model.coef_[0]})\n",
    "feature_importance.sort_values('feature_importance',ascending=False).head(10)"
   ]
  },
  {
   "cell_type": "code",
   "execution_count": null,
   "id": "ef4cded8",
   "metadata": {},
   "outputs": [],
   "source": [
    "from sklearn.inspection import permutation_importance\n",
    "import numpy as np\n",
    "import matplotlib.pyplot as plt\n",
    "%matplotlib inline\n",
    "\n",
    "svm = SVC(kernel='rbf', random_state=0, gamma=.10, C=1.0)\n",
    "svm.fit(X_train, Y_train)\n",
    "\n",
    "perm_importance = permutation_importance(svm, X_test, Y_test)\n",
    "\n",
    "feature_names = ['length', 'width']\n",
    "features = np.array(feature_names)\n",
    "\n",
    "sorted_idx = perm_importance.importances_mean.argsort()\n",
    "plt.barh(features[sorted_idx], perm_importance.importances_mean[sorted_idx])\n",
    "plt.xlabel(\"Permutation Importance\")"
   ]
  }
 ],
 "metadata": {
  "kernelspec": {
   "display_name": "Python 3 (ipykernel)",
   "language": "python",
   "name": "python3"
  },
  "language_info": {
   "codemirror_mode": {
    "name": "ipython",
    "version": 3
   },
   "file_extension": ".py",
   "mimetype": "text/x-python",
   "name": "python",
   "nbconvert_exporter": "python",
   "pygments_lexer": "ipython3",
   "version": "3.9.12"
  }
 },
 "nbformat": 4,
 "nbformat_minor": 5
}
