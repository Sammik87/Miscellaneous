{
 "cells": [
  {
   "cell_type": "code",
   "execution_count": 1,
   "id": "01a5d067-5202-4a84-92f5-d914f04a4c68",
   "metadata": {},
   "outputs": [],
   "source": [
    "import pandas as pd\n",
    "import numpy as np"
   ]
  },
  {
   "cell_type": "code",
   "execution_count": 2,
   "id": "c66f5fe5-2de0-468a-8880-c63d56fc81c8",
   "metadata": {},
   "outputs": [],
   "source": [
    "df = pd.read_excel('Выборка_Казань.xlsx', sheet_name = 0)"
   ]
  },
  {
   "cell_type": "code",
   "execution_count": 3,
   "id": "49f640c7-a210-45ba-a321-dd8f90c3935a",
   "metadata": {
    "tags": []
   },
   "outputs": [
    {
     "data": {
      "text/plain": [
       "Index(['ID', 'Мусор', 'dup', 'outlier', 'out_PCA', 'Цена', 'Цена_перв',\n",
       "       'LN(Цена)', 'BC(Цена)', 'Цена_перв.1', 'Цена(кв.м)', 'Цена(кв.м)_ln',\n",
       "       'Прогноз', 'кв.м', 'MAE', 'MAPE', 'out', 'Исп', 'Комм', 'ОПлощадь',\n",
       "       'Этаж_1', 'Этаж_2', 'Этаж_3', 'Этаж_4', 'Этажность_1', 'ГП_1', 'ГП_2',\n",
       "       'Неточности', 'ГП', 'Unnamed: 29', 'Unnamed: 30', 'Разница', 'Испол',\n",
       "       'Ремонт_1', 'Ремонт_2', 'Раст_центр_1', 'Раст_центр_2', 'Раст_метро_1',\n",
       "       'Раст_метро_2', 'Районы_1', 'Районы_2', 'Районы_3', 'Районы_4',\n",
       "       'Районы_5', 'Районы_6', 'Medians', 'ЖК_БД', 'ЖК_БД_ч',\n",
       "       'Многоуровневость', 'Терраса', 'Вид_1', 'Вид_2', 'DB', 'KM',\n",
       "       'Аварийноть', 'Проверка', 'Инфо', 'Адрес_1', 'Адрес_2', 'Адрес_Ya',\n",
       "       'Долгота', 'Широта', 'Сцепка_к', 'Unnamed: 63', 'ПОИСК', 'Текст',\n",
       "       'Ремонт', 'Общая площадь', 'Год постройки', 'Этаж/Этажность', 'Ссылка'],\n",
       "      dtype='object')"
      ]
     },
     "execution_count": 3,
     "metadata": {},
     "output_type": "execute_result"
    }
   ],
   "source": [
    "df.columns"
   ]
  },
  {
   "cell_type": "markdown",
   "id": "87c5569e-fb10-4c98-aa7d-8ceca6d933d9",
   "metadata": {},
   "source": [
    "<font size = 3><div style=\"text-align: justify\">**Проверка DF на тип данных и пропуски:**</div></font>"
   ]
  },
  {
   "cell_type": "code",
   "execution_count": 7,
   "id": "29262b11-b71b-492a-927c-dbc183939fa0",
   "metadata": {},
   "outputs": [
    {
     "name": "stdout",
     "output_type": "stream",
     "text": [
      "<class 'pandas.core.frame.DataFrame'>\n",
      "RangeIndex: 11942 entries, 0 to 11941\n",
      "Data columns (total 71 columns):\n",
      " #   Column            Non-Null Count  Dtype  \n",
      "---  ------            --------------  -----  \n",
      " 0   id                11942 non-null  object \n",
      " 1   мусор             11942 non-null  int64  \n",
      " 2   dup               11942 non-null  int64  \n",
      " 3   outlier           11942 non-null  int64  \n",
      " 4   out_pca           10119 non-null  float64\n",
      " 5   цена              11942 non-null  int64  \n",
      " 6   цена_перв         11934 non-null  object \n",
      " 7   ln(цена)          11942 non-null  float64\n",
      " 8   bc(цена)          11934 non-null  float64\n",
      " 9   цена_перв.1       1807 non-null   float64\n",
      " 10  цена(кв.м)        11942 non-null  float64\n",
      " 11  цена(кв.м)_ln     11938 non-null  float64\n",
      " 12  прогноз           9499 non-null   float64\n",
      " 13  кв.м              10065 non-null  float64\n",
      " 14  mae               10065 non-null  float64\n",
      " 15  mape              10065 non-null  float64\n",
      " 16  out               278 non-null    float64\n",
      " 17  исп               909 non-null    object \n",
      " 18  комм              450 non-null    object \n",
      " 19  оплощадь          11942 non-null  float64\n",
      " 20  этаж_1            11941 non-null  float64\n",
      " 21  этаж_2            11942 non-null  object \n",
      " 22  этаж_3            11942 non-null  object \n",
      " 23  этаж_4            11942 non-null  object \n",
      " 24  этажность_1       11941 non-null  float64\n",
      " 25  гп_1              3464 non-null   float64\n",
      " 26  гп_2              11699 non-null  float64\n",
      " 27  неточности        1064 non-null   float64\n",
      " 28  гп                9928 non-null   float64\n",
      " 29  unnamed:_29       8561 non-null   float64\n",
      " 30  unnamed:_30       8626 non-null   float64\n",
      " 31  разница           3457 non-null   float64\n",
      " 32  испол             856 non-null    object \n",
      " 33  ремонт_1          1734 non-null   object \n",
      " 34  ремонт_2          11942 non-null  object \n",
      " 35  раст_центр_1      11942 non-null  float64\n",
      " 36  раст_центр_2      11942 non-null  object \n",
      " 37  раст_метро_1      11942 non-null  float64\n",
      " 38  раст_метро_2      11942 non-null  object \n",
      " 39  районы_1          11734 non-null  object \n",
      " 40  районы_2          11734 non-null  object \n",
      " 41  районы_3          11786 non-null  object \n",
      " 42  районы_4          11786 non-null  object \n",
      " 43  районы_5          11716 non-null  float64\n",
      " 44  районы_6          11942 non-null  int64  \n",
      " 45  medians           11174 non-null  float64\n",
      " 46  жк_бд             11942 non-null  object \n",
      " 47  жк_бд_ч           11942 non-null  int64  \n",
      " 48  многоуровневость  11942 non-null  int64  \n",
      " 49  терраса           11942 non-null  int64  \n",
      " 50  вид_1             11942 non-null  object \n",
      " 51  вид_2             11942 non-null  int64  \n",
      " 52  db                10119 non-null  float64\n",
      " 53  km                10119 non-null  float64\n",
      " 54  аварийноть        21 non-null     object \n",
      " 55  проверка          21 non-null     float64\n",
      " 56  инфо              11934 non-null  object \n",
      " 57  адрес_1           11934 non-null  object \n",
      " 58  адрес_2           11934 non-null  object \n",
      " 59  адрес_ya          11942 non-null  object \n",
      " 60  долгота           11942 non-null  float64\n",
      " 61  широта            11942 non-null  float64\n",
      " 62  сцепка_к          11942 non-null  object \n",
      " 63  unnamed:_63       11934 non-null  float64\n",
      " 64  поиск             11934 non-null  float64\n",
      " 65  текст             11462 non-null  object \n",
      " 66  ремонт            11932 non-null  object \n",
      " 67  общая_площадь     3537 non-null   object \n",
      " 68  год_постройки     3458 non-null   object \n",
      " 69  этаж/этажность    3536 non-null   object \n",
      " 70  ссылка            11942 non-null  object \n",
      "dtypes: float64(32), int64(9), object(30)\n",
      "memory usage: 6.5+ MB\n"
     ]
    }
   ],
   "source": [
    "df.info()"
   ]
  },
  {
   "cell_type": "code",
   "execution_count": 4,
   "id": "4c57dc27-69e5-479f-822e-6fd20e98f0e9",
   "metadata": {},
   "outputs": [
    {
     "data": {
      "text/plain": [
       "ID                 object\n",
       "Мусор               int64\n",
       "dup                 int64\n",
       "outlier             int64\n",
       "out_PCA           float64\n",
       "                   ...   \n",
       "Ремонт             object\n",
       "Общая площадь      object\n",
       "Год постройки      object\n",
       "Этаж/Этажность     object\n",
       "Ссылка             object\n",
       "Length: 71, dtype: object"
      ]
     },
     "execution_count": 4,
     "metadata": {},
     "output_type": "execute_result"
    }
   ],
   "source": [
    "df.dtypes"
   ]
  },
  {
   "cell_type": "code",
   "execution_count": 8,
   "id": "518aacdf-f789-44dd-a595-bb64f8ced2cc",
   "metadata": {},
   "outputs": [
    {
     "data": {
      "text/plain": [
       "id                   0\n",
       "мусор                0\n",
       "dup                  0\n",
       "outlier              0\n",
       "out_pca           1823\n",
       "                  ... \n",
       "ремонт              10\n",
       "общая_площадь     8405\n",
       "год_постройки     8484\n",
       "этаж/этажность    8406\n",
       "ссылка               0\n",
       "Length: 71, dtype: int64"
      ]
     },
     "execution_count": 8,
     "metadata": {},
     "output_type": "execute_result"
    }
   ],
   "source": [
    "df.isnull().sum()"
   ]
  },
  {
   "cell_type": "markdown",
   "id": "6f61bfda-9cfa-4a53-a473-75e89f758012",
   "metadata": {},
   "source": [
    "<font size = 3><div style=\"text-align: justify\">**Описательная статистика для числовых факторов:**</div></font>"
   ]
  },
  {
   "cell_type": "code",
   "execution_count": 10,
   "id": "d2e4a342-6996-4e92-aa01-84e87c01ab2b",
   "metadata": {},
   "outputs": [
    {
     "data": {
      "text/html": [
       "<div>\n",
       "<style scoped>\n",
       "    .dataframe tbody tr th:only-of-type {\n",
       "        vertical-align: middle;\n",
       "    }\n",
       "\n",
       "    .dataframe tbody tr th {\n",
       "        vertical-align: top;\n",
       "    }\n",
       "\n",
       "    .dataframe thead th {\n",
       "        text-align: right;\n",
       "    }\n",
       "</style>\n",
       "<table border=\"1\" class=\"dataframe\">\n",
       "  <thead>\n",
       "    <tr style=\"text-align: right;\">\n",
       "      <th></th>\n",
       "      <th>цена</th>\n",
       "      <th>оплощадь</th>\n",
       "      <th>этаж_1</th>\n",
       "      <th>этажность_1</th>\n",
       "      <th>гп_2</th>\n",
       "    </tr>\n",
       "  </thead>\n",
       "  <tbody>\n",
       "    <tr>\n",
       "      <th>count</th>\n",
       "      <td>1.194200e+04</td>\n",
       "      <td>11942.000000</td>\n",
       "      <td>11941.000000</td>\n",
       "      <td>11941.000000</td>\n",
       "      <td>11699.000000</td>\n",
       "    </tr>\n",
       "    <tr>\n",
       "      <th>mean</th>\n",
       "      <td>9.355517e+06</td>\n",
       "      <td>52.242025</td>\n",
       "      <td>5.871284</td>\n",
       "      <td>10.927393</td>\n",
       "      <td>2001.881699</td>\n",
       "    </tr>\n",
       "    <tr>\n",
       "      <th>std</th>\n",
       "      <td>1.256589e+07</td>\n",
       "      <td>29.685913</td>\n",
       "      <td>4.771997</td>\n",
       "      <td>6.521836</td>\n",
       "      <td>22.118679</td>\n",
       "    </tr>\n",
       "    <tr>\n",
       "      <th>min</th>\n",
       "      <td>6.500000e+05</td>\n",
       "      <td>9.100000</td>\n",
       "      <td>1.000000</td>\n",
       "      <td>1.000000</td>\n",
       "      <td>1898.000000</td>\n",
       "    </tr>\n",
       "    <tr>\n",
       "      <th>25%</th>\n",
       "      <td>5.300000e+06</td>\n",
       "      <td>35.000000</td>\n",
       "      <td>2.000000</td>\n",
       "      <td>5.000000</td>\n",
       "      <td>1983.000000</td>\n",
       "    </tr>\n",
       "    <tr>\n",
       "      <th>50%</th>\n",
       "      <td>7.400000e+06</td>\n",
       "      <td>45.900000</td>\n",
       "      <td>4.000000</td>\n",
       "      <td>9.000000</td>\n",
       "      <td>2010.000000</td>\n",
       "    </tr>\n",
       "    <tr>\n",
       "      <th>75%</th>\n",
       "      <td>1.088000e+07</td>\n",
       "      <td>62.800000</td>\n",
       "      <td>8.000000</td>\n",
       "      <td>17.000000</td>\n",
       "      <td>2020.000000</td>\n",
       "    </tr>\n",
       "    <tr>\n",
       "      <th>max</th>\n",
       "      <td>1.000000e+09</td>\n",
       "      <td>508.900000</td>\n",
       "      <td>33.000000</td>\n",
       "      <td>40.000000</td>\n",
       "      <td>2027.000000</td>\n",
       "    </tr>\n",
       "  </tbody>\n",
       "</table>\n",
       "</div>"
      ],
      "text/plain": [
       "               цена      оплощадь        этаж_1   этажность_1          гп_2\n",
       "count  1.194200e+04  11942.000000  11941.000000  11941.000000  11699.000000\n",
       "mean   9.355517e+06     52.242025      5.871284     10.927393   2001.881699\n",
       "std    1.256589e+07     29.685913      4.771997      6.521836     22.118679\n",
       "min    6.500000e+05      9.100000      1.000000      1.000000   1898.000000\n",
       "25%    5.300000e+06     35.000000      2.000000      5.000000   1983.000000\n",
       "50%    7.400000e+06     45.900000      4.000000      9.000000   2010.000000\n",
       "75%    1.088000e+07     62.800000      8.000000     17.000000   2020.000000\n",
       "max    1.000000e+09    508.900000     33.000000     40.000000   2027.000000"
      ]
     },
     "execution_count": 10,
     "metadata": {},
     "output_type": "execute_result"
    }
   ],
   "source": [
    "df_num = df[['цена', 'оплощадь', 'этаж_1', 'этажность_1', 'гп_2']] #отбираем необходимые числовые факторы\n",
    "\n",
    "df_num.describe()"
   ]
  },
  {
   "cell_type": "markdown",
   "id": "35a7ca75-9a63-4be0-95ba-89450392b7e8",
   "metadata": {},
   "source": [
    "<font size = 3><div style=\"text-align: justify\">**Описательная статистика для категориальных факторов:**</div></font>"
   ]
  },
  {
   "cell_type": "code",
   "execution_count": 12,
   "id": "88f42b6e-7e88-4061-802c-57254f5a9300",
   "metadata": {},
   "outputs": [
    {
     "data": {
      "text/html": [
       "<div>\n",
       "<style scoped>\n",
       "    .dataframe tbody tr th:only-of-type {\n",
       "        vertical-align: middle;\n",
       "    }\n",
       "\n",
       "    .dataframe tbody tr th {\n",
       "        vertical-align: top;\n",
       "    }\n",
       "\n",
       "    .dataframe thead th {\n",
       "        text-align: right;\n",
       "    }\n",
       "</style>\n",
       "<table border=\"1\" class=\"dataframe\">\n",
       "  <thead>\n",
       "    <tr style=\"text-align: right;\">\n",
       "      <th></th>\n",
       "      <th>этаж_4</th>\n",
       "      <th>раст_центр_2</th>\n",
       "      <th>раст_метро_2</th>\n",
       "      <th>районы_2</th>\n",
       "      <th>жк_бд</th>\n",
       "    </tr>\n",
       "  </thead>\n",
       "  <tbody>\n",
       "    <tr>\n",
       "      <th>count</th>\n",
       "      <td>11942</td>\n",
       "      <td>11942</td>\n",
       "      <td>11942</td>\n",
       "      <td>11734</td>\n",
       "      <td>11942</td>\n",
       "    </tr>\n",
       "    <tr>\n",
       "      <th>unique</th>\n",
       "      <td>7</td>\n",
       "      <td>5</td>\n",
       "      <td>3</td>\n",
       "      <td>38</td>\n",
       "      <td>2</td>\n",
       "    </tr>\n",
       "    <tr>\n",
       "      <th>top</th>\n",
       "      <td>этажи_2-5</td>\n",
       "      <td>от_6000_до_10000</td>\n",
       "      <td>на_удалении</td>\n",
       "      <td>клыковка_дальний</td>\n",
       "      <td>нет</td>\n",
       "    </tr>\n",
       "    <tr>\n",
       "      <th>freq</th>\n",
       "      <td>4807</td>\n",
       "      <td>3766</td>\n",
       "      <td>10128</td>\n",
       "      <td>1091</td>\n",
       "      <td>11796</td>\n",
       "    </tr>\n",
       "  </tbody>\n",
       "</table>\n",
       "</div>"
      ],
      "text/plain": [
       "           этаж_4      раст_центр_2 раст_метро_2          районы_2  жк_бд\n",
       "count       11942             11942        11942             11734  11942\n",
       "unique          7                 5            3                38      2\n",
       "top     этажи_2-5  от_6000_до_10000  на_удалении  клыковка_дальний    нет\n",
       "freq         4807              3766        10128              1091  11796"
      ]
     },
     "execution_count": 12,
     "metadata": {},
     "output_type": "execute_result"
    }
   ],
   "source": [
    "df_cat = df[['этаж_4', 'раст_центр_2', 'раст_метро_2', 'районы_2', 'жк_бд']] #отбираем необходимые категориальные факторы\n",
    "\n",
    "df_cat.describe()"
   ]
  },
  {
   "cell_type": "markdown",
   "id": "10f050d9-3923-4359-9478-41fb1a7aee57",
   "metadata": {},
   "source": [
    "<font size = 3><div style=\"text-align: justify\">**Простая фильтрация:**</div></font>"
   ]
  },
  {
   "cell_type": "code",
   "execution_count": 17,
   "id": "f2c291c2-26f3-4975-93a8-c9f4d3164c02",
   "metadata": {},
   "outputs": [
    {
     "name": "stdout",
     "output_type": "stream",
     "text": [
      "4807\n",
      "['этажи_2-5']\n"
     ]
    }
   ],
   "source": [
    "#По одному фильтру \n",
    "sort_1 = df[df['этаж_4'] == 'этажи_2-5']\n",
    "print(len(sort_1))\n",
    "print(sort_1['этаж_4'].unique())"
   ]
  },
  {
   "cell_type": "code",
   "execution_count": 57,
   "id": "fd218c92-853b-476e-a0a5-8b79f320dad8",
   "metadata": {},
   "outputs": [
    {
     "name": "stdout",
     "output_type": "stream",
     "text": [
      "Мин площадь: 30.0, Макс площадь: 35.0\n",
      "['этажи_2-5']\n",
      "Района нет\n"
     ]
    }
   ],
   "source": [
    "#По нескольким фильтрам\n",
    "s_1 = df['этаж_4'] == 'этажи_2-5'\n",
    "s_2 = df['оплощадь'] >= 30\n",
    "s_3 = df['оплощадь'] <= 35\n",
    "s_4 = df['районы_2'] != 'Азино'\n",
    "\n",
    "sort_1 = df[s_1 & s_2 & s_3 & s_4]\n",
    "\n",
    "print(f'Мин площадь: {sort_1[\"оплощадь\"].min()}, Макс площадь: {sort_1[\"оплощадь\"].max()}')\n",
    "print(sort_1['этаж_4'].unique())\n",
    "\n",
    "if 'Азино' == list(sort_1['районы_2'].unique()):\n",
    "    print('Район есть')\n",
    "else:\n",
    "    print('Района нет')"
   ]
  },
  {
   "cell_type": "code",
   "execution_count": 59,
   "id": "df1e1512-c0f2-4dea-af2f-7ac4944e967a",
   "metadata": {},
   "outputs": [
    {
     "name": "stdout",
     "output_type": "stream",
     "text": [
      "['49.206271_55.689431' '49.207753_55.795767' '49.216709_55.777125']\n"
     ]
    }
   ],
   "source": [
    "#По нескольким фильтрам\n",
    "s_1 = df['сцепка_к'] == '49.206271_55.689431'\n",
    "s_2 = df['сцепка_к'] == '49.216709_55.777125'\n",
    "s_3 = df['сцепка_к'] == '49.207753_55.795767'\n",
    "\n",
    "sort_1 = df[s_1 | s_2 | s_3]  # | оператор \"или\"\n",
    " \n",
    "print(sort_1['сцепка_к'].unique())"
   ]
  },
  {
   "cell_type": "markdown",
   "id": "9ac52c3b-d9a4-4fc2-9d59-e0c5657956b9",
   "metadata": {},
   "source": [
    "<font size = 3><div style=\"text-align: justify\">**Сортировка:**</div></font>"
   ]
  },
  {
   "cell_type": "code",
   "execution_count": 62,
   "id": "c0adb25b-bf81-41cd-9d67-73e0d95578ab",
   "metadata": {},
   "outputs": [
    {
     "data": {
      "text/plain": [
       "11941    35.0\n",
       "3108     35.0\n",
       "3094     35.0\n",
       "7829     35.0\n",
       "9827     35.0\n",
       "         ... \n",
       "3573     30.0\n",
       "3088     30.0\n",
       "9142     30.0\n",
       "8270     30.0\n",
       "4101     30.0\n",
       "Name: оплощадь, Length: 1665, dtype: float64"
      ]
     },
     "execution_count": 62,
     "metadata": {},
     "output_type": "execute_result"
    }
   ],
   "source": [
    "s_1 = df['оплощадь'] >= 30\n",
    "s_2 = df['оплощадь'] <= 35\n",
    "\n",
    "sort_1 = df[s_1 & s_2]['оплощадь'].sort_values(ascending = False) #ascending = False - по убыванию, True - по возрастанию.\n",
    "sort_1"
   ]
  },
  {
   "cell_type": "markdown",
   "id": "50d3f235-9df3-4289-9874-e9e88e2977ac",
   "metadata": {},
   "source": [
    "<font size = 3><div style=\"text-align: justify\">**Количество по классам:**</div></font>"
   ]
  },
  {
   "cell_type": "code",
   "execution_count": 64,
   "id": "50fb7118-2c14-4a96-9c3a-04244b318c7c",
   "metadata": {},
   "outputs": [
    {
     "data": {
      "text/plain": [
       "этажи_2-5      4807\n",
       "этажи_6-10     2422\n",
       "последний      1586\n",
       "этажи_11-25    1507\n",
       "первый         1466\n",
       "неважно         146\n",
       "более_25          8\n",
       "Name: этаж_4, dtype: int64"
      ]
     },
     "execution_count": 64,
     "metadata": {},
     "output_type": "execute_result"
    }
   ],
   "source": [
    "df['этаж_4'].value_counts(sort = True, ascending = False)"
   ]
  },
  {
   "cell_type": "markdown",
   "id": "f40fb6b1-9b4f-484a-9797-56a7668faa6c",
   "metadata": {},
   "source": [
    "<font size = 3><div style=\"text-align: justify\">**Список уникальных классов по категориальному фактору:**</div></font>"
   ]
  },
  {
   "cell_type": "code",
   "execution_count": 67,
   "id": "ff1fe2c0-4458-4a41-9a1e-46e3d5efdb2c",
   "metadata": {},
   "outputs": [
    {
     "data": {
      "text/plain": [
       "['первый',\n",
       " 'последний',\n",
       " 'этажи_2-5',\n",
       " 'этажи_6-10',\n",
       " 'этажи_11-25',\n",
       " 'неважно',\n",
       " 'более_25']"
      ]
     },
     "execution_count": 67,
     "metadata": {},
     "output_type": "execute_result"
    }
   ],
   "source": [
    "list(df['этаж_4'].unique())"
   ]
  },
  {
   "cell_type": "markdown",
   "id": "b77c678f-eb71-48dd-b03d-248d51dbbed2",
   "metadata": {},
   "source": [
    "<font size = 3><div style=\"text-align: justify\">**Перевод всех имен столбцов к нижнему регистру и замена пробелов символом подчеркивания:**</div></font>"
   ]
  },
  {
   "cell_type": "code",
   "execution_count": 4,
   "id": "43840b5c-e481-4bee-9968-1af13987221b",
   "metadata": {},
   "outputs": [
    {
     "data": {
      "text/plain": [
       "Index(['id', 'мусор', 'dup', 'outlier', 'out_pca', 'цена', 'цена_перв',\n",
       "       'ln(цена)', 'bc(цена)', 'цена_перв.1', 'цена(кв.м)', 'цена(кв.м)_ln',\n",
       "       'прогноз', 'кв.м', 'mae', 'mape', 'out', 'исп', 'комм', 'оплощадь',\n",
       "       'этаж_1', 'этаж_2', 'этаж_3', 'этаж_4', 'этажность_1', 'гп_1', 'гп_2',\n",
       "       'неточности', 'гп', 'unnamed:_29', 'unnamed:_30', 'разница', 'испол',\n",
       "       'ремонт_1', 'ремонт_2', 'раст_центр_1', 'раст_центр_2', 'раст_метро_1',\n",
       "       'раст_метро_2', 'районы_1', 'районы_2', 'районы_3', 'районы_4',\n",
       "       'районы_5', 'районы_6', 'medians', 'жк_бд', 'жк_бд_ч',\n",
       "       'многоуровневость', 'терраса', 'вид_1', 'вид_2', 'db', 'km',\n",
       "       'аварийноть', 'проверка', 'инфо', 'адрес_1', 'адрес_2', 'адрес_ya',\n",
       "       'долгота', 'широта', 'сцепка_к', 'unnamed:_63', 'поиск', 'текст',\n",
       "       'ремонт', 'общая_площадь', 'год_постройки', 'этаж/этажность', 'ссылка'],\n",
       "      dtype='object')"
      ]
     },
     "execution_count": 4,
     "metadata": {},
     "output_type": "execute_result"
    }
   ],
   "source": [
    "df.columns = df.columns.str.lower().str.replace(' ', '_')\n",
    "df.columns"
   ]
  },
  {
   "cell_type": "markdown",
   "id": "e95d5aa1-4e17-4dbf-a233-62a4c05799ee",
   "metadata": {},
   "source": [
    "<font size = 3><div style=\"text-align: justify\">**Перевод всех имен классов к нижнему регистру и замена пробелов символом подчеркивания:**</div></font>"
   ]
  },
  {
   "cell_type": "code",
   "execution_count": 5,
   "id": "31d12628-02c7-4e01-a50a-7c5146fa358a",
   "metadata": {},
   "outputs": [],
   "source": [
    "string_columns = list(df.dtypes[df.dtypes == 'object'].index) #выбираем индексы всех категориальных факторов (столбцов)\n",
    "\n",
    "for col in string_columns:\n",
    "    df[col] = df[col].str.lower().str.replace(' ', '_') #понижаем регистр и ставим _ вместо пробелов"
   ]
  },
  {
   "cell_type": "markdown",
   "id": "02c141b9-2230-4c1d-9745-701441e03663",
   "metadata": {},
   "source": [
    "<font size = 3><div style=\"text-align: justify\">**Удаление столбцов в DF:**</div></font>"
   ]
  },
  {
   "cell_type": "code",
   "execution_count": null,
   "id": "d74b8e80-ffa3-41c0-990e-2fe0c63072f5",
   "metadata": {},
   "outputs": [],
   "source": [
    "# Удаляем лишние столбцы\n",
    "df = df.drop(['Ссылка', 'Способ продажи'], axis = 1)\n",
    "df"
   ]
  },
  {
   "cell_type": "markdown",
   "id": "e2d00207-f2a9-4bd2-be57-ab610ca301e6",
   "metadata": {},
   "source": [
    "<font size = 3><div style=\"text-align: justify\">**Логарифмирование:**</div></font>"
   ]
  },
  {
   "cell_type": "code",
   "execution_count": null,
   "id": "f9247cc6-006f-494d-802a-fd83dec98042",
   "metadata": {},
   "outputs": [],
   "source": [
    "np.log(df['Цена'])"
   ]
  },
  {
   "cell_type": "code",
   "execution_count": null,
   "id": "81dd336a-29c4-49c3-b33c-89e83ba4b7d4",
   "metadata": {},
   "outputs": [],
   "source": [
    "np.log1p(df['Цена']) #добавляет 1 к значению, так как в ячейке может быть 0"
   ]
  },
  {
   "cell_type": "markdown",
   "id": "795ef695-63d4-4415-873c-976ecd805ccc",
   "metadata": {},
   "source": [
    "<font size = 3><div style=\"text-align: justify\">**Перемешивание**</div></font>"
   ]
  },
  {
   "cell_type": "code",
   "execution_count": 69,
   "id": "1c392a9d-b858-4e8e-b146-ca6a9c2c94eb",
   "metadata": {},
   "outputs": [
    {
     "name": "stdout",
     "output_type": "stream",
     "text": [
      "[0 1 2 3 4]\n",
      "[4 1 2 0 3]\n"
     ]
    }
   ],
   "source": [
    "idx = np.arange(5) #массив от 0 до 4\n",
    "print(idx)\n",
    "np.random.shuffle(idx)\n",
    "print(idx)"
   ]
  },
  {
   "cell_type": "markdown",
   "id": "f0337ea8-1d24-423e-9729-fd107396841e",
   "metadata": {},
   "source": [
    "<font size = 3><div style=\"text-align: justify\">**loc / iloc**</div></font>"
   ]
  },
  {
   "cell_type": "code",
   "execution_count": 72,
   "id": "984b745d-36f8-4631-8dad-22437ec12a23",
   "metadata": {},
   "outputs": [
    {
     "data": {
      "text/html": [
       "<div>\n",
       "<style scoped>\n",
       "    .dataframe tbody tr th:only-of-type {\n",
       "        vertical-align: middle;\n",
       "    }\n",
       "\n",
       "    .dataframe tbody tr th {\n",
       "        vertical-align: top;\n",
       "    }\n",
       "\n",
       "    .dataframe thead th {\n",
       "        text-align: right;\n",
       "    }\n",
       "</style>\n",
       "<table border=\"1\" class=\"dataframe\">\n",
       "  <thead>\n",
       "    <tr style=\"text-align: right;\">\n",
       "      <th></th>\n",
       "      <th>id</th>\n",
       "      <th>мусор</th>\n",
       "      <th>dup</th>\n",
       "      <th>outlier</th>\n",
       "      <th>out_pca</th>\n",
       "      <th>цена</th>\n",
       "      <th>цена_перв</th>\n",
       "      <th>ln(цена)</th>\n",
       "      <th>bc(цена)</th>\n",
       "      <th>цена_перв.1</th>\n",
       "      <th>...</th>\n",
       "      <th>широта</th>\n",
       "      <th>сцепка_к</th>\n",
       "      <th>unnamed:_63</th>\n",
       "      <th>поиск</th>\n",
       "      <th>текст</th>\n",
       "      <th>ремонт</th>\n",
       "      <th>общая_площадь</th>\n",
       "      <th>год_постройки</th>\n",
       "      <th>этаж/этажность</th>\n",
       "      <th>ссылка</th>\n",
       "    </tr>\n",
       "  </thead>\n",
       "  <tbody>\n",
       "    <tr>\n",
       "      <th>0</th>\n",
       "      <td>1_avito</td>\n",
       "      <td>0</td>\n",
       "      <td>0</td>\n",
       "      <td>0</td>\n",
       "      <td>0.0</td>\n",
       "      <td>5200000</td>\n",
       "      <td>5_200_000_₽</td>\n",
       "      <td>15.464169</td>\n",
       "      <td>4.897233</td>\n",
       "      <td>NaN</td>\n",
       "      <td>...</td>\n",
       "      <td>55.852829</td>\n",
       "      <td>49.063304_55.852829</td>\n",
       "      <td>4.0</td>\n",
       "      <td>0.0</td>\n",
       "      <td>продаю_1к_квартиру-студию_27_квм_в_новом_жк_но...</td>\n",
       "      <td>евро</td>\n",
       "      <td>NaN</td>\n",
       "      <td>NaN</td>\n",
       "      <td>NaN</td>\n",
       "      <td>https://www.avito.ru/kazan/kvartiry/kvartira-s...</td>\n",
       "    </tr>\n",
       "    <tr>\n",
       "      <th>1</th>\n",
       "      <td>2_avito</td>\n",
       "      <td>0</td>\n",
       "      <td>0</td>\n",
       "      <td>0</td>\n",
       "      <td>0.0</td>\n",
       "      <td>5390000</td>\n",
       "      <td>5_390_000_₽</td>\n",
       "      <td>15.500056</td>\n",
       "      <td>4.899012</td>\n",
       "      <td>NaN</td>\n",
       "      <td>...</td>\n",
       "      <td>55.689431</td>\n",
       "      <td>49.206271_55.689431</td>\n",
       "      <td>3.0</td>\n",
       "      <td>0.0</td>\n",
       "      <td>срочная_продажа_новой_квартиры-_студиипродаетс...</td>\n",
       "      <td>евро</td>\n",
       "      <td>NaN</td>\n",
       "      <td>NaN</td>\n",
       "      <td>NaN</td>\n",
       "      <td>https://www.avito.ru/kazan/kvartiry/kvartira-s...</td>\n",
       "    </tr>\n",
       "  </tbody>\n",
       "</table>\n",
       "<p>2 rows × 71 columns</p>\n",
       "</div>"
      ],
      "text/plain": [
       "        id  мусор  dup  outlier  out_pca     цена    цена_перв   ln(цена)  \\\n",
       "0  1_avito      0    0        0      0.0  5200000  5_200_000_₽  15.464169   \n",
       "1  2_avito      0    0        0      0.0  5390000  5_390_000_₽  15.500056   \n",
       "\n",
       "   bc(цена)  цена_перв.1  ...     широта             сцепка_к  unnamed:_63  \\\n",
       "0  4.897233          NaN  ...  55.852829  49.063304_55.852829          4.0   \n",
       "1  4.899012          NaN  ...  55.689431  49.206271_55.689431          3.0   \n",
       "\n",
       "   поиск                                              текст  ремонт  \\\n",
       "0    0.0  продаю_1к_квартиру-студию_27_квм_в_новом_жк_но...    евро   \n",
       "1    0.0  срочная_продажа_новой_квартиры-_студиипродаетс...    евро   \n",
       "\n",
       "   общая_площадь год_постройки этаж/этажность  \\\n",
       "0            NaN           NaN            NaN   \n",
       "1            NaN           NaN            NaN   \n",
       "\n",
       "                                              ссылка  \n",
       "0  https://www.avito.ru/kazan/kvartiry/kvartira-s...  \n",
       "1  https://www.avito.ru/kazan/kvartiry/kvartira-s...  \n",
       "\n",
       "[2 rows x 71 columns]"
      ]
     },
     "execution_count": 72,
     "metadata": {},
     "output_type": "execute_result"
    }
   ],
   "source": [
    "#loc - по индексам\n",
    "#iloc - по позициям\n",
    "\n",
    "df.loc[0:1] #выводит строки с 0 и 1 индексом"
   ]
  },
  {
   "cell_type": "code",
   "execution_count": 74,
   "id": "ebaf1dce-9bd6-4cc5-8ed4-a424ab392920",
   "metadata": {},
   "outputs": [
    {
     "data": {
      "text/html": [
       "<div>\n",
       "<style scoped>\n",
       "    .dataframe tbody tr th:only-of-type {\n",
       "        vertical-align: middle;\n",
       "    }\n",
       "\n",
       "    .dataframe tbody tr th {\n",
       "        vertical-align: top;\n",
       "    }\n",
       "\n",
       "    .dataframe thead th {\n",
       "        text-align: right;\n",
       "    }\n",
       "</style>\n",
       "<table border=\"1\" class=\"dataframe\">\n",
       "  <thead>\n",
       "    <tr style=\"text-align: right;\">\n",
       "      <th></th>\n",
       "      <th>id</th>\n",
       "      <th>мусор</th>\n",
       "      <th>dup</th>\n",
       "      <th>outlier</th>\n",
       "      <th>out_pca</th>\n",
       "      <th>цена</th>\n",
       "      <th>цена_перв</th>\n",
       "      <th>ln(цена)</th>\n",
       "      <th>bc(цена)</th>\n",
       "      <th>цена_перв.1</th>\n",
       "      <th>...</th>\n",
       "      <th>широта</th>\n",
       "      <th>сцепка_к</th>\n",
       "      <th>unnamed:_63</th>\n",
       "      <th>поиск</th>\n",
       "      <th>текст</th>\n",
       "      <th>ремонт</th>\n",
       "      <th>общая_площадь</th>\n",
       "      <th>год_постройки</th>\n",
       "      <th>этаж/этажность</th>\n",
       "      <th>ссылка</th>\n",
       "    </tr>\n",
       "  </thead>\n",
       "  <tbody>\n",
       "    <tr>\n",
       "      <th>0</th>\n",
       "      <td>1_avito</td>\n",
       "      <td>0</td>\n",
       "      <td>0</td>\n",
       "      <td>0</td>\n",
       "      <td>0.0</td>\n",
       "      <td>5200000</td>\n",
       "      <td>5_200_000_₽</td>\n",
       "      <td>15.464169</td>\n",
       "      <td>4.897233</td>\n",
       "      <td>NaN</td>\n",
       "      <td>...</td>\n",
       "      <td>55.852829</td>\n",
       "      <td>49.063304_55.852829</td>\n",
       "      <td>4.0</td>\n",
       "      <td>0.0</td>\n",
       "      <td>продаю_1к_квартиру-студию_27_квм_в_новом_жк_но...</td>\n",
       "      <td>евро</td>\n",
       "      <td>NaN</td>\n",
       "      <td>NaN</td>\n",
       "      <td>NaN</td>\n",
       "      <td>https://www.avito.ru/kazan/kvartiry/kvartira-s...</td>\n",
       "    </tr>\n",
       "    <tr>\n",
       "      <th>1</th>\n",
       "      <td>2_avito</td>\n",
       "      <td>0</td>\n",
       "      <td>0</td>\n",
       "      <td>0</td>\n",
       "      <td>0.0</td>\n",
       "      <td>5390000</td>\n",
       "      <td>5_390_000_₽</td>\n",
       "      <td>15.500056</td>\n",
       "      <td>4.899012</td>\n",
       "      <td>NaN</td>\n",
       "      <td>...</td>\n",
       "      <td>55.689431</td>\n",
       "      <td>49.206271_55.689431</td>\n",
       "      <td>3.0</td>\n",
       "      <td>0.0</td>\n",
       "      <td>срочная_продажа_новой_квартиры-_студиипродаетс...</td>\n",
       "      <td>евро</td>\n",
       "      <td>NaN</td>\n",
       "      <td>NaN</td>\n",
       "      <td>NaN</td>\n",
       "      <td>https://www.avito.ru/kazan/kvartiry/kvartira-s...</td>\n",
       "    </tr>\n",
       "  </tbody>\n",
       "</table>\n",
       "<p>2 rows × 71 columns</p>\n",
       "</div>"
      ],
      "text/plain": [
       "        id  мусор  dup  outlier  out_pca     цена    цена_перв   ln(цена)  \\\n",
       "0  1_avito      0    0        0      0.0  5200000  5_200_000_₽  15.464169   \n",
       "1  2_avito      0    0        0      0.0  5390000  5_390_000_₽  15.500056   \n",
       "\n",
       "   bc(цена)  цена_перв.1  ...     широта             сцепка_к  unnamed:_63  \\\n",
       "0  4.897233          NaN  ...  55.852829  49.063304_55.852829          4.0   \n",
       "1  4.899012          NaN  ...  55.689431  49.206271_55.689431          3.0   \n",
       "\n",
       "   поиск                                              текст  ремонт  \\\n",
       "0    0.0  продаю_1к_квартиру-студию_27_квм_в_новом_жк_но...    евро   \n",
       "1    0.0  срочная_продажа_новой_квартиры-_студиипродаетс...    евро   \n",
       "\n",
       "   общая_площадь год_постройки этаж/этажность  \\\n",
       "0            NaN           NaN            NaN   \n",
       "1            NaN           NaN            NaN   \n",
       "\n",
       "                                              ссылка  \n",
       "0  https://www.avito.ru/kazan/kvartiry/kvartira-s...  \n",
       "1  https://www.avito.ru/kazan/kvartiry/kvartira-s...  \n",
       "\n",
       "[2 rows x 71 columns]"
      ]
     },
     "execution_count": 74,
     "metadata": {},
     "output_type": "execute_result"
    }
   ],
   "source": [
    "df.iloc[0:2] #выводит строки на позициях 0 и 1 не включая 2"
   ]
  },
  {
   "cell_type": "markdown",
   "id": "d906fa2a-9c13-443f-afd3-d9386fd5f57b",
   "metadata": {},
   "source": [
    "<font size = 3><div style=\"text-align: justify\">**Добавить элемент к списку:**</div></font>"
   ]
  },
  {
   "cell_type": "code",
   "execution_count": 76,
   "id": "032e7860-cd4f-4789-b7cd-3e45b75167f3",
   "metadata": {},
   "outputs": [
    {
     "name": "stdout",
     "output_type": "stream",
     "text": [
      "[1, 2, 3, 4, 5]\n",
      "[0, 1, 2, 3, 4, 5]\n"
     ]
    }
   ],
   "source": [
    "a = [1, 2, 3, 4, 5]\n",
    "print(a)\n",
    "a = [0] + a\n",
    "print(a)"
   ]
  },
  {
   "cell_type": "markdown",
   "id": "cf02402a-7a03-47f2-a7e1-39f69e057278",
   "metadata": {},
   "source": [
    "<font size = 3><div style=\"text-align: justify\">**Умножение:**</div></font>"
   ]
  },
  {
   "cell_type": "code",
   "execution_count": 77,
   "id": "e101ee65-d713-4f29-a2fc-e46293caea38",
   "metadata": {},
   "outputs": [
    {
     "data": {
      "text/plain": [
       "[1, 2, 3, 4, 5, 1, 2, 3, 4, 5, 1, 2, 3, 4, 5, 1, 2, 3, 4, 5, 1, 2, 3, 4, 5]"
      ]
     },
     "execution_count": 77,
     "metadata": {},
     "output_type": "execute_result"
    }
   ],
   "source": [
    "a = [1, 2, 3, 4, 5]\n",
    "b = 5\n",
    "\n",
    "c = a * b\n",
    "c"
   ]
  },
  {
   "cell_type": "code",
   "execution_count": 79,
   "id": "41e9c320-98c4-4f86-8837-b68a8086a682",
   "metadata": {},
   "outputs": [
    {
     "data": {
      "text/plain": [
       "array([ 5, 10, 15, 20, 25])"
      ]
     },
     "execution_count": 79,
     "metadata": {},
     "output_type": "execute_result"
    }
   ],
   "source": [
    "c = np.array(a).dot(b)\n",
    "c"
   ]
  },
  {
   "cell_type": "markdown",
   "id": "363707cc-0a98-430b-ac5d-dce8a7a73e55",
   "metadata": {},
   "source": [
    "<font size = 3><div style=\"text-align: justify\">**Заполнение пропусков нулями:**</div></font>"
   ]
  },
  {
   "cell_type": "code",
   "execution_count": null,
   "id": "92c76501-8fc3-4f58-9325-ec75f5897f70",
   "metadata": {},
   "outputs": [],
   "source": [
    "df['оплощадь'] = df['оплощадь'].fillna(0)"
   ]
  },
  {
   "cell_type": "markdown",
   "id": "7d1fb02e-5b06-4aff-ae4e-976328b3b59c",
   "metadata": {},
   "source": [
    "<font size = 3><div style=\"text-align: justify\">**Удаление пропусков:**</div></font>"
   ]
  },
  {
   "cell_type": "code",
   "execution_count": null,
   "id": "af84fd4c-94f2-4cb6-9d1a-472ae53a6266",
   "metadata": {},
   "outputs": [],
   "source": [
    "df_ts = df_ts.dropna(subset = ['Тип санузла'])"
   ]
  },
  {
   "cell_type": "markdown",
   "id": "bc1c7f6f-5308-4f40-9344-02c2181699e8",
   "metadata": {},
   "source": [
    "<font size = 3><div style=\"text-align: justify\">**Обнаружение пропусков:**</div></font>"
   ]
  },
  {
   "cell_type": "code",
   "execution_count": 101,
   "id": "791d9f90-636e-4667-8923-fc90723329c7",
   "metadata": {},
   "outputs": [
    {
     "data": {
      "text/plain": [
       "0        False\n",
       "1        False\n",
       "2        False\n",
       "3        False\n",
       "4        False\n",
       "         ...  \n",
       "11937    False\n",
       "11938    False\n",
       "11939    False\n",
       "11940    False\n",
       "11941    False\n",
       "Name: оплощадь, Length: 11942, dtype: bool"
      ]
     },
     "execution_count": 101,
     "metadata": {},
     "output_type": "execute_result"
    }
   ],
   "source": [
    "df['оплощадь'].isna() #возвращает True, если есть пропуск"
   ]
  },
  {
   "cell_type": "markdown",
   "id": "1f9002e8-ce4c-4785-8415-cbda0ed560dc",
   "metadata": {},
   "source": [
    "<font size = 3><div style=\"text-align: justify\">**Переименование столбцов:**</div></font>"
   ]
  },
  {
   "cell_type": "code",
   "execution_count": null,
   "id": "a5fa4a7a-c235-4a36-9ade-b82e99bffd5c",
   "metadata": {},
   "outputs": [],
   "source": [
    "# переименнуе столбцы\n",
    "df_ts = df_ts.rename({0: 'первый', 1: 'последний', 2: 'средний'}, axis = 'columns')\n",
    "df_ts"
   ]
  },
  {
   "cell_type": "markdown",
   "id": "95e8bd4c-ad76-4c93-bfaf-a803336e0da6",
   "metadata": {},
   "source": [
    "<font size = 3><div style=\"text-align: justify\">**Как добавить переменную в текст:**</div></font>"
   ]
  },
  {
   "cell_type": "code",
   "execution_count": 82,
   "id": "47dd2ddb-0f77-468f-917e-832d24cf7553",
   "metadata": {},
   "outputs": [
    {
     "name": "stdout",
     "output_type": "stream",
     "text": [
      "Яблок: 3, груш: 5\n",
      "num_doors_3\n"
     ]
    }
   ],
   "source": [
    "#f-строка\n",
    "a = 3\n",
    "b = 5\n",
    "c = 3\n",
    "\n",
    "print(f'Яблок: {a}, груш: {b}')\n",
    "print('num_doors_%s' % c)"
   ]
  },
  {
   "cell_type": "markdown",
   "id": "6c851233-2785-4880-91dc-ecc6949a1cd4",
   "metadata": {},
   "source": [
    "<font size = 3><div style=\"text-align: justify\">**Изменение типа данных:**</div></font>"
   ]
  },
  {
   "cell_type": "code",
   "execution_count": 91,
   "id": "c938d0f2-826f-48ea-b338-f74a6676cc1a",
   "metadata": {},
   "outputs": [
    {
     "data": {
      "text/plain": [
       "list"
      ]
     },
     "execution_count": 91,
     "metadata": {},
     "output_type": "execute_result"
    }
   ],
   "source": [
    "a = [1, 2, 3, 4, 5]\n",
    "type(a)"
   ]
  },
  {
   "cell_type": "code",
   "execution_count": 93,
   "id": "4fa488e3-a894-473e-b312-f83e934e224b",
   "metadata": {},
   "outputs": [
    {
     "data": {
      "text/plain": [
       "str"
      ]
     },
     "execution_count": 93,
     "metadata": {},
     "output_type": "execute_result"
    }
   ],
   "source": [
    "a = [1, 2, 3, 4, 5]\n",
    "type(str(a))"
   ]
  },
  {
   "cell_type": "code",
   "execution_count": 100,
   "id": "5df97018-4a80-4f2e-971e-c09f11be85f6",
   "metadata": {},
   "outputs": [
    {
     "data": {
      "text/plain": [
       "0    27\n",
       "1    31\n",
       "2    38\n",
       "3    40\n",
       "4    44\n",
       "Name: оплощадь, dtype: int64"
      ]
     },
     "execution_count": 100,
     "metadata": {},
     "output_type": "execute_result"
    }
   ],
   "source": [
    "df['оплощадь'].astype(int).head(5)"
   ]
  },
  {
   "cell_type": "markdown",
   "id": "7a3c5fc1-d749-4e31-9a54-78da0a7955c3",
   "metadata": {},
   "source": [
    "<font size = 3><div style=\"text-align: justify\">**Изменение классов по категориальному фактору:**</div></font>"
   ]
  },
  {
   "cell_type": "code",
   "execution_count": null,
   "id": "07babbe9-275a-4f91-a016-e9c34e5ea20d",
   "metadata": {},
   "outputs": [],
   "source": [
    "df_ts = df['Тип санузла'].map({' совмещенный' : ' совмещенный', ' раздельный' : ' раздельный',\n",
    "                             ' совмещенный, раздельный' : ' совмещенный'})\n",
    "df['Тип санузла'] = df_ts\n",
    "df"
   ]
  },
  {
   "cell_type": "markdown",
   "id": "ffff7e46-d089-4397-8007-367dbffb64a3",
   "metadata": {},
   "source": [
    "<font size = 3><div style=\"text-align: justify\">**Перевод категориального бинарного признака в число:**</div></font>"
   ]
  },
  {
   "cell_type": "code",
   "execution_count": 7,
   "id": "052ba421-c3e2-4e73-b9f5-5715b4b1b6a6",
   "metadata": {},
   "outputs": [
    {
     "data": {
      "text/plain": [
       "0    0\n",
       "1    0\n",
       "2    0\n",
       "3    0\n",
       "4    0\n",
       "5    0\n",
       "6    0\n",
       "7    0\n",
       "8    0\n",
       "9    0\n",
       "Name: Вид_1, dtype: int64"
      ]
     },
     "execution_count": 7,
     "metadata": {},
     "output_type": "execute_result"
    }
   ],
   "source": [
    "(df['Вид_1'] == 'есть').astype(int).head(10)"
   ]
  },
  {
   "cell_type": "markdown",
   "id": "ecb78257-ffdf-40b3-be56-82b39ebc3d56",
   "metadata": {},
   "source": [
    "<font size = 3><div style=\"text-align: justify\">**Переместить столбик на другое место в таблице:**</div></font>"
   ]
  },
  {
   "cell_type": "code",
   "execution_count": null,
   "id": "007ae41c-f0e9-4963-8885-88b7463f958b",
   "metadata": {},
   "outputs": [],
   "source": [
    "index = df_first.index\n",
    "df_first.insert(0, 'index', index)\n",
    "df_first"
   ]
  },
  {
   "cell_type": "code",
   "execution_count": null,
   "id": "2c7eb07f-b4c5-4bf8-9aea-0a6c114614ab",
   "metadata": {},
   "outputs": [],
   "source": []
  },
  {
   "cell_type": "code",
   "execution_count": null,
   "id": "7e004649-7082-43a7-8251-bb3822592dd9",
   "metadata": {},
   "outputs": [],
   "source": []
  },
  {
   "cell_type": "code",
   "execution_count": null,
   "id": "58280197-9330-4a27-9e53-a3861fb52c65",
   "metadata": {},
   "outputs": [],
   "source": []
  }
 ],
 "metadata": {
  "kernelspec": {
   "display_name": "Python 3",
   "language": "python",
   "name": "python3"
  },
  "language_info": {
   "codemirror_mode": {
    "name": "ipython",
    "version": 3
   },
   "file_extension": ".py",
   "mimetype": "text/x-python",
   "name": "python",
   "nbconvert_exporter": "python",
   "pygments_lexer": "ipython3",
   "version": "3.7.6"
  }
 },
 "nbformat": 4,
 "nbformat_minor": 5
}
