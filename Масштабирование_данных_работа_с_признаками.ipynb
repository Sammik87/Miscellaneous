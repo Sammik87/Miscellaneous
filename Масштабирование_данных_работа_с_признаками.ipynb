{
 "cells": [
  {
   "cell_type": "markdown",
   "id": "a92c40b7",
   "metadata": {},
   "source": [
    "# Стандартизация и нормализация данных"
   ]
  },
  {
   "cell_type": "code",
   "execution_count": 9,
   "id": "ec58359d",
   "metadata": {},
   "outputs": [],
   "source": [
    "# необходимые библиотеки\n",
    "import pandas as pd\n",
    "import numpy as np\n",
    "\n",
    "from sklearn.preprocessing import LabelEncoder\n",
    "from sklearn.preprocessing import OneHotEncoder\n",
    "\n",
    "from sklearn.preprocessing import StandardScaler, MinMaxScaler, RobustScaler, normalize, MaxAbsScaler, PowerTransformer, QuantileTransformer\n",
    "from sklearn.decomposition import PCA, _pca"
   ]
  },
  {
   "cell_type": "markdown",
   "id": "87d38a49",
   "metadata": {},
   "source": [
    "# Нормализация данных (MinMaxScaler)"
   ]
  },
  {
   "cell_type": "code",
   "execution_count": null,
   "id": "494ba537",
   "metadata": {},
   "outputs": [],
   "source": [
    "# от значения отнимает минимум и делит на максимум минус минимум - x * = (x-min) / (max-min) \n",
    "# Недостатки : Чувствительна к выбросам.\n",
    "\n",
    "scaler_minmax = MinMaxScaler(feature_range = (0, 1))\n",
    "df_scaled_minmax = scaler_minmax.fit_transform(df)\n",
    "\n",
    "scaler_minmax = MinMaxScaler(feature_range = (-1, 1))\n",
    "df_scaled_minmax = scaler_minmax.fit_transform(df)\n",
    "\n",
    "# Описание : Преобразует данные с использованием логарифма для уменьшения влияния выбросов.\n",
    "df_log = np.log1p(df)\n",
    "scaler_minmax = MinMaxScaler(feature_range = (0, 1))\n",
    "df_scaled_minmax = scaler_minmax.fit_transform(df_log)\n",
    "\n",
    "# Когда использовать : Когда данные имеют известный диапазон и не содержат выбросов.\n",
    "# Примеры : Нейронные сети, алгоритмы, основанные на расстоянии (например, KNN)."
   ]
  },
  {
   "cell_type": "markdown",
   "id": "645c6cc5-f69d-4504-9992-cd8e89ee8c68",
   "metadata": {},
   "source": [
    "# Стандартизация данных (StandardScaler)"
   ]
  },
  {
   "cell_type": "code",
   "execution_count": null,
   "id": "4881e6f9-7f85-41fe-9c7f-70086b6f8b6e",
   "metadata": {},
   "outputs": [],
   "source": [
    "# (X−μ)/σ\n",
    "# Недостатки : Чувствительна к выбросам.\n",
    "\n",
    "scaler_standard = StandardScaler(feature_range = (0, 1))\n",
    "df_scaled_standard = scaler_minmax.fit_transform(df)\n",
    "\n",
    "# Когда использовать : Когда данные имеют нормальное распределение и не содержат выбросов.\n",
    "# Примеры : Линейные модели, SVM."
   ]
  },
  {
   "cell_type": "markdown",
   "id": "1f853056-c3ea-45cc-bc58-f25fa9174b42",
   "metadata": {},
   "source": [
    "# RobustScaler"
   ]
  },
  {
   "cell_type": "code",
   "execution_count": null,
   "id": "1030b555-e3a0-41da-b0d9-1a7572db5121",
   "metadata": {},
   "outputs": [],
   "source": [
    "# (X−median(X)) / IQR(X)\n",
    "# Преимущества : Устойчивость к выбросам.\n",
    "\n",
    "scaler = RobustScaler()\n",
    "X_robust = scaler.fit_transform(X)\n",
    "\n",
    "# Когда использовать : Когда данные содержат выбросы или асимметричное распределение.\n",
    "# Примеры : Линейные модели, SVM."
   ]
  },
  {
   "cell_type": "markdown",
   "id": "2880a61a-62df-453e-aadc-2c0befd82323",
   "metadata": {},
   "source": [
    "# MaxAbsScaler"
   ]
  },
  {
   "cell_type": "code",
   "execution_count": null,
   "id": "0e6f084d-6fd2-4c30-bdff-10b036328b08",
   "metadata": {},
   "outputs": [],
   "source": [
    "# X / max(∣X∣)\n",
    "# Недостатки : Чувствительна к выбросам.\n",
    "\n",
    "scaler = MaxAbsScaler()\n",
    "X_maxabs = scaler.fit_transform(X)\n",
    "\n",
    "# Когда использовать : Когда данные не содержат нуля и не требуют центрирования.\n",
    "# Примеры : Нейронные сети, алгоритмы, основанные на расстоянии (например, KNN)."
   ]
  },
  {
   "cell_type": "markdown",
   "id": "50938998-e9e0-4ef3-ae90-aef7cb467ecf",
   "metadata": {},
   "source": [
    "# PowerTransformer (Yeo-Johnson или Box-Cox Transformation)"
   ]
  },
  {
   "cell_type": "code",
   "execution_count": null,
   "id": "91293839-4820-46e8-bc69-2cb56cbcc294",
   "metadata": {},
   "outputs": [],
   "source": [
    "scaler = PowerTransformer(method = 'yeo-johnson')  # или method='box-cox'\n",
    "X_power_transformed = scaler.fit_transform(X)\n",
    "\n",
    "# Когда использовать : Когда данные имеют неположительные значения или асимметричное распределение.\n",
    "# Примеры : Линейные модели, SVM."
   ]
  },
  {
   "cell_type": "markdown",
   "id": "eb091ac6-829a-4a11-a0c3-ac9e2bd536e5",
   "metadata": {},
   "source": [
    "# QuantileTransformer"
   ]
  },
  {
   "cell_type": "code",
   "execution_count": null,
   "id": "9034d2e9-a07b-4ab0-861f-202bf497349d",
   "metadata": {},
   "outputs": [],
   "source": [
    "scaler = QuantileTransformer(output_distribution='normal', random_state=42)\n",
    "X_quantile_transformed = scaler.fit_transform(X)\n",
    "\n",
    "# Когда использовать : Когда данные имеют асимметричное распределение или требуют улучшения нормальности.\n",
    "# Примеры : Линейные модели, SVM, нейронные сети."
   ]
  },
  {
   "cell_type": "markdown",
   "id": "c81bb73c",
   "metadata": {},
   "source": [
    "# L1 нормализация"
   ]
  },
  {
   "cell_type": "code",
   "execution_count": null,
   "id": "59903e42",
   "metadata": {},
   "outputs": [],
   "source": [
    "data_normalized_l1 = normalize(df, norm = 'l1')"
   ]
  },
  {
   "cell_type": "markdown",
   "id": "b9928f05",
   "metadata": {},
   "source": [
    "# L2 нормализация"
   ]
  },
  {
   "cell_type": "code",
   "execution_count": null,
   "id": "c2c06794",
   "metadata": {},
   "outputs": [],
   "source": [
    "data_normalized_l2 = normalize(df, norm = 'l2')"
   ]
  },
  {
   "cell_type": "markdown",
   "id": "8131510b-8c60-47c8-9ef4-ddfb21bf8517",
   "metadata": {},
   "source": [
    "# Логарифмическое преобразование (Log Transformation)"
   ]
  },
  {
   "cell_type": "code",
   "execution_count": null,
   "id": "b6bab379-3058-42a2-bc53-a02b014f1261",
   "metadata": {},
   "outputs": [],
   "source": [
    "X['area_log'] = np.log1p(X['area']) # добавляет 1 к каждому значению, чтобы исключить 0\n",
    "X['area_log'] = np.log(X['area'])"
   ]
  },
  {
   "cell_type": "markdown",
   "id": "b16565d8-b811-429e-81cb-33a4c8dd5b6f",
   "metadata": {},
   "source": [
    "# Квадратичное преобразование, квадратный корень (Square Root Transformation)"
   ]
  },
  {
   "cell_type": "code",
   "execution_count": null,
   "id": "b0993138-6881-4d06-adac-dbb0103c9332",
   "metadata": {},
   "outputs": [],
   "source": [
    "X['area_sqrt'] = np.sqrt(X['area'])"
   ]
  },
  {
   "cell_type": "markdown",
   "id": "df4e54dc-d64c-45fd-a1a4-3ead3fc5ef19",
   "metadata": {},
   "source": [
    "# Кубическое преобразование, кубический корень (Cube Root Transformation)"
   ]
  },
  {
   "cell_type": "code",
   "execution_count": null,
   "id": "c3e779fe-1ccf-422a-b4be-92cdf3cf33d8",
   "metadata": {},
   "outputs": [],
   "source": [
    "X['area_cbrt'] = np.cbrt(X['area'])"
   ]
  },
  {
   "cell_type": "markdown",
   "id": "24139954-a835-47e9-99f9-ed33cb617ef5",
   "metadata": {},
   "source": [
    "# Возведение в квадрат/куб (Quadratic/Cubic Transformation)"
   ]
  },
  {
   "cell_type": "code",
   "execution_count": null,
   "id": "f2c36f6a-cb23-42e1-bda2-215e798fc7ea",
   "metadata": {},
   "outputs": [],
   "source": [
    "X['area_squared'] = X['area'] ** 2\n",
    "X['area_cubed'] = X['area'] ** 3"
   ]
  },
  {
   "cell_type": "markdown",
   "id": "016f487b-ef39-4e2d-9bab-967ffb45417c",
   "metadata": {},
   "source": [
    "# Полиномиальное преобразование (Polynomial Features)"
   ]
  },
  {
   "cell_type": "code",
   "execution_count": null,
   "id": "773b95ed-3a4d-4b88-8ede-d4c3d8793f4a",
   "metadata": {},
   "outputs": [],
   "source": [
    "from sklearn.preprocessing import PolynomialFeatures\n",
    "\n",
    "# Создаём полиномиальные признаки степени 2\n",
    "poly = PolynomialFeatures(degree=2, include_bias=False)\n",
    "X_poly = poly.fit_transform(X[['area', 'distance_to_metro']])\n",
    "\n",
    "# Преобразуем массив обратно в DataFrame с соответствующими именами колонок\n",
    "feature_names = poly.get_feature_names_out(['area', 'distance_to_metro'])\n",
    "X_poly_df = pd.DataFrame(X_poly, columns=feature_names)\n",
    "\n",
    "# Объединяем новые признаки с исходными данными\n",
    "X = pd.concat([X, X_poly_df], axis=1)"
   ]
  },
  {
   "cell_type": "markdown",
   "id": "aa2dd1b7-a4ae-489c-83c9-01134ba58b5d",
   "metadata": {},
   "source": [
    "# Синусоидальное / Косинусоидальное преобразование (Sine/Cosine Transformation)"
   ]
  },
  {
   "cell_type": "code",
   "execution_count": null,
   "id": "08e1f38b-94bc-47f7-8f1a-c3fd2afa48c0",
   "metadata": {},
   "outputs": [],
   "source": [
    "X['area_sin'] = np.sin(X['area'])\n",
    "X['area_cos'] = np.cos(X['area'])"
   ]
  },
  {
   "cell_type": "code",
   "execution_count": null,
   "id": "53c8b39b-cd6b-46de-8260-e2cd4331d2e6",
   "metadata": {},
   "outputs": [],
   "source": []
  },
  {
   "cell_type": "code",
   "execution_count": null,
   "id": "0dee1179-7b46-4932-a1f9-2888fa630165",
   "metadata": {},
   "outputs": [],
   "source": []
  },
  {
   "cell_type": "code",
   "execution_count": null,
   "id": "bb9c56ad-e798-4ca5-b41f-dbe9dcbcf1b2",
   "metadata": {},
   "outputs": [],
   "source": []
  },
  {
   "cell_type": "code",
   "execution_count": null,
   "id": "c8b6d961-dce7-4356-b417-7ed0b82fe18a",
   "metadata": {},
   "outputs": [],
   "source": []
  },
  {
   "cell_type": "markdown",
   "id": "8a9ae01c",
   "metadata": {},
   "source": [
    "## Обработка категориальных данных"
   ]
  },
  {
   "cell_type": "code",
   "execution_count": null,
   "id": "42514129",
   "metadata": {},
   "outputs": [],
   "source": [
    "# необходимые библиотеки\n",
    "from sklearn.preprocessing import LabelEncoder, OneHotEncoder"
   ]
  },
  {
   "cell_type": "code",
   "execution_count": null,
   "id": "40ba5666",
   "metadata": {},
   "outputs": [],
   "source": [
    "# переводит переменные в 0 и 1, а также числовые переменные в численные значения другого порядка\n",
    "encoder = LabelEncoder()\n",
    "df['CategoricalFare'] = encoder.fit_transform(df[['CategoricalFare']])\n",
    "df.head()"
   ]
  },
  {
   "cell_type": "code",
   "execution_count": null,
   "id": "9e7fdde8",
   "metadata": {},
   "outputs": [],
   "source": [
    "# переводит переменные в 0 и 1 и создает дополнительные столбцы\n",
    "enc = OneHotEncoder(handle_unknown='ignore')\n",
    "enc_df = pd.DataFrame(enc.fit_transform(df[['Embarked']]).toarray())\n",
    "\n",
    "df = df.join(enc_df)\n",
    "df = df.drop(['Embarked'], axis = 1)\n",
    "df.reset_index()\n",
    "df.head()"
   ]
  },
  {
   "cell_type": "code",
   "execution_count": null,
   "id": "7fe65874",
   "metadata": {},
   "outputs": [],
   "source": []
  },
  {
   "cell_type": "code",
   "execution_count": null,
   "id": "d461280c",
   "metadata": {},
   "outputs": [],
   "source": [
    "Работа с признаками:\n",
    "1. Label enc, OHE (один столбец убираем, заменяем на -1), mean enc\n",
    "2. ⁠ln, степень, корень, бок кокс\n",
    "\n",
    "4. ⁠Перемножение признаков.\n",
    "5. ⁠бининг или квантование \n",
    "\n",
    "Для каких алгоритмов важно преобразование? Древовидные алгоритмы (деревья и бустинги) устойчивы к масштабу.\n",
    "\n",
    "Изменение размерности:\n",
    "1. Исключение признаков.\n",
    "2. ⁠PCA, tsne, NCA\n",
    "3. ⁠lasso\n",
    "4. ⁠важность признаков"
   ]
  }
 ],
 "metadata": {
  "kernelspec": {
   "display_name": "Python 3 (ipykernel)",
   "language": "python",
   "name": "python3"
  },
  "language_info": {
   "codemirror_mode": {
    "name": "ipython",
    "version": 3
   },
   "file_extension": ".py",
   "mimetype": "text/x-python",
   "name": "python",
   "nbconvert_exporter": "python",
   "pygments_lexer": "ipython3",
   "version": "3.12.6"
  }
 },
 "nbformat": 4,
 "nbformat_minor": 5
}
