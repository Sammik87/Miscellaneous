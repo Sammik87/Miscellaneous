{
 "cells": [
  {
   "cell_type": "code",
   "execution_count": null,
   "id": "898da6fc",
   "metadata": {},
   "outputs": [],
   "source": [
    "import random\n",
    "random.choices([0, 1], weights=[3/5, 2/5])[0]\n",
    "#если возник вопрос как сгенерировать 0 (3/5) или 1 (2/5) с разной вероятностью, то на питоне можно сделать так"
   ]
  },
  {
   "cell_type": "code",
   "execution_count": null,
   "id": "c2582632",
   "metadata": {},
   "outputs": [],
   "source": [
    "#Если есть разный масштаб между признаками, то необходимо делать стандартизацию!!!"
   ]
  },
  {
   "cell_type": "code",
   "execution_count": 1,
   "id": "d9e7ee46",
   "metadata": {},
   "outputs": [
    {
     "name": "stdout",
     "output_type": "stream",
     "text": [
      "значение признака P для А по метрике Euclid: 4.13\n",
      "значение признака P для А по метрике Manhatten: 4.1\n",
      "значение признака P для А по метрике Max: 4.25\n"
     ]
    }
   ],
   "source": [
    "#Евклидово, Манхэттеновское, max-метрика\n",
    "import pandas as pd\n",
    "import numpy as np\n",
    "from numpy import NaN\n",
    "\n",
    "# Создадим датафрейм с пропущенным значением признака Р для объекта А\n",
    "df = pd.DataFrame({'P1':[3,5,4,5], 'P2':[4,5,3,4], 'P3':[5,5,3,3], 'P4':[3,4,2,3], 'P':[4,3,5,NaN]}, index=['A1', 'A2', 'A3', 'A'])\n",
    "\n",
    "# Посчитаем метрики\n",
    "dict_metrics = {'A1':[], 'A2':[], 'A3':[]}\n",
    "for i in df.index[:-1]:\n",
    "    dict_metrics[i].append(np.power((df.loc['A'][:-1]-df.loc[i][:-1]).pow(2).sum(), 0.5).round(2)) # считаем Евклидово расстояние\n",
    "    dict_metrics[i].append((df.loc['A'][:-1]-df.loc[i][:-1]).abs().sum()) # считаем Манхэттеновское расстояние\n",
    "    dict_metrics[i].append((df.loc['A'][:-1]-df.loc[i][:-1]).abs().max()) # считаем max-метрику\n",
    "\n",
    "metrics = pd.DataFrame(dict_metrics, index=['Euclid', 'Manhatten', 'Max'])\n",
    "\n",
    "# Считаем варианты значений для каждой метрики\n",
    "dict_value = {'Euclid':[], 'Manhatten':[], 'Max':[]}\n",
    "for i in metrics.index:\n",
    "    norm_mul = (1/((1/metrics.loc[i]).sum())) # нормирующий множитель\n",
    "    similarity = ((df.loc[:]['P'][:-1]/metrics.loc[i]).sum()) # значение признака * мера близости(=величина, обратно пропорциональная мере расстояния)\n",
    "    value_P = (norm_mul*similarity).round(2)\n",
    "    dict_value[i].append(value_P)\n",
    "    print(f'значение признака P для А по метрике {i}: {value_P}')"
   ]
  },
  {
   "cell_type": "code",
   "execution_count": 2,
   "id": "75e1ee0f",
   "metadata": {},
   "outputs": [
    {
     "data": {
      "text/html": [
       "<div>\n",
       "<style scoped>\n",
       "    .dataframe tbody tr th:only-of-type {\n",
       "        vertical-align: middle;\n",
       "    }\n",
       "\n",
       "    .dataframe tbody tr th {\n",
       "        vertical-align: top;\n",
       "    }\n",
       "\n",
       "    .dataframe thead th {\n",
       "        text-align: right;\n",
       "    }\n",
       "</style>\n",
       "<table border=\"1\" class=\"dataframe\">\n",
       "  <thead>\n",
       "    <tr style=\"text-align: right;\">\n",
       "      <th></th>\n",
       "      <th>P1</th>\n",
       "      <th>P2</th>\n",
       "      <th>P3</th>\n",
       "      <th>P4</th>\n",
       "      <th>P</th>\n",
       "    </tr>\n",
       "    <tr>\n",
       "      <th>Объекты</th>\n",
       "      <th></th>\n",
       "      <th></th>\n",
       "      <th></th>\n",
       "      <th></th>\n",
       "      <th></th>\n",
       "    </tr>\n",
       "  </thead>\n",
       "  <tbody>\n",
       "    <tr>\n",
       "      <th>A1</th>\n",
       "      <td>3</td>\n",
       "      <td>4</td>\n",
       "      <td>5</td>\n",
       "      <td>3</td>\n",
       "      <td>4.0</td>\n",
       "    </tr>\n",
       "    <tr>\n",
       "      <th>A2</th>\n",
       "      <td>5</td>\n",
       "      <td>5</td>\n",
       "      <td>5</td>\n",
       "      <td>4</td>\n",
       "      <td>3.0</td>\n",
       "    </tr>\n",
       "    <tr>\n",
       "      <th>A3</th>\n",
       "      <td>4</td>\n",
       "      <td>3</td>\n",
       "      <td>3</td>\n",
       "      <td>2</td>\n",
       "      <td>5.0</td>\n",
       "    </tr>\n",
       "    <tr>\n",
       "      <th>A</th>\n",
       "      <td>5</td>\n",
       "      <td>4</td>\n",
       "      <td>3</td>\n",
       "      <td>3</td>\n",
       "      <td>NaN</td>\n",
       "    </tr>\n",
       "  </tbody>\n",
       "</table>\n",
       "</div>"
      ],
      "text/plain": [
       "         P1  P2  P3  P4    P\n",
       "Объекты                     \n",
       "A1        3   4   5   3  4.0\n",
       "A2        5   5   5   4  3.0\n",
       "A3        4   3   3   2  5.0\n",
       "A         5   4   3   3  NaN"
      ]
     },
     "metadata": {},
     "output_type": "display_data"
    },
    {
     "data": {
      "text/plain": [
       "'метрики'"
      ]
     },
     "metadata": {},
     "output_type": "display_data"
    },
    {
     "data": {
      "text/html": [
       "<div>\n",
       "<style scoped>\n",
       "    .dataframe tbody tr th:only-of-type {\n",
       "        vertical-align: middle;\n",
       "    }\n",
       "\n",
       "    .dataframe tbody tr th {\n",
       "        vertical-align: top;\n",
       "    }\n",
       "\n",
       "    .dataframe thead th {\n",
       "        text-align: right;\n",
       "    }\n",
       "</style>\n",
       "<table border=\"1\" class=\"dataframe\">\n",
       "  <thead>\n",
       "    <tr style=\"text-align: right;\">\n",
       "      <th></th>\n",
       "      <th>euclidean</th>\n",
       "      <th>manhattan</th>\n",
       "      <th>max</th>\n",
       "    </tr>\n",
       "    <tr>\n",
       "      <th>Объекты</th>\n",
       "      <th></th>\n",
       "      <th></th>\n",
       "      <th></th>\n",
       "    </tr>\n",
       "  </thead>\n",
       "  <tbody>\n",
       "    <tr>\n",
       "      <th>A1</th>\n",
       "      <td>2.828427</td>\n",
       "      <td>4.0</td>\n",
       "      <td>2.0</td>\n",
       "    </tr>\n",
       "    <tr>\n",
       "      <th>A2</th>\n",
       "      <td>2.449490</td>\n",
       "      <td>4.0</td>\n",
       "      <td>2.0</td>\n",
       "    </tr>\n",
       "    <tr>\n",
       "      <th>A3</th>\n",
       "      <td>1.732051</td>\n",
       "      <td>3.0</td>\n",
       "      <td>1.0</td>\n",
       "    </tr>\n",
       "  </tbody>\n",
       "</table>\n",
       "</div>"
      ],
      "text/plain": [
       "         euclidean  manhattan  max\n",
       "Объекты                           \n",
       "A1        2.828427        4.0  2.0\n",
       "A2        2.449490        4.0  2.0\n",
       "A3        1.732051        3.0  1.0"
      ]
     },
     "metadata": {},
     "output_type": "display_data"
    },
    {
     "data": {
      "text/plain": [
       "'нормирующий множитель'"
      ]
     },
     "metadata": {},
     "output_type": "display_data"
    },
    {
     "data": {
      "text/plain": [
       "euclidean    0.746741\n",
       "manhattan    1.200000\n",
       "max          0.500000\n",
       "dtype: float64"
      ]
     },
     "metadata": {},
     "output_type": "display_data"
    },
    {
     "data": {
      "text/plain": [
       "'меры близости'"
      ]
     },
     "metadata": {},
     "output_type": "display_data"
    },
    {
     "data": {
      "text/html": [
       "<div>\n",
       "<style scoped>\n",
       "    .dataframe tbody tr th:only-of-type {\n",
       "        vertical-align: middle;\n",
       "    }\n",
       "\n",
       "    .dataframe tbody tr th {\n",
       "        vertical-align: top;\n",
       "    }\n",
       "\n",
       "    .dataframe thead th {\n",
       "        text-align: right;\n",
       "    }\n",
       "</style>\n",
       "<table border=\"1\" class=\"dataframe\">\n",
       "  <thead>\n",
       "    <tr style=\"text-align: right;\">\n",
       "      <th></th>\n",
       "      <th>euclidean</th>\n",
       "      <th>manhattan</th>\n",
       "      <th>max</th>\n",
       "    </tr>\n",
       "    <tr>\n",
       "      <th>Объекты</th>\n",
       "      <th></th>\n",
       "      <th></th>\n",
       "      <th></th>\n",
       "    </tr>\n",
       "  </thead>\n",
       "  <tbody>\n",
       "    <tr>\n",
       "      <th>A1</th>\n",
       "      <td>0.353553</td>\n",
       "      <td>0.250000</td>\n",
       "      <td>0.5</td>\n",
       "    </tr>\n",
       "    <tr>\n",
       "      <th>A2</th>\n",
       "      <td>0.408248</td>\n",
       "      <td>0.250000</td>\n",
       "      <td>0.5</td>\n",
       "    </tr>\n",
       "    <tr>\n",
       "      <th>A3</th>\n",
       "      <td>0.577350</td>\n",
       "      <td>0.333333</td>\n",
       "      <td>1.0</td>\n",
       "    </tr>\n",
       "  </tbody>\n",
       "</table>\n",
       "</div>"
      ],
      "text/plain": [
       "         euclidean  manhattan  max\n",
       "Объекты                           \n",
       "A1        0.353553   0.250000  0.5\n",
       "A2        0.408248   0.250000  0.5\n",
       "A3        0.577350   0.333333  1.0"
      ]
     },
     "metadata": {},
     "output_type": "display_data"
    },
    {
     "data": {
      "text/plain": [
       "euclidean    5.525710\n",
       "manhattan    3.416667\n",
       "max          8.500000\n",
       "dtype: float64"
      ]
     },
     "metadata": {},
     "output_type": "display_data"
    },
    {
     "data": {
      "text/plain": [
       "euclidean    4.126275\n",
       "manhattan    4.100000\n",
       "max          4.250000\n",
       "dtype: float64"
      ]
     },
     "metadata": {},
     "output_type": "display_data"
    }
   ],
   "source": [
    "import pandas as pd\n",
    "import numpy as np\n",
    "\n",
    "df = pd.DataFrame(\n",
    "    data = {\n",
    "        \"Объекты\": [\"A1\", \"A2\", \"A3\", \"A\"],\n",
    "        \"P1\": [3, 5, 4, 5],\n",
    "        \"P2\": [4, 5, 3, 4],\n",
    "        \"P3\": [5, 5, 3, 3],\n",
    "        \"P4\": [3, 4, 2, 3],\n",
    "        \"P\":  [4, 3, 5, None]\n",
    "    }\n",
    ")\n",
    "df.set_index(\"Объекты\", inplace=True)\n",
    "display(df)\n",
    "\n",
    "\n",
    "# Euclidean metric\n",
    "metrics = pd.DataFrame(data={\"euclidean\": np.sqrt(np.sum((df.loc['A'] - df.loc['A1':'A3'])**2, axis=1))})\n",
    "# manhattan metric\n",
    "metrics['manhattan'] = np.sum(np.abs(df.loc['A'] - df.loc['A1':'A3']), axis=1)\n",
    "# max\n",
    "metrics['max'] = np.max(\n",
    "    np.abs(df.loc['A'] - df.loc['A1': 'A3']),\n",
    "    axis=1\n",
    ")\n",
    "display('метрики', metrics)\n",
    "\n",
    "# нормирующий множитель\n",
    "coeff = 1 / np.sum(1 / metrics, axis=0)\n",
    "display('нормирующий множитель', coeff)\n",
    "\n",
    "\n",
    "# меры близости для метрик\n",
    "p1 = 1 / metrics    # расчет мер близости\n",
    "display('меры близости', p1) \n",
    "weights = p1.T @ df.loc['A1':'A3', 'P'] #умножение мер на значения известных призоков P и суммируем\n",
    "display(weights)\n",
    "unknown_feature = weights * coeff\n",
    "display(unknown_feature)"
   ]
  },
  {
   "cell_type": "code",
   "execution_count": 20,
   "id": "1b8961d3",
   "metadata": {},
   "outputs": [
    {
     "name": "stdout",
     "output_type": "stream",
     "text": [
      "3.84 3.83 3.82\n"
     ]
    }
   ],
   "source": [
    "from neulab.recover import replace_missing_with_distance\n",
    "\n",
    "#C:\\Users\\skapr\\AppData\\Roaming\\Python\\Python39\\site-packages\\neulab\n",
    "\n",
    "d = {'P1': [3, 5, 4, 5], 'P2': [4, 5, 3, 4], 'P3': [5, 5, 3, 3], 'P4': [3, 4, 2, 3], 'P5': [4, 3, 5, np.NaN]}\n",
    "df = pd.DataFrame(data = d)\n",
    "\n",
    "# Euclid\n",
    "#euclid_m = MetricRestore(df, row_start=0, row_end=9, metric='euclid')\n",
    "euclid_m, d_e = replace_missing_with_distance(df, metric = 'euclidean')\n",
    "# Manhattan\n",
    "mnht_m, d_mn = replace_missing_with_distance(df, metric = 'manhattan')\n",
    "# Max\n",
    "mx_m, d_mx = replace_missing_with_distance(df, metric = 'max')\n",
    "\n",
    "print(d_e, d_mn, d_mx)"
   ]
  },
  {
   "cell_type": "code",
   "execution_count": 38,
   "id": "1972b6da",
   "metadata": {},
   "outputs": [],
   "source": [
    "def replace_missing_with_corrcoef(*vectors):\n",
    "    # Combine the input vectors into a single 2D array\n",
    "    if len(vectors) > 1:\n",
    "        vector = np.vstack(vectors)\n",
    "    else:\n",
    "        vector = np.array(vectors)[0]\n",
    "\n",
    "    missing_values = np.isnan(vector)\n",
    "    num_missing_values = np.count_nonzero(missing_values)\n",
    "    if num_missing_values == len(vector):\n",
    "        raise ValueError(\"All values in vector are missing.\")\n",
    "        \n",
    "    # Assuming that missing values are represented by NaNs\n",
    "    missing_mask = np.isnan(vector)\n",
    "    missing_indices = np.where(missing_mask)[0]\n",
    "    nonmissing_indices = np.where(~missing_mask)[0]\n",
    "    \n",
    "    if len(missing_indices) == 0:\n",
    "        # If there are no non-missing values, return the input vector and NaN correlation\n",
    "        return vector, np.nan\n",
    "    \n",
    "    # Calculate the correlation coefficient between non-missing values and missing indices\n",
    "    corr_coef = np.corrcoef(nonmissing_indices, vector[nonmissing_indices])\n",
    "    \n",
    "    if np.isnan(corr_coef):\n",
    "        # If the correlation coefficient is NaN, return the input vector and NaN correlation\n",
    "        return vector, np.nan\n",
    "    \n",
    "    # Calculate the new values for missing indices using the correlation coefficient\n",
    "    new_values = (missing_indices - nonmissing_indices.mean()) * corr_coef + vector[nonmissing_indices].mean()\n",
    "    \n",
    "    # Replace the missing values with the new values\n",
    "    new_vector = vector.copy()\n",
    "    new_vector[missing_mask] = new_values\n",
    "    \n",
    "    return new_vector, round(corr_coef, 6)"
   ]
  },
  {
   "cell_type": "code",
   "execution_count": null,
   "id": "1ea882a3",
   "metadata": {},
   "outputs": [],
   "source": []
  },
  {
   "cell_type": "code",
   "execution_count": 22,
   "id": "d4aaf0bf",
   "metadata": {},
   "outputs": [],
   "source": [
    "from sklearn.preprocessing import StandardScaler\n",
    "\n",
    "def recover_by_metric(data, metric):\n",
    "    data_scaled = StandardScaler().fit_transform(data.values)\n",
    "    clear_data = data_scaled[~np.isnan(data_scaled).any(axis=1)]\n",
    "    clear_data_origin = data[~data.isna().any(axis=1)]\n",
    "    nan_data = data_scaled[np.isnan(data_scaled).any(axis=1)]\n",
    "    nan_data_origin = data[data.isna().any(axis=1)]\n",
    "    recovered_data = np.zeros(nan_data.shape)\n",
    "    for i, nan_row in enumerate(nan_data):\n",
    "        clear_indices = np.where(~np.isnan(nan_row))[0]\n",
    "        metrics = np.array([metric(obj[clear_indices], nan_row[clear_indices]) for obj in clear_data])\n",
    "        args = np.argsort(metrics)\n",
    "        if metrics[args[0]] == 0:\n",
    "            recovered_data[i, :] = clear_data_origin.iloc[args[:np.sum(metrics == 0)], :].values.mean(axis=0)\n",
    "        else:\n",
    "            recovered_data[i, :] = ((1 / metrics) @ clear_data_origin.values) / np.sum(1 / metrics)\n",
    "            recovered_data[i, clear_indices] = nan_data_origin.iloc[i, clear_indices]\n",
    "\n",
    "    return pd.DataFrame(np.concatenate([clear_data_origin.values, recovered_data], axis=0), \n",
    "                        columns=data.columns, index=data.index)"
   ]
  },
  {
   "cell_type": "code",
   "execution_count": null,
   "id": "ad300e83",
   "metadata": {},
   "outputs": [],
   "source": [
    "#В качестве metric функцию, измеряющую какую-нибудь метрику. Например, из библиотеки sklearn можно подгрузить функции\n",
    "\n",
    "from sklearn.metrics import mean_squared_error\n",
    "\n",
    "recover_by_metric(dataFrame, mean_squared_error)\n",
    "\n",
    "#Либо свою руками функцию можете написать\n",
    "def my_MSE(y_true, y_predicted):\n",
    "    return ((y_true - y_predicted) ** 2).mean()\n",
    "\n",
    "recover_by_metric(dataFrame, my_MSE)"
   ]
  },
  {
   "cell_type": "code",
   "execution_count": null,
   "id": "cec6f3be",
   "metadata": {},
   "outputs": [],
   "source": []
  },
  {
   "cell_type": "code",
   "execution_count": 40,
   "id": "396824ec",
   "metadata": {},
   "outputs": [
    {
     "name": "stdout",
     "output_type": "stream",
     "text": [
      "Значение признака, рассчитанное с помощью КК (по признакам) : 94.21\n",
      "Значение признака, рассчитанное с помощью КК (по объектам) : 92.09\n",
      "Значение признака, рассчитанное по метрике euclid: 92.61\n",
      "Значение признака, рассчитанное по метрике manhatten: 92.25\n",
      "Значение признака, рассчитанное по метрике max_metric: 92.79\n"
     ]
    }
   ],
   "source": [
    "import pandas as pd\n",
    "import numpy as np\n",
    "from numpy import NaN\n",
    "from sklearn import preprocessing\n",
    "\n",
    "df = pd.DataFrame({'bust':[99,89,91,91,86,97,NaN], \n",
    "              'waidt':[56,58,64,51,56,53,51], \n",
    "              'hips':[91,89,91,91,84,86,91], \n",
    "              'height':[160,157,165,170,157,175,165], \n",
    "              'weight':[58,48,54,54,44,56,54]}, index=['W1','W2','W3','W4','W5','W6','W7'])\n",
    "\n",
    "def pred_kk_by_feature(df, pred_object, pred_feature):\n",
    "    temp = df.corr()[pred_feature]\n",
    "    KK = temp[temp.index != pred_feature]\n",
    "    KK # КК для всех признаков\n",
    "\n",
    "    temp = df[df.index != pred_object].mean(axis=0)\n",
    "    mean_all_feature = temp[temp.index != pred_feature]\n",
    "    mean_all_feature # Среднее значение для всех признаков (кроме предсказываемого) по всем наблюдениям (кроме предсказываемого)\n",
    "\n",
    "    all_feature_pred_object = df.loc[pred_object][df.loc[pred_object].index != pred_feature] # Значения известных признаков предсказываемого наблюдения\n",
    "    dif_mult_kk = ((all_feature_pred_object-mean_all_feature)*KK).sum() # сумма произведений разности известных значений и средних, и КК\n",
    "    mean_feature_pred_object = df[pred_feature].mean() # среднее значение признака\n",
    "    pred_feature_object = mean_feature_pred_object+1/KK.abs().sum()*dif_mult_kk # получаем предсказание пропущенного значения\n",
    "\n",
    "    print(f'Значение признака, рассчитанное с помощью КК (по признакам) : {round(pred_feature_object, 2)}')\n",
    "    return(pred_feature_object)\n",
    "\n",
    "def pred_kk_by_object(df, pred_object, pred_feature):\n",
    "    temp = df.transpose().corr()[pred_object] # транспонируем данные для рассчета КК между объектами\n",
    "    KK = temp[temp.index != pred_object]\n",
    "    \n",
    "    temp = df.transpose()[df.transpose().index != pred_feature].mean(axis=0) # среднее значение всех признаков (кроме предсказываемого) в известных объектах\n",
    "    mean_all_object = temp[temp.index != pred_object]\n",
    "    \n",
    "    all_object_pred_feature = df.transpose().loc[pred_feature][df.transpose().loc[pred_feature].index != pred_object] # значения предсказываемого признака для известных объектов\n",
    "    dif_mult_kk = ((all_object_pred_feature-mean_all_object)*KK).sum() # сумма произведений разности известных значений и средних, и КК\n",
    "    norm_mult = 1/KK.abs().sum() # нормирующий множитель\n",
    "    mean_W = df.mean(axis=1)[pred_object] # среднее значение всех признаков для W7\n",
    "    \n",
    "    pred_feature_object = mean_W+norm_mult*dif_mult_kk # получаем предсказание пропущенного значения\n",
    "    \n",
    "    print(f'Значение признака, рассчитанное с помощью КК (по объектам) : {round(pred_feature_object, 2)}')\n",
    "    return(pred_feature_object)\n",
    "\n",
    "def pred_metric(metric_name, df, pred_object, pred_feature):\n",
    "    min_max_scaler = preprocessing.MinMaxScaler() # создаем объект нормализации\n",
    "    # затем вызываем метод fit_transform, передаем в него датафрейм с нужными колонками (преобразованный в массив), \n",
    "    # полученный массив преобразуем обратно в датафрейм и присваиваем его значению изначальных колок\n",
    "    df[df.columns[df.columns != pred_feature]] = pd.DataFrame(min_max_scaler.fit_transform(df.transpose()[df.transpose().index != pred_feature].transpose().values), columns = df.columns[df.columns != pred_feature], index = df.index)\n",
    "\n",
    "    temp = df.transpose()[pred_object] \n",
    "    feature_pred_object = temp[temp.index != pred_feature] # признаки для предсказываемого объекта\n",
    "\n",
    "    dict_metric = {} # создаем словарь метрик, преобразуем его в датафрейм\n",
    "    for name_object in df.index[df.index != pred_object]:\n",
    "        t = df.loc[name_object]\n",
    "        if metric_name == 'euclid':\n",
    "            dict_metric[name_object] = np.power((feature_pred_object - t[t.index != pred_feature]).pow(2).sum(), 0.5).round(2)\n",
    "        elif metric_name == 'manhatten':\n",
    "            dict_metric[name_object] = (feature_pred_object - t[t.index != pred_feature]).abs().sum()\n",
    "        else:\n",
    "            dict_metric[name_object] = (feature_pred_object - t[t.index != pred_feature]).abs().max()\n",
    "    metric = pd.DataFrame(data = dict_metric, index = [metric_name]).transpose()\n",
    "\n",
    "    temp = df.transpose()[df.transpose().index == pred_feature].transpose() \n",
    "    feature_other_objects = temp[temp.index != pred_object] # предсказываемый признак для других объектов\n",
    "\n",
    "    norm_mul = 1/((1/metric).sum()).item() # нормирующий множитель\n",
    "    similarity = (feature_other_objects.values/metric.values).sum() # значение признака * мера близости(=величина, обратно пропорциональная мере расстояния)\n",
    "    pred_feature_object = norm_mul*similarity\n",
    "    print(f'Значение признака, рассчитанное по метрике {metric_name}: {round(pred_feature_object, 2)}')\n",
    "    return pred_feature_object\n",
    "\n",
    "pred_object = 'W7'\n",
    "pred_feature = 'bust'\n",
    "\n",
    "methods = {'pred_kk_by_feature': pred_kk_by_feature(df, pred_object, pred_feature),\n",
    "           'pred_kk_by_object': pred_kk_by_object(df, pred_object, pred_feature), \n",
    "           'pred_metric_euclid': pred_metric('euclid', df, pred_object, pred_feature), \n",
    "           'pred_metric_manhatten': pred_metric('manhatten', df, pred_object, pred_feature), \n",
    "           'pred_metric_max_metric': pred_metric('max_metric', df, pred_object, pred_feature)} \n",
    "\n",
    "for method in methods.values():\n",
    "    method"
   ]
  },
  {
   "cell_type": "code",
   "execution_count": 41,
   "id": "8ffa0118",
   "metadata": {},
   "outputs": [
    {
     "data": {
      "text/plain": [
       "2.8284271247461903"
      ]
     },
     "execution_count": 41,
     "metadata": {},
     "output_type": "execute_result"
    }
   ],
   "source": [
    "from scipy.spatial import distance\n",
    "\n",
    "a = (0, 1, 2)\n",
    "b = (2, 1, 0)\n",
    "dst = distance.euclidean(a, b)\n",
    "dst"
   ]
  },
  {
   "cell_type": "code",
   "execution_count": 42,
   "id": "c003dc92",
   "metadata": {},
   "outputs": [
    {
     "data": {
      "text/plain": [
       "4"
      ]
     },
     "execution_count": 42,
     "metadata": {},
     "output_type": "execute_result"
    }
   ],
   "source": [
    "from scipy.spatial.distance import cityblock\n",
    "import pandas as pd\n",
    "\n",
    "a = (0, 1, 2)\n",
    "b = (2, 1, 0)\n",
    "dst = cityblock(a, b)\n",
    "dst"
   ]
  },
  {
   "cell_type": "code",
   "execution_count": null,
   "id": "a01e05a0",
   "metadata": {},
   "outputs": [],
   "source": [
    "import numpy as np\n",
    "from scipy.spatial.distance import pdist, squareform\n",
    "A = np.random.randint(-5, 5, [500, 3])\n",
    "D = squareform(pdist(A))\n",
    "N = np.max(D)\n",
    "I = np.argmax(D)\n",
    "I_row, I_col = np.unravel_index(I, D.shape)"
   ]
  },
  {
   "cell_type": "code",
   "execution_count": 43,
   "id": "b31d24cc",
   "metadata": {},
   "outputs": [
    {
     "name": "stdout",
     "output_type": "stream",
     "text": [
      "0.2, 0.0, 1.0, 0.4, 0.4, "
     ]
    }
   ],
   "source": [
    "p = [1,0,5,2,2]\n",
    "for i in p:\n",
    "    i = (i - min(p)) / (max(p) - min(p))\n",
    "    print(i, end=', ')"
   ]
  }
 ],
 "metadata": {
  "kernelspec": {
   "display_name": "Python 3 (ipykernel)",
   "language": "python",
   "name": "python3"
  },
  "language_info": {
   "codemirror_mode": {
    "name": "ipython",
    "version": 3
   },
   "file_extension": ".py",
   "mimetype": "text/x-python",
   "name": "python",
   "nbconvert_exporter": "python",
   "pygments_lexer": "ipython3",
   "version": "3.9.12"
  }
 },
 "nbformat": 4,
 "nbformat_minor": 5
}
